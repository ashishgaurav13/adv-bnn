{
 "cells": [
  {
   "cell_type": "code",
   "execution_count": 1,
   "metadata": {},
   "outputs": [],
   "source": [
    "import torch, torchvision\n",
    "import numpy as np\n",
    "import matplotlib.pyplot as plt\n",
    "import pyro\n",
    "import tqdm\n",
    "import os\n",
    "import common\n",
    "import torchvision.transforms as transforms\n",
    "from torch.utils.data.sampler import SubsetRandomSampler\n",
    "import torch.nn as nn\n",
    "from torch.optim import Adam, lr_scheduler"
   ]
  },
  {
   "cell_type": "code",
   "execution_count": 2,
   "metadata": {},
   "outputs": [],
   "source": [
    "# Reproducibility\n",
    "common.set_seed(1)"
   ]
  },
  {
   "cell_type": "code",
   "execution_count": 3,
   "metadata": {},
   "outputs": [],
   "source": [
    "# for GPU\n",
    "# CUDA settings\n",
    "device = torch.device(\"cuda:0\" if torch.cuda.is_available() else \"cpu\")"
   ]
  },
  {
   "cell_type": "code",
   "execution_count": 4,
   "metadata": {},
   "outputs": [],
   "source": [
    "layer_type = 'lrt'  # 'bbb' or 'lrt'\n",
    "activation_type = 'softplus'  # 'softplus' or 'relu'\n",
    "priors={\n",
    "    'prior_mu': 0,\n",
    "    'prior_sigma': 0.1,\n",
    "    'posterior_mu_initial': (0, 0.1),  # (mean, std) normal_\n",
    "    'posterior_rho_initial': (-5, 0.1),  # (mean, std) normal_\n",
    "}\n",
    "lr_start = 0.001\n",
    "num_workers = 1\n",
    "valid_size = 0.2\n",
    "batch_size = 256\n",
    "train_ens = 1\n",
    "valid_ens = 1\n",
    "beta_type = 0.1  \n",
    "transform_cifar100 = transforms.Compose([\n",
    "    transforms.ToTensor(),\n",
    "])\n",
    "outputs = 100     # for cifar100, output classes = 10\n",
    "inputs = 3       # for cifar100, color channels = 3\n",
    "modelname = 'alexnet-cifar100.pt'"
   ]
  },
  {
   "cell_type": "code",
   "execution_count": 5,
   "metadata": {},
   "outputs": [
    {
     "name": "stdout",
     "output_type": "stream",
     "text": [
      "Files already downloaded and verified\n"
     ]
    }
   ],
   "source": [
    "trainset = torchvision.datasets.CIFAR100(root='.', train=True, download=True, transform=transform_cifar100)\n",
    "num_train = len(trainset)\n",
    "indices = list(range(num_train))\n",
    "np.random.shuffle(indices)\n",
    "split = int(np.floor(valid_size * num_train))\n",
    "train_idx, valid_idx = indices[split:], indices[:split]\n",
    "train_sampler = SubsetRandomSampler(train_idx)\n",
    "valid_sampler = SubsetRandomSampler(valid_idx)\n",
    "train_loader = torch.utils.data.DataLoader(trainset, batch_size=batch_size, \n",
    "                                           sampler=train_sampler, num_workers=num_workers)\n",
    "valid_loader = torch.utils.data.DataLoader(trainset, batch_size=batch_size, \n",
    "                                           sampler=valid_sampler, num_workers=num_workers)"
   ]
  },
  {
   "cell_type": "code",
   "execution_count": 6,
   "metadata": {},
   "outputs": [],
   "source": [
    "class BBBAlexNet(common.ModuleWrapper):\n",
    "    '''The architecture of AlexNet with Bayesian Layers'''\n",
    "\n",
    "    def __init__(self, outputs, inputs, priors, layer_type='lrt', activation_type='softplus'):\n",
    "        super(BBBAlexNet, self).__init__()\n",
    "\n",
    "        self.num_classes = outputs\n",
    "        self.layer_type = layer_type\n",
    "        self.priors = priors\n",
    "\n",
    "        if layer_type=='lrt':\n",
    "            BBBLinear = common.layers.BBB_LRT_Linear\n",
    "            BBBConv2d = common.layers.BBB_LRT_Conv2d\n",
    "        elif layer_type=='bbb':\n",
    "            BBBLinear = common.layers.BBB_Linear\n",
    "            BBBConv2d = common.layers.BBB_Conv2d\n",
    "        else:\n",
    "            raise ValueError(\"Undefined layer_type\")\n",
    "        \n",
    "        if activation_type=='softplus':\n",
    "            self.act = nn.Softplus\n",
    "        elif activation_type=='relu':\n",
    "            self.act = nn.ReLU\n",
    "        else:\n",
    "            raise ValueError(\"Only softplus or relu supported\")\n",
    "\n",
    "        self.conv1 = BBBConv2d(inputs, 64, 11, stride=4, padding=5, bias=True, priors=self.priors)\n",
    "        self.act1 = self.act()\n",
    "        self.pool1 = nn.MaxPool2d(kernel_size=2, stride=2)\n",
    "\n",
    "        self.conv2 = BBBConv2d(64, 192, 5, padding=2, bias=True, priors=self.priors)\n",
    "        self.act2 = self.act()\n",
    "        self.pool2 = nn.MaxPool2d(kernel_size=2, stride=2)\n",
    "\n",
    "        self.conv3 = BBBConv2d(192, 384, 3, padding=1, bias=True, priors=self.priors)\n",
    "        self.act3 = self.act()\n",
    "\n",
    "        self.conv4 = BBBConv2d(384, 256, 3, padding=1, bias=True, priors=self.priors)\n",
    "        self.act4 = self.act()\n",
    "\n",
    "        self.conv5 = BBBConv2d(256, 128, 3, padding=1, bias=True, priors=self.priors)\n",
    "        self.act5 = self.act()\n",
    "        self.pool3 = nn.MaxPool2d(kernel_size=2, stride=2)\n",
    "\n",
    "        self.flatten = common.layers.FlattenLayer(1 * 1 * 128)\n",
    "        self.classifier = BBBLinear(1 * 1 * 128, outputs, bias=True, priors=self.priors)"
   ]
  },
  {
   "cell_type": "code",
   "execution_count": 7,
   "metadata": {},
   "outputs": [],
   "source": [
    "# follows the procedure for sampling in the forward methods of BBBConv and \n",
    "# BBBLinear forward to create a fixed set of weights to use for the sampled model\n",
    "def sample_conv2d(bbb_layer):\n",
    "    conv_W_mu = bbb_layer.W_mu\n",
    "    conv_W_rho = bbb_layer.W_rho\n",
    "    conv_W_eps = torch.empty(conv_W_mu.size()).normal_(0,1).to(device)\n",
    "    conv_W_sigma = torch.log1p(torch.exp(conv_W_rho))\n",
    "    conv_weight = conv_W_mu + conv_W_eps * conv_W_sigma\n",
    "    if bbb_layer.use_bias:\n",
    "        conv_bias_mu = bbb_layer.bias_mu\n",
    "        conv_bias_rho = bbb_layer.bias_rho\n",
    "        conv_bias_eps = torch.empty(conv_bias_mu.size()).normal_(0,1).to(device)\n",
    "        conv_bias_sigma = torch.log1p(torch.exp(conv_bias_rho))\n",
    "        conv_bias = conv_bias_mu + conv_bias_eps * conv_bias_sigma\n",
    "    else:\n",
    "        conv_bias = None\n",
    "    return conv_weight.data, conv_bias.data\n",
    "\n",
    "def sample_linear(bbb_layer):\n",
    "        fc_W_mu = bbb_layer.W_mu\n",
    "        fc_W_rho = bbb_layer.W_rho\n",
    "        fc_W_eps = torch.empty(fc_W_mu.size()).normal_(0,1).to(device)\n",
    "        fc_W_sigma = torch.log1p(torch.exp(fc_W_rho))\n",
    "        fc_weight = fc_W_mu + fc_W_eps * fc_W_sigma\n",
    "        if bbb_layer.use_bias:\n",
    "            fc_bias_mu = bbb_layer.bias_mu\n",
    "            fc_bias_rho = bbb_layer.bias_rho\n",
    "            fc_bias_eps = torch.empty(fc_bias_mu.size()).normal_(0,1).to(device)\n",
    "            fc_bias_sigma = torch.log1p(torch.exp(fc_bias_rho))\n",
    "            fc_bias = fc_bias_mu + fc_bias_eps * fc_bias_sigma\n",
    "        else:\n",
    "            fc_bias = None\n",
    "        \n",
    "        return fc_weight.data, fc_bias.data\n",
    "\n",
    "class AlexNet(nn.Module):\n",
    "    \n",
    "    def __init__(self, outputs, inputs, layer_type='lrt', activation_type='softplus'):\n",
    "        '''\n",
    "        Base AlexNet model that matches the architecture of BayesianAlexNet with randomly \n",
    "        initialized weights\n",
    "        '''\n",
    "        super(AlexNet, self).__init__()\n",
    "        \n",
    "        # initialization follows the BBBAlexNet initialization, changing\n",
    "        # BBBLinear and BBBConv2D layers to nn.Linear and nn.Conv2D\n",
    "        \n",
    "        if activation_type == 'softplus':\n",
    "            self.act = nn.Softplus\n",
    "        elif activation_type == 'relu':\n",
    "            self.act = nn.ReLU\n",
    "        else:\n",
    "            raise ValueError(\"Only softplus or relu supported\")\n",
    "\n",
    "        self.conv1 = nn.Conv2d(inputs, 64, 11, stride=4, padding=5, bias=True)\n",
    "        self.act1 = self.act()\n",
    "        self.pool1 = nn.MaxPool2d(kernel_size=2, stride=2)\n",
    "\n",
    "        self.conv2 = nn.Conv2d(64, 192, 5, padding=2, bias=True)\n",
    "        self.act2 = self.act()\n",
    "        self.pool2 = nn.MaxPool2d(kernel_size=2, stride=2)\n",
    "\n",
    "        self.conv3 = nn.Conv2d(192,384,3, padding=1, bias=True)\n",
    "        self.act3 = self.act()\n",
    "\n",
    "        self.conv4 = nn.Conv2d(384,256,3, padding=1, bias=True)\n",
    "        self.act4 = self.act()\n",
    "        \n",
    "        self.conv5 = nn.Conv2d(256, 128, 3, padding=1, bias=True)\n",
    "        self.act5 = self.act()\n",
    "        self.pool3 = nn.MaxPool2d(kernel_size=2, stride=2)\n",
    "\n",
    "        # call x.view explicitly in forward\n",
    "        self.classifier = nn.Linear(1 * 1 * 128, outputs, bias=True)\n",
    "\n",
    "    def sample(self, bbbnet):\n",
    "        ### store activation function used by BNN, only relu and softplus  currently supported\n",
    "        self.act1 = bbbnet.act()\n",
    "        self.act2 = bbbnet.act()\n",
    "        self.act3 = bbbnet.act()\n",
    "        self.act4 = bbbnet.act()\n",
    "\n",
    "        ### maxpool\n",
    "        self.pool1 = nn.MaxPool2d(kernel_size=bbbnet.pool1.kernel_size, stride=bbbnet.pool1.stride)\n",
    "        self.pool2 = nn.MaxPool2d(kernel_size=bbbnet.pool2.kernel_size, stride=bbbnet.pool2.stride)\n",
    "        self.pool3 = nn.MaxPool2d(kernel_size=bbbnet.pool3.kernel_size, stride=bbbnet.pool3.stride)\n",
    "\n",
    "        ### Create Convolution layers\n",
    "        self.conv1 = nn.Conv2d(bbbnet.conv1.in_channels, bbbnet.conv1.out_channels, bbbnet.conv1.kernel_size,\n",
    "                                stride=bbbnet.conv1.stride, padding=bbbnet.conv1.padding, dilation=bbbnet.conv1.dilation,\n",
    "                                groups=bbbnet.conv1.groups)\n",
    "        \n",
    "        self.conv2 = nn.Conv2d(bbbnet.conv2.in_channels, bbbnet.conv2.out_channels, bbbnet.conv2.kernel_size,\n",
    "                        stride=bbbnet.conv2.stride, padding=bbbnet.conv2.padding, dilation=bbbnet.conv2.dilation,\n",
    "                        groups=bbbnet.conv2.groups)\n",
    "\n",
    "        self.conv3 = nn.Conv2d(bbbnet.conv3.in_channels, bbbnet.conv3.out_channels, bbbnet.conv3.kernel_size,\n",
    "                                stride=bbbnet.conv3.stride, padding=bbbnet.conv3.padding, dilation=bbbnet.conv3.dilation,\n",
    "                                groups=bbbnet.conv3.groups)\n",
    "        \n",
    "        self.conv4 = nn.Conv2d(bbbnet.conv4.in_channels, bbbnet.conv4.out_channels, bbbnet.conv4.kernel_size,\n",
    "                        stride=bbbnet.conv4.stride, padding=bbbnet.conv4.padding, dilation=bbbnet.conv4.dilation,\n",
    "                        groups=bbbnet.conv4.groups)\n",
    "\n",
    "        self.conv5 = nn.Conv2d(bbbnet.conv5.in_channels, bbbnet.conv5.out_channels, bbbnet.conv5.kernel_size,\n",
    "                        stride=bbbnet.conv5.stride, padding=bbbnet.conv5.padding, dilation=bbbnet.conv5.dilation,\n",
    "                        groups=bbbnet.conv5.groups)\n",
    "\n",
    "        # Sample convolutional layers\n",
    "        self.conv1.weight.data, self.conv1.bias.data = sample_conv2d(bbbnet.conv1)\n",
    "        self.conv2.weight.data, self.conv2.bias.data = sample_conv2d(bbbnet.conv2)\n",
    "        self.conv3.weight.data, self.conv3.bias.data = sample_conv2d(bbbnet.conv3)\n",
    "        self.conv4.weight.data, self.conv4.bias.data = sample_conv2d(bbbnet.conv4)\n",
    "        self.conv5.weight.data, self.conv5.bias.data = sample_conv2d(bbbnet.conv5)\n",
    "\n",
    "        ### Create Linear Layers\n",
    "        self.classifier = nn.Linear(bbbnet.classifier.in_features, bbbnet.classifier.out_features, bbbnet.classifier.use_bias)\n",
    "        self.classifier.weight.data, self.classifier.bias.data = sample_linear(bbbnet.classifier)            \n",
    "\n",
    "    def forward(self, x):\n",
    "\n",
    "        x = self.conv1(x)\n",
    "        x = self.act1(x)\n",
    "        x = self.pool1(x)\n",
    "\n",
    "        x = self.conv2(x)\n",
    "        x = self.act2(x)\n",
    "        x = self.pool2(x)\n",
    "        \n",
    "        x = self.conv3(x)\n",
    "        x = self.act3(x)\n",
    "        \n",
    "        x = self.conv4(x)\n",
    "        x = self.act4(x)\n",
    "\n",
    "        x = self.conv5(x)\n",
    "        x = self.act5(x)\n",
    "        x = self.pool3(x)\n",
    "\n",
    "        x = x.view(-1, 1 * 1 * 128)\n",
    "        x = self.classifier(x)\n",
    "        return x"
   ]
  },
  {
   "cell_type": "code",
   "execution_count": 8,
   "metadata": {},
   "outputs": [],
   "source": [
    "net = BBBAlexNet(outputs, inputs, priors, layer_type, activation_type).to(device)"
   ]
  },
  {
   "cell_type": "code",
   "execution_count": 9,
   "metadata": {},
   "outputs": [],
   "source": [
    "def train_and_save_models(epochs = 10, K = 100, modelname = \"model-cnn.pt\"):\n",
    "    if os.path.exists(modelname):\n",
    "        print(\"File exists\")\n",
    "        return\n",
    "    # Train with ELBO and Adam (Bayes by Backprop + LRT)\n",
    "    criterion = common.metrics.ELBO(len(trainset)).to(device)\n",
    "    optimizer = Adam(net.parameters(), lr=lr_start)\n",
    "    lr_sched = lr_scheduler.ReduceLROnPlateau(optimizer, patience=6, verbose=True)\n",
    "    for epoch in range(epochs):  # loop over the dataset multiple times\n",
    "        train_loss, train_acc, train_kl = common.train_model(net, optimizer, criterion, train_loader, \n",
    "                                                             num_ens=train_ens, beta_type=beta_type, epoch=epoch,\n",
    "                                                             num_epochs=epochs)\n",
    "        valid_loss, valid_acc = common.validate_model(net, criterion, valid_loader, num_ens=valid_ens, \n",
    "                                                      beta_type=beta_type, epoch=epoch, num_epochs=epochs)\n",
    "        lr_sched.step(valid_loss)\n",
    "        print('Epoch:%d, TrainLoss:%.3f, TrainAcc:%.3f, ValLoss:%.3f, ValAcc:%.3f, KL:%.3f' % (\n",
    "            epoch, train_loss, train_acc, valid_loss, valid_acc, train_kl))\n",
    "    # Sample k models from the posterior\n",
    "    nn_dicts = []\n",
    "    for i in range(K):\n",
    "        sample_model = AlexNet(outputs, inputs, layer_type, activation_type)\n",
    "        sample_model.sample(net)\n",
    "        nn_dicts += [sample_model.state_dict()]\n",
    "    # Save the models\n",
    "    torch.save(nn_dicts, modelname)\n",
    "    print(\"Saved %d models\" % K)"
   ]
  },
  {
   "cell_type": "code",
   "execution_count": 10,
   "metadata": {},
   "outputs": [],
   "source": [
    "def load_models(modelname, K = 100):\n",
    "    # Load the models\n",
    "    sampled_models = [AlexNet(outputs, inputs, layer_type, activation_type) for i in range(K)]\n",
    "    for net, state_dict in zip(sampled_models, torch.load(modelname)):\n",
    "        net.load_state_dict(state_dict)\n",
    "    print(\"Loaded %d sample models\" % K)\n",
    "    return sampled_models"
   ]
  },
  {
   "cell_type": "code",
   "execution_count": 11,
   "metadata": {},
   "outputs": [
    {
     "name": "stdout",
     "output_type": "stream",
     "text": [
      "Epoch:0, TrainLoss:37070614.306, TrainAcc:0.020, ValLoss:28249598.950, ValAcc:0.027, KL:365088772.280\n",
      "Epoch:1, TrainLoss:23648562.904, TrainAcc:0.034, ValLoss:19910546.000, ValAcc:0.042, KL:234236578.752\n",
      "Epoch:2, TrainLoss:17356923.809, TrainAcc:0.052, ValLoss:15144468.975, ValAcc:0.057, KL:171402256.204\n",
      "Epoch:3, TrainLoss:13491576.121, TrainAcc:0.063, ValLoss:12017108.250, ValAcc:0.067, KL:132830326.522\n",
      "Epoch:4, TrainLoss:10859257.350, TrainAcc:0.074, ValLoss:9806308.150, ValAcc:0.077, KL:106547534.166\n",
      "Epoch:5, TrainLoss:8955101.927, TrainAcc:0.078, ValLoss:8170029.062, ValAcc:0.081, KL:87530780.688\n",
      "Epoch:6, TrainLoss:7519434.293, TrainAcc:0.084, ValLoss:6915087.725, ValAcc:0.085, KL:73194027.618\n",
      "Epoch:7, TrainLoss:6403313.487, TrainAcc:0.086, ValLoss:5924436.763, ValAcc:0.092, KL:62049268.306\n",
      "Epoch:8, TrainLoss:5514202.051, TrainAcc:0.093, ValLoss:5127934.125, ValAcc:0.096, KL:53176913.274\n",
      "Epoch:9, TrainLoss:4793116.105, TrainAcc:0.095, ValLoss:4476531.237, ValAcc:0.096, KL:45976573.936\n",
      "Epoch:10, TrainLoss:4197571.892, TrainAcc:0.102, ValLoss:3934246.994, ValAcc:0.104, KL:40039208.917\n",
      "Epoch:11, TrainLoss:3700238.779, TrainAcc:0.105, ValLoss:3478406.106, ValAcc:0.099, KL:35078694.650\n",
      "Epoch:12, TrainLoss:3279870.831, TrainAcc:0.111, ValLoss:3091658.606, ValAcc:0.112, KL:30887168.879\n",
      "Epoch:13, TrainLoss:2921053.252, TrainAcc:0.113, ValLoss:2760480.600, ValAcc:0.110, KL:27311810.637\n",
      "Epoch:14, TrainLoss:2612570.602, TrainAcc:0.114, ValLoss:2473319.131, ValAcc:0.111, KL:24236438.688\n",
      "Epoch:15, TrainLoss:2344880.221, TrainAcc:0.118, ValLoss:2224464.244, ValAcc:0.112, KL:21572464.357\n",
      "Epoch:16, TrainLoss:2111484.675, TrainAcc:0.122, ValLoss:2006650.247, ValAcc:0.117, KL:19250119.720\n",
      "Epoch:17, TrainLoss:1907284.200, TrainAcc:0.124, ValLoss:1814478.694, ValAcc:0.118, KL:17214788.299\n",
      "Epoch:18, TrainLoss:1727224.033, TrainAcc:0.126, ValLoss:1644380.941, ValAcc:0.126, KL:15422707.949\n",
      "Epoch:19, TrainLoss:1567690.134, TrainAcc:0.130, ValLoss:1495399.972, ValAcc:0.132, KL:13837817.153\n",
      "Epoch:20, TrainLoss:1426507.598, TrainAcc:0.129, ValLoss:1361716.581, ValAcc:0.136, KL:12430888.911\n",
      "Epoch:21, TrainLoss:1300445.588, TrainAcc:0.132, ValLoss:1243070.475, ValAcc:0.133, KL:11177899.306\n",
      "Epoch:22, TrainLoss:1187644.240, TrainAcc:0.134, ValLoss:1136835.900, ValAcc:0.132, KL:10059026.771\n",
      "Epoch:23, TrainLoss:1087018.383, TrainAcc:0.138, ValLoss:1040909.255, ValAcc:0.140, KL:9057459.873\n",
      "Epoch:24, TrainLoss:996561.213, TrainAcc:0.138, ValLoss:957594.113, ValAcc:0.135, KL:8159108.525\n",
      "Epoch:25, TrainLoss:915201.855, TrainAcc:0.142, ValLoss:880126.555, ValAcc:0.135, KL:7351791.395\n",
      "Epoch:26, TrainLoss:841690.504, TrainAcc:0.143, ValLoss:810449.047, ValAcc:0.135, KL:6624628.717\n",
      "Epoch:27, TrainLoss:775674.180, TrainAcc:0.146, ValLoss:745844.344, ValAcc:0.142, KL:5969366.742\n",
      "Epoch:28, TrainLoss:715820.307, TrainAcc:0.150, ValLoss:690159.322, ValAcc:0.142, KL:5377895.863\n",
      "Epoch:29, TrainLoss:662176.788, TrainAcc:0.149, ValLoss:640200.195, ValAcc:0.136, KL:4843857.025\n",
      "Epoch:30, TrainLoss:613439.848, TrainAcc:0.150, ValLoss:593112.030, ValAcc:0.145, KL:4361587.970\n",
      "Epoch:31, TrainLoss:568843.471, TrainAcc:0.154, ValLoss:551933.262, ValAcc:0.146, KL:3925294.823\n",
      "Epoch:32, TrainLoss:528737.124, TrainAcc:0.155, ValLoss:513084.369, ValAcc:0.148, KL:3530862.291\n",
      "Epoch:33, TrainLoss:492330.798, TrainAcc:0.159, ValLoss:479205.185, ValAcc:0.146, KL:3174082.196\n",
      "Epoch:34, TrainLoss:459365.303, TrainAcc:0.159, ValLoss:447487.386, ValAcc:0.147, KL:2851550.822\n",
      "Epoch:35, TrainLoss:429808.762, TrainAcc:0.162, ValLoss:420230.741, ValAcc:0.158, KL:2559869.774\n",
      "Epoch:36, TrainLoss:402964.584, TrainAcc:0.164, ValLoss:393635.224, ValAcc:0.158, KL:2296687.177\n",
      "Epoch:37, TrainLoss:378846.145, TrainAcc:0.167, ValLoss:370855.955, ValAcc:0.160, KL:2059070.314\n",
      "Epoch:38, TrainLoss:356766.520, TrainAcc:0.168, ValLoss:350993.209, ValAcc:0.159, KL:1844524.640\n",
      "Epoch:39, TrainLoss:336788.761, TrainAcc:0.167, ValLoss:331256.602, ValAcc:0.158, KL:1651087.278\n",
      "Epoch:40, TrainLoss:318341.500, TrainAcc:0.173, ValLoss:313073.385, ValAcc:0.170, KL:1476974.006\n",
      "Epoch:41, TrainLoss:302359.959, TrainAcc:0.176, ValLoss:297593.165, ValAcc:0.168, KL:1320470.260\n",
      "Epoch:42, TrainLoss:287344.935, TrainAcc:0.177, ValLoss:285046.392, ValAcc:0.171, KL:1179890.666\n",
      "Epoch:43, TrainLoss:274555.917, TrainAcc:0.180, ValLoss:271571.868, ValAcc:0.176, KL:1053918.980\n",
      "Epoch:44, TrainLoss:262576.805, TrainAcc:0.182, ValLoss:261423.452, ValAcc:0.174, KL:941135.498\n",
      "Epoch:45, TrainLoss:251989.517, TrainAcc:0.185, ValLoss:251148.220, ValAcc:0.170, KL:840817.882\n",
      "Epoch:46, TrainLoss:242143.334, TrainAcc:0.186, ValLoss:242927.330, ValAcc:0.173, KL:751358.726\n",
      "Epoch:47, TrainLoss:233862.025, TrainAcc:0.189, ValLoss:235359.233, ValAcc:0.172, KL:672045.801\n",
      "Epoch:48, TrainLoss:226239.008, TrainAcc:0.191, ValLoss:227182.702, ValAcc:0.184, KL:601549.228\n",
      "Epoch:49, TrainLoss:219424.397, TrainAcc:0.193, ValLoss:221310.614, ValAcc:0.177, KL:539469.785\n",
      "Epoch:50, TrainLoss:213421.915, TrainAcc:0.194, ValLoss:216052.585, ValAcc:0.183, KL:484834.250\n",
      "Epoch:51, TrainLoss:208242.077, TrainAcc:0.195, ValLoss:210111.720, ValAcc:0.189, KL:436897.757\n",
      "Epoch:52, TrainLoss:203368.840, TrainAcc:0.198, ValLoss:206131.522, ValAcc:0.180, KL:395285.097\n",
      "Epoch:53, TrainLoss:199090.924, TrainAcc:0.201, ValLoss:201780.270, ValAcc:0.196, KL:358961.978\n",
      "Epoch:54, TrainLoss:195276.178, TrainAcc:0.203, ValLoss:199135.905, ValAcc:0.196, KL:327361.105\n",
      "Epoch:55, TrainLoss:192251.634, TrainAcc:0.204, ValLoss:197217.857, ValAcc:0.185, KL:300269.565\n",
      "Epoch:56, TrainLoss:189385.930, TrainAcc:0.206, ValLoss:194822.822, ValAcc:0.184, KL:276876.921\n",
      "Epoch:57, TrainLoss:186970.528, TrainAcc:0.207, ValLoss:192936.046, ValAcc:0.190, KL:257180.293\n",
      "Epoch:58, TrainLoss:184754.191, TrainAcc:0.211, ValLoss:189999.207, ValAcc:0.196, KL:240343.269\n",
      "Epoch:59, TrainLoss:182837.502, TrainAcc:0.214, ValLoss:189319.687, ValAcc:0.199, KL:226237.436\n",
      "Epoch:60, TrainLoss:181447.717, TrainAcc:0.213, ValLoss:185558.230, ValAcc:0.201, KL:214273.862\n",
      "Epoch:61, TrainLoss:179855.557, TrainAcc:0.214, ValLoss:185476.701, ValAcc:0.197, KL:204601.438\n",
      "Epoch:62, TrainLoss:178263.988, TrainAcc:0.215, ValLoss:185364.043, ValAcc:0.205, KL:196486.277\n",
      "Epoch:63, TrainLoss:177590.716, TrainAcc:0.216, ValLoss:183711.943, ValAcc:0.203, KL:190119.020\n",
      "Epoch:64, TrainLoss:176697.212, TrainAcc:0.218, ValLoss:182223.656, ValAcc:0.208, KL:184833.731\n",
      "Epoch:65, TrainLoss:175747.544, TrainAcc:0.221, ValLoss:182705.864, ValAcc:0.205, KL:180517.936\n",
      "Epoch:66, TrainLoss:174884.307, TrainAcc:0.224, ValLoss:182685.385, ValAcc:0.196, KL:177156.311\n",
      "Epoch:67, TrainLoss:174367.971, TrainAcc:0.225, ValLoss:180785.659, ValAcc:0.213, KL:174546.703\n",
      "Epoch:68, TrainLoss:173606.414, TrainAcc:0.229, ValLoss:181074.699, ValAcc:0.214, KL:172577.489\n",
      "Epoch:69, TrainLoss:172669.880, TrainAcc:0.230, ValLoss:180482.497, ValAcc:0.210, KL:171184.195\n",
      "Epoch:70, TrainLoss:172887.845, TrainAcc:0.229, ValLoss:180477.565, ValAcc:0.204, KL:170384.919\n",
      "Epoch:71, TrainLoss:172244.676, TrainAcc:0.230, ValLoss:181030.195, ValAcc:0.217, KL:169915.876\n",
      "Epoch:72, TrainLoss:171921.203, TrainAcc:0.229, ValLoss:179960.968, ValAcc:0.218, KL:169487.720\n",
      "Epoch:73, TrainLoss:171572.946, TrainAcc:0.231, ValLoss:180374.597, ValAcc:0.206, KL:169481.374\n",
      "Epoch:74, TrainLoss:170928.873, TrainAcc:0.237, ValLoss:180265.709, ValAcc:0.210, KL:169773.618\n",
      "Epoch:75, TrainLoss:170614.326, TrainAcc:0.234, ValLoss:178833.675, ValAcc:0.224, KL:169795.161\n",
      "Epoch:76, TrainLoss:170715.632, TrainAcc:0.236, ValLoss:180249.198, ValAcc:0.214, KL:170628.453\n",
      "Epoch:77, TrainLoss:170063.984, TrainAcc:0.239, ValLoss:178949.170, ValAcc:0.215, KL:171103.050\n",
      "Epoch:78, TrainLoss:169815.608, TrainAcc:0.240, ValLoss:178926.273, ValAcc:0.218, KL:171653.632\n",
      "Epoch:79, TrainLoss:169652.148, TrainAcc:0.240, ValLoss:180085.911, ValAcc:0.215, KL:172265.813\n",
      "Epoch:80, TrainLoss:168905.192, TrainAcc:0.246, ValLoss:181159.707, ValAcc:0.212, KL:173092.149\n",
      "Epoch:81, TrainLoss:169085.554, TrainAcc:0.244, ValLoss:178371.695, ValAcc:0.220, KL:173984.822\n",
      "Epoch:82, TrainLoss:168737.171, TrainAcc:0.244, ValLoss:178375.605, ValAcc:0.219, KL:174858.874\n",
      "Epoch:83, TrainLoss:168409.220, TrainAcc:0.248, ValLoss:180836.889, ValAcc:0.214, KL:175594.995\n",
      "Epoch:84, TrainLoss:168316.394, TrainAcc:0.248, ValLoss:178653.289, ValAcc:0.224, KL:176543.697\n"
     ]
    },
    {
     "name": "stdout",
     "output_type": "stream",
     "text": [
      "Epoch:85, TrainLoss:168079.314, TrainAcc:0.250, ValLoss:178136.606, ValAcc:0.229, KL:177176.504\n",
      "Epoch:86, TrainLoss:167766.031, TrainAcc:0.250, ValLoss:178587.654, ValAcc:0.224, KL:178121.440\n",
      "Epoch:87, TrainLoss:167372.234, TrainAcc:0.252, ValLoss:180207.266, ValAcc:0.216, KL:178719.429\n",
      "Epoch:88, TrainLoss:167135.991, TrainAcc:0.254, ValLoss:178700.074, ValAcc:0.230, KL:179785.139\n",
      "Epoch:89, TrainLoss:167092.294, TrainAcc:0.253, ValLoss:178264.515, ValAcc:0.228, KL:180621.681\n",
      "Epoch:90, TrainLoss:166692.180, TrainAcc:0.254, ValLoss:177921.652, ValAcc:0.228, KL:181643.610\n",
      "Epoch:91, TrainLoss:166515.054, TrainAcc:0.256, ValLoss:178384.919, ValAcc:0.228, KL:182348.682\n",
      "Epoch:92, TrainLoss:165905.827, TrainAcc:0.259, ValLoss:179176.505, ValAcc:0.224, KL:183224.746\n",
      "Epoch:93, TrainLoss:166063.873, TrainAcc:0.260, ValLoss:178450.118, ValAcc:0.227, KL:184431.957\n",
      "Epoch:94, TrainLoss:166023.693, TrainAcc:0.262, ValLoss:177464.347, ValAcc:0.232, KL:185195.342\n",
      "Epoch:95, TrainLoss:165755.470, TrainAcc:0.261, ValLoss:177845.735, ValAcc:0.231, KL:186221.481\n",
      "Epoch:96, TrainLoss:165665.784, TrainAcc:0.260, ValLoss:178306.048, ValAcc:0.237, KL:187160.310\n",
      "Epoch:97, TrainLoss:165295.047, TrainAcc:0.262, ValLoss:179097.892, ValAcc:0.225, KL:187865.730\n",
      "Epoch:98, TrainLoss:164483.586, TrainAcc:0.265, ValLoss:176662.321, ValAcc:0.234, KL:188550.983\n",
      "Epoch:99, TrainLoss:164992.335, TrainAcc:0.265, ValLoss:177911.142, ValAcc:0.232, KL:189462.466\n",
      "Epoch:100, TrainLoss:164772.410, TrainAcc:0.267, ValLoss:178777.142, ValAcc:0.225, KL:190417.083\n",
      "Epoch:101, TrainLoss:164410.642, TrainAcc:0.267, ValLoss:178788.990, ValAcc:0.232, KL:191056.368\n",
      "Epoch:102, TrainLoss:164371.678, TrainAcc:0.270, ValLoss:181275.336, ValAcc:0.234, KL:191875.819\n",
      "Epoch:103, TrainLoss:163920.421, TrainAcc:0.271, ValLoss:178536.998, ValAcc:0.232, KL:192621.206\n",
      "Epoch:104, TrainLoss:163702.950, TrainAcc:0.272, ValLoss:179009.495, ValAcc:0.230, KL:193422.161\n",
      "Epoch   106: reducing learning rate of group 0 to 1.0000e-04.\n",
      "Epoch:105, TrainLoss:163935.391, TrainAcc:0.270, ValLoss:177629.466, ValAcc:0.239, KL:194308.322\n",
      "Epoch:106, TrainLoss:161649.013, TrainAcc:0.279, ValLoss:177840.507, ValAcc:0.240, KL:193999.644\n",
      "Epoch:107, TrainLoss:160626.339, TrainAcc:0.282, ValLoss:176153.025, ValAcc:0.245, KL:193108.672\n",
      "Epoch:108, TrainLoss:160331.792, TrainAcc:0.286, ValLoss:178096.724, ValAcc:0.239, KL:192575.043\n",
      "Epoch:109, TrainLoss:160611.857, TrainAcc:0.284, ValLoss:177279.401, ValAcc:0.236, KL:192145.014\n",
      "Epoch:110, TrainLoss:160592.190, TrainAcc:0.284, ValLoss:177197.054, ValAcc:0.240, KL:191835.952\n",
      "Epoch:111, TrainLoss:160284.091, TrainAcc:0.285, ValLoss:176127.918, ValAcc:0.242, KL:191468.332\n",
      "Epoch:112, TrainLoss:159882.433, TrainAcc:0.283, ValLoss:177148.667, ValAcc:0.247, KL:191241.153\n",
      "Epoch:113, TrainLoss:160127.529, TrainAcc:0.284, ValLoss:176789.729, ValAcc:0.240, KL:190952.005\n",
      "Epoch:114, TrainLoss:160105.635, TrainAcc:0.285, ValLoss:176526.945, ValAcc:0.245, KL:190818.525\n",
      "Epoch:115, TrainLoss:159967.642, TrainAcc:0.286, ValLoss:177315.304, ValAcc:0.242, KL:190634.904\n",
      "Epoch:116, TrainLoss:159952.128, TrainAcc:0.285, ValLoss:176861.555, ValAcc:0.241, KL:190488.469\n",
      "Epoch:117, TrainLoss:159655.878, TrainAcc:0.285, ValLoss:177429.958, ValAcc:0.233, KL:190379.063\n",
      "Epoch   119: reducing learning rate of group 0 to 1.0000e-05.\n",
      "Epoch:118, TrainLoss:159600.104, TrainAcc:0.283, ValLoss:176945.280, ValAcc:0.241, KL:190307.813\n",
      "Epoch:119, TrainLoss:159572.403, TrainAcc:0.285, ValLoss:177864.836, ValAcc:0.235, KL:190245.458\n",
      "Epoch:120, TrainLoss:159320.341, TrainAcc:0.283, ValLoss:176143.313, ValAcc:0.245, KL:190223.351\n",
      "Epoch:121, TrainLoss:159360.197, TrainAcc:0.287, ValLoss:176737.125, ValAcc:0.238, KL:190203.117\n",
      "Epoch:122, TrainLoss:159531.152, TrainAcc:0.286, ValLoss:176526.849, ValAcc:0.242, KL:190175.750\n",
      "Epoch:123, TrainLoss:159703.921, TrainAcc:0.285, ValLoss:176850.901, ValAcc:0.240, KL:190152.280\n",
      "Epoch:124, TrainLoss:159525.942, TrainAcc:0.286, ValLoss:176654.951, ValAcc:0.249, KL:190137.591\n",
      "Epoch   126: reducing learning rate of group 0 to 1.0000e-06.\n",
      "Epoch:125, TrainLoss:159571.703, TrainAcc:0.287, ValLoss:177003.134, ValAcc:0.240, KL:190113.729\n",
      "Epoch:126, TrainLoss:159459.537, TrainAcc:0.287, ValLoss:176522.874, ValAcc:0.243, KL:190099.405\n",
      "Epoch:127, TrainLoss:159453.533, TrainAcc:0.288, ValLoss:179577.150, ValAcc:0.233, KL:190099.313\n",
      "Epoch:128, TrainLoss:159157.554, TrainAcc:0.283, ValLoss:177729.877, ValAcc:0.238, KL:190097.237\n",
      "Epoch:129, TrainLoss:159341.504, TrainAcc:0.286, ValLoss:176766.285, ValAcc:0.244, KL:190094.731\n",
      "Epoch:130, TrainLoss:159394.454, TrainAcc:0.287, ValLoss:176992.941, ValAcc:0.242, KL:190094.152\n",
      "Epoch:131, TrainLoss:159237.668, TrainAcc:0.287, ValLoss:176319.990, ValAcc:0.236, KL:190093.789\n",
      "Epoch   133: reducing learning rate of group 0 to 1.0000e-07.\n",
      "Epoch:132, TrainLoss:159407.006, TrainAcc:0.284, ValLoss:177610.536, ValAcc:0.242, KL:190091.784\n",
      "Epoch:133, TrainLoss:159447.729, TrainAcc:0.288, ValLoss:176769.302, ValAcc:0.239, KL:190089.722\n",
      "Epoch:134, TrainLoss:159336.186, TrainAcc:0.286, ValLoss:178184.314, ValAcc:0.241, KL:190089.495\n",
      "Epoch:135, TrainLoss:159339.118, TrainAcc:0.286, ValLoss:177160.800, ValAcc:0.243, KL:190089.257\n",
      "Epoch:136, TrainLoss:159415.694, TrainAcc:0.286, ValLoss:176403.402, ValAcc:0.240, KL:190089.060\n",
      "Epoch:137, TrainLoss:159256.287, TrainAcc:0.287, ValLoss:177547.034, ValAcc:0.236, KL:190088.762\n",
      "Epoch:138, TrainLoss:159168.604, TrainAcc:0.286, ValLoss:177838.464, ValAcc:0.240, KL:190088.438\n",
      "Epoch   140: reducing learning rate of group 0 to 1.0000e-08.\n",
      "Epoch:139, TrainLoss:159017.552, TrainAcc:0.287, ValLoss:177549.302, ValAcc:0.240, KL:190087.976\n",
      "Epoch:140, TrainLoss:159253.469, TrainAcc:0.288, ValLoss:176491.850, ValAcc:0.242, KL:190087.827\n",
      "Epoch:141, TrainLoss:159356.822, TrainAcc:0.286, ValLoss:176218.130, ValAcc:0.238, KL:190087.796\n",
      "Epoch:142, TrainLoss:159218.960, TrainAcc:0.288, ValLoss:177929.467, ValAcc:0.232, KL:190087.768\n",
      "Epoch:143, TrainLoss:159254.447, TrainAcc:0.285, ValLoss:176410.359, ValAcc:0.240, KL:190087.750\n",
      "Epoch:144, TrainLoss:159324.923, TrainAcc:0.287, ValLoss:176725.205, ValAcc:0.247, KL:190087.727\n",
      "Epoch:145, TrainLoss:159704.731, TrainAcc:0.284, ValLoss:178089.953, ValAcc:0.242, KL:190087.719\n",
      "Epoch:146, TrainLoss:159704.157, TrainAcc:0.283, ValLoss:176930.838, ValAcc:0.238, KL:190087.710\n",
      "Epoch:147, TrainLoss:159270.777, TrainAcc:0.287, ValLoss:176820.255, ValAcc:0.241, KL:190087.691\n",
      "Epoch:148, TrainLoss:159128.224, TrainAcc:0.288, ValLoss:176956.877, ValAcc:0.241, KL:190087.672\n",
      "Epoch:149, TrainLoss:159638.410, TrainAcc:0.286, ValLoss:178738.613, ValAcc:0.237, KL:190087.655\n",
      "Epoch:150, TrainLoss:159459.496, TrainAcc:0.287, ValLoss:177225.548, ValAcc:0.235, KL:190087.634\n",
      "Epoch:151, TrainLoss:159426.377, TrainAcc:0.287, ValLoss:177427.774, ValAcc:0.241, KL:190087.620\n",
      "Epoch:152, TrainLoss:159204.900, TrainAcc:0.287, ValLoss:176775.514, ValAcc:0.235, KL:190087.584\n",
      "Epoch:153, TrainLoss:159253.294, TrainAcc:0.288, ValLoss:177220.419, ValAcc:0.236, KL:190087.556\n",
      "Epoch:154, TrainLoss:159285.443, TrainAcc:0.290, ValLoss:175798.446, ValAcc:0.245, KL:190087.538\n",
      "Epoch:155, TrainLoss:158969.170, TrainAcc:0.290, ValLoss:177967.296, ValAcc:0.232, KL:190087.500\n",
      "Epoch:156, TrainLoss:159382.694, TrainAcc:0.287, ValLoss:178360.121, ValAcc:0.238, KL:190087.457\n",
      "Epoch:157, TrainLoss:159522.911, TrainAcc:0.284, ValLoss:175915.831, ValAcc:0.248, KL:190087.426\n",
      "Epoch:158, TrainLoss:159424.934, TrainAcc:0.285, ValLoss:175606.982, ValAcc:0.241, KL:190087.407\n",
      "Epoch:159, TrainLoss:159382.355, TrainAcc:0.288, ValLoss:175534.940, ValAcc:0.247, KL:190087.380\n",
      "Epoch:160, TrainLoss:159233.586, TrainAcc:0.288, ValLoss:176878.830, ValAcc:0.241, KL:190087.364\n",
      "Epoch:161, TrainLoss:159751.171, TrainAcc:0.281, ValLoss:174907.807, ValAcc:0.244, KL:190087.337\n",
      "Epoch:162, TrainLoss:158994.252, TrainAcc:0.288, ValLoss:175657.059, ValAcc:0.238, KL:190087.334\n",
      "Epoch:163, TrainLoss:159333.252, TrainAcc:0.287, ValLoss:175676.923, ValAcc:0.245, KL:190087.304\n",
      "Epoch:164, TrainLoss:159150.452, TrainAcc:0.286, ValLoss:176510.142, ValAcc:0.239, KL:190087.280\n",
      "Epoch:165, TrainLoss:159444.376, TrainAcc:0.284, ValLoss:177615.591, ValAcc:0.242, KL:190087.253\n",
      "Epoch:166, TrainLoss:158900.808, TrainAcc:0.288, ValLoss:177547.577, ValAcc:0.234, KL:190087.213\n"
     ]
    },
    {
     "name": "stdout",
     "output_type": "stream",
     "text": [
      "Epoch:167, TrainLoss:158973.048, TrainAcc:0.287, ValLoss:176609.341, ValAcc:0.241, KL:190087.188\n",
      "Epoch:168, TrainLoss:159411.715, TrainAcc:0.286, ValLoss:177892.668, ValAcc:0.236, KL:190087.138\n",
      "Epoch:169, TrainLoss:159580.539, TrainAcc:0.286, ValLoss:176440.416, ValAcc:0.242, KL:190087.118\n",
      "Epoch:170, TrainLoss:159631.456, TrainAcc:0.285, ValLoss:176369.316, ValAcc:0.244, KL:190087.109\n",
      "Epoch:171, TrainLoss:159424.497, TrainAcc:0.284, ValLoss:177797.868, ValAcc:0.237, KL:190087.073\n",
      "Epoch:172, TrainLoss:159429.712, TrainAcc:0.287, ValLoss:176248.566, ValAcc:0.245, KL:190087.050\n",
      "Epoch:173, TrainLoss:159114.578, TrainAcc:0.288, ValLoss:177414.308, ValAcc:0.239, KL:190087.027\n",
      "Epoch:174, TrainLoss:159140.350, TrainAcc:0.289, ValLoss:177424.152, ValAcc:0.243, KL:190087.002\n",
      "Epoch:175, TrainLoss:159764.271, TrainAcc:0.284, ValLoss:176792.519, ValAcc:0.242, KL:190086.980\n",
      "Epoch:176, TrainLoss:158876.278, TrainAcc:0.288, ValLoss:176188.513, ValAcc:0.244, KL:190086.951\n",
      "Epoch:177, TrainLoss:159470.495, TrainAcc:0.286, ValLoss:177691.374, ValAcc:0.238, KL:190086.925\n",
      "Epoch:178, TrainLoss:159072.544, TrainAcc:0.288, ValLoss:176279.978, ValAcc:0.244, KL:190086.897\n",
      "Epoch:179, TrainLoss:159287.137, TrainAcc:0.285, ValLoss:177739.015, ValAcc:0.238, KL:190086.892\n",
      "Epoch:180, TrainLoss:159485.283, TrainAcc:0.286, ValLoss:179018.850, ValAcc:0.234, KL:190086.854\n",
      "Epoch:181, TrainLoss:159050.153, TrainAcc:0.285, ValLoss:176190.871, ValAcc:0.245, KL:190086.828\n",
      "Epoch:182, TrainLoss:159140.282, TrainAcc:0.287, ValLoss:177320.444, ValAcc:0.241, KL:190086.785\n",
      "Epoch:183, TrainLoss:159354.150, TrainAcc:0.286, ValLoss:176498.938, ValAcc:0.242, KL:190086.750\n",
      "Epoch:184, TrainLoss:159534.046, TrainAcc:0.288, ValLoss:175534.125, ValAcc:0.242, KL:190086.729\n",
      "Epoch:185, TrainLoss:159467.567, TrainAcc:0.286, ValLoss:176987.746, ValAcc:0.237, KL:190086.713\n",
      "Epoch:186, TrainLoss:159676.357, TrainAcc:0.285, ValLoss:177335.191, ValAcc:0.240, KL:190086.695\n",
      "Epoch:187, TrainLoss:159480.466, TrainAcc:0.287, ValLoss:176971.960, ValAcc:0.240, KL:190086.675\n",
      "Epoch:188, TrainLoss:159344.406, TrainAcc:0.286, ValLoss:177163.063, ValAcc:0.241, KL:190086.657\n",
      "Epoch:189, TrainLoss:159603.709, TrainAcc:0.285, ValLoss:177495.529, ValAcc:0.239, KL:190086.654\n",
      "Epoch:190, TrainLoss:158907.254, TrainAcc:0.290, ValLoss:176676.506, ValAcc:0.241, KL:190086.622\n",
      "Epoch:191, TrainLoss:159549.723, TrainAcc:0.287, ValLoss:176977.662, ValAcc:0.242, KL:190086.590\n",
      "Epoch:192, TrainLoss:159045.059, TrainAcc:0.287, ValLoss:176367.093, ValAcc:0.245, KL:190086.576\n",
      "Epoch:193, TrainLoss:159633.455, TrainAcc:0.286, ValLoss:176374.958, ValAcc:0.241, KL:190086.552\n",
      "Epoch:194, TrainLoss:159410.931, TrainAcc:0.284, ValLoss:177099.891, ValAcc:0.240, KL:190086.531\n",
      "Epoch:195, TrainLoss:159065.792, TrainAcc:0.290, ValLoss:176387.940, ValAcc:0.240, KL:190086.502\n",
      "Epoch:196, TrainLoss:159646.251, TrainAcc:0.285, ValLoss:176523.743, ValAcc:0.241, KL:190086.490\n",
      "Epoch:197, TrainLoss:159283.337, TrainAcc:0.286, ValLoss:178162.780, ValAcc:0.243, KL:190086.477\n",
      "Epoch:198, TrainLoss:159432.200, TrainAcc:0.285, ValLoss:178788.722, ValAcc:0.231, KL:190086.468\n",
      "Epoch:199, TrainLoss:159340.087, TrainAcc:0.288, ValLoss:177357.246, ValAcc:0.237, KL:190086.447\n",
      "Saved 100 models\n",
      "Loaded 100 sample models\n"
     ]
    }
   ],
   "source": [
    "train_and_save_models(epochs = 200, K = 100, modelname = modelname)\n",
    "sampled_models = load_models(modelname, K = 100)"
   ]
  },
  {
   "cell_type": "code",
   "execution_count": 12,
   "metadata": {},
   "outputs": [
    {
     "name": "stdout",
     "output_type": "stream",
     "text": [
      "Files already downloaded and verified\n"
     ]
    }
   ],
   "source": [
    "testset = torchvision.datasets.CIFAR100(root='.', train=False, download=True, transform=transform_cifar100)\n",
    "test_loader = torch.utils.data.DataLoader(testset, batch_size=1, num_workers=num_workers)"
   ]
  },
  {
   "cell_type": "code",
   "execution_count": 13,
   "metadata": {},
   "outputs": [],
   "source": [
    "# Get a batch and flatten the input\n",
    "images, targets = next(iter(test_loader))"
   ]
  },
  {
   "cell_type": "code",
   "execution_count": 14,
   "metadata": {},
   "outputs": [
    {
     "data": {
      "text/plain": [
       "tensor([49])"
      ]
     },
     "execution_count": 14,
     "metadata": {},
     "output_type": "execute_result"
    }
   ],
   "source": [
    "targets"
   ]
  },
  {
   "cell_type": "code",
   "execution_count": 15,
   "metadata": {},
   "outputs": [],
   "source": [
    "def forward_pass(model, images, loss_target = None):\n",
    "    output = model(images)\n",
    "    output = torch.nn.LogSoftmax(dim=-1)(output)\n",
    "    which_class = torch.argmax(output).item()\n",
    "    if loss_target:\n",
    "        loss, target = loss_target\n",
    "        loss(output, target).backward()\n",
    "    return which_class"
   ]
  },
  {
   "cell_type": "code",
   "execution_count": 16,
   "metadata": {},
   "outputs": [],
   "source": [
    "def otcm(images, eps, saliency):\n",
    "    return torch.clamp(images.clone()-eps*saliency, 0, 1)"
   ]
  },
  {
   "cell_type": "code",
   "execution_count": 17,
   "metadata": {},
   "outputs": [],
   "source": [
    "# How many models can an adversarial example fool?\n",
    "def how_many_can_it_fool(sampled_models, eps, saliency):\n",
    "    fool = 0\n",
    "    for k in range(len(sampled_models)):\n",
    "        # Forward pass on sampled model k\n",
    "        old_class = forward_pass(sampled_models[k], images)\n",
    "        # One step Target Class Method (OTCM); saliency is noise\n",
    "        new_images = otcm(images, eps, saliency)\n",
    "        # Forward pass again on adv. example\n",
    "        new_class = forward_pass(sampled_models[k], new_images)\n",
    "        # If we change the class, we fool the model\n",
    "        fool += int(old_class != new_class)\n",
    "    return fool/len(sampled_models)"
   ]
  },
  {
   "cell_type": "code",
   "execution_count": 18,
   "metadata": {},
   "outputs": [],
   "source": [
    "# Collect noises (saliencies)\n",
    "EPS = 0.1\n",
    "saliencies = []\n",
    "how_many_fooled = []\n",
    "torch.set_printoptions(sci_mode=False)\n",
    "for k in range(len(sampled_models)):\n",
    "    # Forward pass\n",
    "    # Compute loss w.r.t. an incorrect class\n",
    "    # Note that we just have to ensure this class is different from targets\n",
    "    images.grad = None\n",
    "    images.requires_grad = True\n",
    "    old_class = forward_pass(sampled_models[k], images, [torch.nn.NLLLoss(), torch.tensor([1])])\n",
    "    # Compute adversarial example\n",
    "    new_images = otcm(images, EPS, images.grad.sign())\n",
    "    # Forward pass on adv. example\n",
    "    new_class = forward_pass(sampled_models[k], new_images)\n",
    "    if old_class != new_class:\n",
    "        # How many models can this adv. example fool?\n",
    "        how_many_fooled += [how_many_can_it_fool(sampled_models, EPS, images.grad.sign())]\n",
    "        saliencies += [images.grad.sign().squeeze()]"
   ]
  },
  {
   "cell_type": "code",
   "execution_count": 19,
   "metadata": {},
   "outputs": [
    {
     "name": "stdout",
     "output_type": "stream",
     "text": [
      "torch.Size([100, 3, 32, 32])\n",
      "torch.Size([3, 32, 32])\n"
     ]
    }
   ],
   "source": [
    "# distributional saliency map\n",
    "saliencies = torch.stack(saliencies)\n",
    "print(saliencies.shape)\n",
    "unbatched_shape = saliencies.shape[1:]\n",
    "print(unbatched_shape)\n",
    "newsaliency = torch.zeros(unbatched_shape)\n",
    "\n",
    "for i in range(unbatched_shape[0]):\n",
    "    for j in range(unbatched_shape[1]):\n",
    "        for k in range(unbatched_shape[2]):\n",
    "            # choose median perturbation\n",
    "            newsaliency[i, j, k] = np.percentile(saliencies[:, i, j, k].numpy(), 50)"
   ]
  },
  {
   "cell_type": "code",
   "execution_count": 20,
   "metadata": {},
   "outputs": [
    {
     "name": "stdout",
     "output_type": "stream",
     "text": [
      "0.99\n"
     ]
    }
   ],
   "source": [
    "print(how_many_can_it_fool(sampled_models, EPS, newsaliency))\n",
    "new_images = otcm(images, EPS, newsaliency)"
   ]
  },
  {
   "cell_type": "code",
   "execution_count": 21,
   "metadata": {},
   "outputs": [
    {
     "data": {
      "text/plain": [
       "0.9451"
      ]
     },
     "execution_count": 21,
     "metadata": {},
     "output_type": "execute_result"
    }
   ],
   "source": [
    "np.mean(how_many_fooled)"
   ]
  },
  {
   "cell_type": "code",
   "execution_count": 22,
   "metadata": {},
   "outputs": [
    {
     "name": "stderr",
     "output_type": "stream",
     "text": [
      "Clipping input data to the valid range for imshow with RGB data ([0..1] for floats or [0..255] for integers).\n"
     ]
    },
    {
     "name": "stdout",
     "output_type": "stream",
     "text": [
      "tensor(1., grad_fn=<MaxBackward1>)\n"
     ]
    },
    {
     "data": {
      "image/png": "[encoded data removed]",
      "text/plain": [
       "<Figure size 432x288 with 3 Axes>"
      ]
     },
     "metadata": {
      "needs_background": "light"
     },
     "output_type": "display_data"
    }
   ],
   "source": [
    "plt.figure()\n",
    "plt.subplot(1, 3, 1)\n",
    "images = images.squeeze() # squeeze out batch dimension\n",
    "image_transpose = np.transpose( images.detach().numpy() , (1,2,0))  \n",
    "plt.imshow(image_transpose)\n",
    "plt.subplot(1, 3, 2)\n",
    "perturbation = newsaliency * EPS\n",
    "perturbation_transpose = np.transpose(perturbation.detach().numpy(), (1,2,0))\n",
    "plt.imshow(perturbation_transpose, vmin=-1., vmax=1.)\n",
    "plt.subplot(1, 3, 3)\n",
    "new_images = new_images.squeeze()\n",
    "print(torch.max(new_images))\n",
    "new_images_transpose = np.transpose(new_images.detach().numpy(), (1,2,0))\n",
    "plt.imshow(new_images_transpose)\n",
    "plt.show()"
   ]
  },
  {
   "cell_type": "code",
   "execution_count": null,
   "metadata": {},
   "outputs": [],
   "source": []
  }
 ],
 "metadata": {
  "kernelspec": {
   "display_name": "Python 3",
   "language": "python",
   "name": "python3"
  },
  "language_info": {
   "codemirror_mode": {
    "name": "ipython",
    "version": 3
   },
   "file_extension": ".py",
   "mimetype": "text/x-python",
   "name": "python",
   "nbconvert_exporter": "python",
   "pygments_lexer": "ipython3",
   "version": "3.8.5"
  }
 },
 "nbformat": 4,
 "nbformat_minor": 2
}
