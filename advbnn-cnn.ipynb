{
 "cells": [
  {
   "cell_type": "code",
   "execution_count": 1,
   "metadata": {},
   "outputs": [],
   "source": [
    "import torch, torchvision\n",
    "import numpy as np\n",
    "import matplotlib.pyplot as plt\n",
    "import pyro\n",
    "import tqdm\n",
    "import os\n",
    "import common\n",
    "import torchvision.transforms as transforms\n",
    "from torch.utils.data.sampler import SubsetRandomSampler\n",
    "import torch.nn as nn\n",
    "from torch.optim import Adam, lr_scheduler\n"
   ]
  },
  {
   "cell_type": "code",
   "execution_count": 2,
   "metadata": {},
   "outputs": [],
   "source": [
    "# Reproducibility\n",
    "common.set_seed(1)"
   ]
  },
  {
   "cell_type": "code",
   "execution_count": 3,
   "metadata": {},
   "outputs": [],
   "source": [
    "# for GPU\n",
    "# CUDA settings\n",
    "device = torch.device(\"cuda:0\" if torch.cuda.is_available() else \"cpu\")"
   ]
  },
  {
   "cell_type": "code",
   "execution_count": 4,
   "metadata": {},
   "outputs": [],
   "source": [
    "# Configuration parameters\n",
    "layer_type = 'lrt'  # 'bbb' or 'lrt'\n",
    "activation_type = 'softplus'  # 'softplus' or 'relu'\n",
    "priors={\n",
    "    'prior_mu': 0,\n",
    "    'prior_sigma': 0.1,\n",
    "    'posterior_mu_initial': (0, 0.1),  # (mean, std) normal_\n",
    "    'posterior_rho_initial': (-5, 0.1),  # (mean, std) normal_\n",
    "}\n",
    "lr_start = 0.001\n",
    "num_workers = 1\n",
    "valid_size = 0.2\n",
    "batch_size = 256\n",
    "train_ens = 1\n",
    "valid_ens = 1\n",
    "beta_type = 0.1\n",
    "\n",
    "net_type = 'lenet'   # (lenet/alexnet)\n",
    "dataset = 'mnist'    # (mnist/cifar10/cifar100)"
   ]
  },
  {
   "cell_type": "code",
   "execution_count": 5,
   "metadata": {},
   "outputs": [
    {
     "name": "stdout",
     "output_type": "stream",
     "text": [
      "Sample model savename: lenet-mnist.pt\n"
     ]
    }
   ],
   "source": [
    "if dataset == 'mnist':\n",
    "    transform = transforms.Compose([\n",
    "                transforms.Resize((32, 32)),\n",
    "                transforms.ToTensor(),\n",
    "    ])\n",
    "    inputs = 1\n",
    "    outputs = 10\n",
    "    trainset = torchvision.datasets.MNIST(root='.', train=True, download=True, transform=transform)\n",
    "elif dataset == 'cifar10':\n",
    "    transform = transforms.Compose([\n",
    "                transforms.ToTensor(),\n",
    "    ])\n",
    "    inputs = 3\n",
    "    outputs = 10\n",
    "    trainset = torchvision.datasets.CIFAR10(root='.', train=True, download=True, transform=transform)\n",
    "elif dataset == 'cifar100':\n",
    "    transform = transforms.Compose([\n",
    "            transforms.Resize((32, 32)),\n",
    "            transforms.ToTensor(),\n",
    "    ])\n",
    "    inputs = 3\n",
    "    outputs = 100\n",
    "    trainset = torchvision.datasets.CIFAR100(root='.', train=True, download=True, transform=transform)\n",
    "else:\n",
    "    raise RuntimeException(\"Unsupported dataset\")\n",
    "    \n",
    "    \n",
    "if net_type == 'lenet':\n",
    "    net_class = common.non_bayesian_models.LeNet\n",
    "    bbb_model = common.bayesian_models.BBBLeNet\n",
    "elif net_type == 'alexnet':\n",
    "    net_class = common.non_bayesian_models.AlexNet\n",
    "    bbb_model = common.bayesian_models.BBBAlexNet\n",
    "else:\n",
    "    raise RuntimeException(\"Unsupported network type\")\n",
    "    \n",
    "modelname = net_type + '-' + dataset + '.pt'\n",
    "print(f'Sample model savename: {modelname}')"
   ]
  },
  {
   "cell_type": "code",
   "execution_count": 6,
   "metadata": {},
   "outputs": [],
   "source": [
    "num_train = len(trainset)\n",
    "indices = list(range(num_train))\n",
    "np.random.shuffle(indices)\n",
    "split = int(np.floor(valid_size * num_train))\n",
    "train_idx, valid_idx = indices[split:], indices[:split]\n",
    "train_sampler = SubsetRandomSampler(train_idx)\n",
    "valid_sampler = SubsetRandomSampler(valid_idx)\n",
    "train_loader = torch.utils.data.DataLoader(trainset, batch_size=batch_size, \n",
    "                                           sampler=train_sampler, num_workers=num_workers)\n",
    "valid_loader = torch.utils.data.DataLoader(trainset, batch_size=batch_size, \n",
    "                                           sampler=valid_sampler, num_workers=num_workers)"
   ]
  },
  {
   "cell_type": "code",
   "execution_count": 7,
   "metadata": {},
   "outputs": [],
   "source": [
    "net = bbb_model(outputs, inputs, priors, layer_type, activation_type).to(device)"
   ]
  },
  {
   "cell_type": "code",
   "execution_count": 8,
   "metadata": {},
   "outputs": [],
   "source": [
    "def train_and_save_models(epochs = 10, K = 100, modelname = \"model-cnn.pt\", force_train=False):\n",
    "    if os.path.exists(modelname) and not force_train:\n",
    "        print(\"File exists\")\n",
    "        return\n",
    "    # Train with ELBO and Adam (Bayes by Backprop + LRT)\n",
    "    criterion = common.metrics.ELBO(len(trainset)).to(device)\n",
    "    optimizer = Adam(net.parameters(), lr=lr_start)\n",
    "    lr_sched = lr_scheduler.ReduceLROnPlateau(optimizer, patience=6, verbose=True)\n",
    "    for epoch in range(epochs):  # loop over the dataset multiple times\n",
    "        train_loss, train_acc, train_kl = common.train_model(net, optimizer, criterion, train_loader, \n",
    "                                                             num_ens=train_ens, beta_type=beta_type, epoch=epoch,\n",
    "                                                             num_epochs=epochs)\n",
    "        valid_loss, valid_acc = common.validate_model(net, criterion, valid_loader, num_ens=valid_ens, \n",
    "                                                      beta_type=beta_type, epoch=epoch, num_epochs=epochs)\n",
    "        lr_sched.step(valid_loss)\n",
    "        print('Epoch:%d, TrainLoss:%.3f, TrainAcc:%.3f, ValLoss:%.3f, ValAcc:%.3f, KL:%.3f' % (\n",
    "            epoch, train_loss, train_acc, valid_loss, valid_acc, train_kl))\n",
    "    # Sample k models from the posterior\n",
    "    nn_dicts = []\n",
    "    for i in range(K):\n",
    "        sample_model = net_class(outputs, inputs, layer_type, activation_type).to(device)\n",
    "        sample_model.sample(net)\n",
    "        nn_dicts += [sample_model.state_dict()]\n",
    "    # Save the models\n",
    "    torch.save(nn_dicts, modelname)\n",
    "    print(\"Saved %d models\" % K)"
   ]
  },
  {
   "cell_type": "code",
   "execution_count": 9,
   "metadata": {},
   "outputs": [],
   "source": [
    "def load_models(K = 100):\n",
    "    # Load the models\n",
    "    sampled_models = [net_class(outputs, inputs, layer_type, activation_type) for i in range(K)]\n",
    "    for net, state_dict in zip(sampled_models, torch.load(modelname)):\n",
    "        net.load_state_dict(state_dict)\n",
    "    print(\"Loaded %d sample models\" % K)\n",
    "    return sampled_models"
   ]
  },
  {
   "cell_type": "code",
   "execution_count": 10,
   "metadata": {},
   "outputs": [
    {
     "name": "stdout",
     "output_type": "stream",
     "text": [
      "Epoch:0, TrainLoss:915371.407, TrainAcc:0.359, ValLoss:592383.209, ValAcc:0.843, KL:8097310.173\n",
      "Epoch:1, TrainLoss:499981.616, TrainAcc:0.872, ValLoss:426447.589, ValAcc:0.889, KL:4747498.815\n",
      "Epoch:2, TrainLoss:373459.233, TrainAcc:0.916, ValLoss:329510.342, ValAcc:0.919, KL:3565848.080\n",
      "Epoch:3, TrainLoss:293623.090, TrainAcc:0.934, ValLoss:262545.366, ValAcc:0.941, KL:2808167.940\n",
      "Epoch:4, TrainLoss:237181.118, TrainAcc:0.946, ValLoss:213956.941, ValAcc:0.952, KL:2266242.259\n",
      "Epoch:5, TrainLoss:195199.491, TrainAcc:0.953, ValLoss:178405.611, ValAcc:0.953, KL:1860102.872\n",
      "Epoch:6, TrainLoss:163182.932, TrainAcc:0.957, ValLoss:150318.605, ValAcc:0.955, KL:1548068.644\n",
      "Epoch:7, TrainLoss:137946.166, TrainAcc:0.961, ValLoss:127105.712, ValAcc:0.963, KL:1302536.584\n",
      "Epoch:8, TrainLoss:117557.040, TrainAcc:0.964, ValLoss:109611.454, ValAcc:0.962, KL:1106251.514\n",
      "Epoch:9, TrainLoss:101107.275, TrainAcc:0.967, ValLoss:94452.122, ValAcc:0.964, KL:946545.912\n",
      "Epoch:10, TrainLoss:87576.903, TrainAcc:0.969, ValLoss:81822.572, ValAcc:0.968, KL:814605.696\n",
      "Epoch:11, TrainLoss:76431.364, TrainAcc:0.969, ValLoss:71556.393, ValAcc:0.971, KL:705402.917\n",
      "Epoch:12, TrainLoss:66945.925, TrainAcc:0.971, ValLoss:63456.730, ValAcc:0.967, KL:613603.287\n",
      "Epoch:13, TrainLoss:59027.569, TrainAcc:0.971, ValLoss:55607.980, ValAcc:0.974, KL:536241.930\n",
      "Epoch:14, TrainLoss:52166.066, TrainAcc:0.973, ValLoss:49931.646, ValAcc:0.969, KL:469957.967\n",
      "Epoch:15, TrainLoss:46100.371, TrainAcc:0.975, ValLoss:43830.472, ValAcc:0.974, KL:413092.724\n",
      "Epoch:16, TrainLoss:41201.932, TrainAcc:0.975, ValLoss:39909.772, ValAcc:0.972, KL:364312.312\n",
      "Epoch:17, TrainLoss:36706.972, TrainAcc:0.976, ValLoss:35784.936, ValAcc:0.970, KL:321810.863\n",
      "Epoch:18, TrainLoss:33093.897, TrainAcc:0.976, ValLoss:31706.355, ValAcc:0.976, KL:285270.615\n",
      "Epoch:19, TrainLoss:29720.953, TrainAcc:0.976, ValLoss:29033.674, ValAcc:0.973, KL:253161.398\n",
      "Saved 100 models\n",
      "Loaded 100 sample models\n"
     ]
    }
   ],
   "source": [
    "train_and_save_models(epochs = 20, K = 100, modelname = modelname, force_train=False)\n",
    "sampled_models = load_models(K = 100)"
   ]
  },
  {
   "cell_type": "code",
   "execution_count": 11,
   "metadata": {},
   "outputs": [],
   "source": [
    "if dataset == 'mnist':\n",
    "    transform = transforms.Compose([\n",
    "                transforms.Resize((32, 32)),\n",
    "                transforms.ToTensor(),\n",
    "    ])\n",
    "    inputs = 1\n",
    "    outputs = 10\n",
    "    testset = torchvision.datasets.MNIST(root='.', train=False, download=True, transform=transform)\n",
    "elif dataset == 'cifar10':\n",
    "    transform = transforms.Compose([\n",
    "                transforms.ToTensor(),\n",
    "    ])\n",
    "    inputs = 3\n",
    "    outputs = 10\n",
    "    testset = torchvision.datasets.CIFAR10(root='.', train=False, download=True, transform=transform)\n",
    "elif dataset == 'cifar100':\n",
    "    transform = transforms.Compose([\n",
    "            transforms.Resize((32, 32)),\n",
    "            transforms.ToTensor(),\n",
    "    ])\n",
    "    inputs = 3\n",
    "    outputs = 100\n",
    "    testset = torchvision.datasets.CIFAR100(root='.', train=False, download=True, transform=transform)\n",
    "else:\n",
    "    raise RuntimeException(\"Unsupported dataset\")\n",
    "    \n",
    "test_loader = torch.utils.data.DataLoader(testset, batch_size=1, num_workers=num_workers)"
   ]
  },
  {
   "cell_type": "code",
   "execution_count": 12,
   "metadata": {},
   "outputs": [],
   "source": [
    "# Get a batch and flatten the input\n",
    "images, targets = next(iter(test_loader))"
   ]
  },
  {
   "cell_type": "code",
   "execution_count": 13,
   "metadata": {},
   "outputs": [
    {
     "data": {
      "text/plain": [
       "tensor([7])"
      ]
     },
     "execution_count": 13,
     "metadata": {},
     "output_type": "execute_result"
    }
   ],
   "source": [
    "targets"
   ]
  },
  {
   "cell_type": "code",
   "execution_count": 14,
   "metadata": {},
   "outputs": [],
   "source": [
    "def forward_pass(model, images, loss_target = None):\n",
    "    output = model(images)\n",
    "    output = torch.nn.LogSoftmax(dim=-1)(output)\n",
    "    which_class = torch.argmax(output).item()\n",
    "    if loss_target:\n",
    "        loss, target = loss_target\n",
    "        loss(output, target).backward()\n",
    "    return which_class"
   ]
  },
  {
   "cell_type": "code",
   "execution_count": 15,
   "metadata": {},
   "outputs": [],
   "source": [
    "def otcm(images, eps, saliency):\n",
    "    return torch.clamp(images.clone()-eps*saliency, 0, 1)"
   ]
  },
  {
   "cell_type": "code",
   "execution_count": 16,
   "metadata": {},
   "outputs": [],
   "source": [
    "# How many models can an adversarial example fool?\n",
    "def how_many_can_it_fool(sampled_models, eps, saliency):\n",
    "    fool = 0\n",
    "    for k in range(len(sampled_models)):\n",
    "        # Forward pass on sampled model k\n",
    "        old_class = forward_pass(sampled_models[k], images)\n",
    "        # One step Target Class Method (OTCM); saliency is noise\n",
    "        new_images = otcm(images, eps, saliency)\n",
    "        # Forward pass again on adv. example\n",
    "        new_class = forward_pass(sampled_models[k], new_images)\n",
    "        # If we change the class, we fool the model\n",
    "        fool += int(old_class != new_class)\n",
    "    return fool/len(sampled_models)"
   ]
  },
  {
   "cell_type": "code",
   "execution_count": 17,
   "metadata": {},
   "outputs": [],
   "source": [
    "# Collect noises (saliencies)\n",
    "EPS = 0.18\n",
    "saliencies = []\n",
    "how_many_fooled = []\n",
    "torch.set_printoptions(sci_mode=False)\n",
    "for k in range(len(sampled_models)):\n",
    "    # Forward pass\n",
    "    # Compute loss w.r.t. an incorrect class\n",
    "    # Note that we just have to ensure this class is different from targets\n",
    "    images.grad = None\n",
    "    images.requires_grad = True\n",
    "    old_class = forward_pass(sampled_models[k], images, [torch.nn.NLLLoss(), torch.tensor([1])])\n",
    "    # Compute adversarial example\n",
    "    new_images = otcm(images, EPS, images.grad.sign())\n",
    "    # Forward pass on adv. example\n",
    "    new_class = forward_pass(sampled_models[k], new_images)\n",
    "    if old_class != new_class:\n",
    "        # How many models can this adv. example fool?\n",
    "        how_many_fooled += [how_many_can_it_fool(sampled_models, EPS, images.grad.sign())]\n",
    "        saliencies += [images.grad.sign().squeeze()]\n"
   ]
  },
  {
   "cell_type": "code",
   "execution_count": 18,
   "metadata": {},
   "outputs": [
    {
     "name": "stdout",
     "output_type": "stream",
     "text": [
      "torch.Size([17, 32, 32])\n",
      "torch.Size([32, 32])\n"
     ]
    }
   ],
   "source": [
    "# distributional saliency map\n",
    "saliencies = torch.stack(saliencies)\n",
    "print(saliencies.shape)\n",
    "unbatched_shape = saliencies.shape[1:]\n",
    "print(unbatched_shape)\n",
    "newsaliency = torch.zeros(unbatched_shape)\n",
    "\n",
    "if dataset == 'mnist':\n",
    "    for i in range(unbatched_shape[0]):\n",
    "        for j in range(unbatched_shape[1]):\n",
    "            # choose median perturbation\n",
    "            newsaliency[i, j] = np.percentile(saliencies[:, i, j].numpy(), 50)\n",
    "else:\n",
    "    for i in range(unbatched_shape[0]):\n",
    "        for j in range(unbatched_shape[1]):\n",
    "            for k in range(unbatched_shape[2]):\n",
    "                # choose median perturbation\n",
    "                newsaliency[i, j,k] = np.percentile(saliencies[:, i, j,k].numpy(), 50)"
   ]
  },
  {
   "cell_type": "code",
   "execution_count": 19,
   "metadata": {},
   "outputs": [
    {
     "name": "stdout",
     "output_type": "stream",
     "text": [
      "0.08\n"
     ]
    }
   ],
   "source": [
    "print(how_many_can_it_fool(sampled_models, EPS, newsaliency))\n",
    "new_images = otcm(images, EPS, newsaliency)"
   ]
  },
  {
   "cell_type": "code",
   "execution_count": 20,
   "metadata": {},
   "outputs": [
    {
     "data": {
      "text/plain": [
       "0.10941176470588235"
      ]
     },
     "execution_count": 20,
     "metadata": {},
     "output_type": "execute_result"
    }
   ],
   "source": [
    "np.mean(how_many_fooled)"
   ]
  },
  {
   "cell_type": "code",
   "execution_count": 21,
   "metadata": {},
   "outputs": [
    {
     "data": {
      "image/png": "[encoded data removed]",
      "text/plain": [
       "<Figure size 432x288 with 3 Axes>"
      ]
     },
     "metadata": {
      "needs_background": "light"
     },
     "output_type": "display_data"
    }
   ],
   "source": [
    "if dataset != 'mnist':\n",
    "    # cifar datasets have color channels, need to arrange color channels\n",
    "    images_prepped = np.transpose( images.squeeze().detach().numpy() , (1,2,0)) # squeeze out batch dimension and arrange color channels\n",
    "    perturbation = newsaliency * EPS\n",
    "    perturbation_prepped = np.transpose(perturbation.detach().numpy(), (1,2,0))\n",
    "    new_images_prepped = np.transpose( new_images.squeeze().detach().numpy(), (1,2,0))\n",
    "else:\n",
    "    images_prepped = images.squeeze().detach().numpy()\n",
    "    perturbation = newsaliency * EPS\n",
    "    perturbation_prepped = perturbation.squeeze().detach().numpy()\n",
    "    new_images_prepped = new_images.squeeze().detach().numpy()\n",
    "    \n",
    "\n",
    "plt.figure()\n",
    "plt.subplot(1, 3, 1)\n",
    "plt.imshow(images_prepped)\n",
    "plt.subplot(1, 3, 2)\n",
    "plt.imshow(perturbation_prepped, vmin=-1., vmax=1.)\n",
    "plt.subplot(1, 3, 3)\n",
    "plt.imshow(new_images_prepped)\n",
    "plt.show()"
   ]
  },
  {
   "cell_type": "code",
   "execution_count": null,
   "metadata": {},
   "outputs": [],
   "source": []
  }
 ],
 "metadata": {
  "kernelspec": {
   "display_name": "Python 3",
   "language": "python",
   "name": "python3"
  },
  "language_info": {
   "codemirror_mode": {
    "name": "ipython",
    "version": 3
   },
   "file_extension": ".py",
   "mimetype": "text/x-python",
   "name": "python",
   "nbconvert_exporter": "python",
   "pygments_lexer": "ipython3",
   "version": "3.8.5"
  }
 },
 "nbformat": 4,
 "nbformat_minor": 2
}
