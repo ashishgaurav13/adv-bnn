{
 "cells": [
  {
   "cell_type": "code",
   "execution_count": 13,
   "metadata": {},
   "outputs": [],
   "source": [
    "import torch, torchvision\n",
    "import numpy as np\n",
    "import matplotlib.pyplot as plt\n",
    "import pyro\n",
    "import tqdm\n",
    "import os,sys\n",
    "import common\n",
    "import torchvision.transforms as transforms\n",
    "from torch.utils.data.sampler import SubsetRandomSampler\n",
    "import torch.nn as nn\n",
    "from torch.optim import Adam, lr_scheduler\n",
    "\n",
    "\n",
    "import re, pickle\n",
    "from torch.utils.data import DataLoader, random_split\n"
   ]
  },
  {
   "cell_type": "code",
   "execution_count": 14,
   "metadata": {},
   "outputs": [],
   "source": [
    "# Reproducibility\n",
    "common.set_seed(1)"
   ]
  },
  {
   "cell_type": "code",
   "execution_count": 15,
   "metadata": {},
   "outputs": [],
   "source": [
    "layer_type = 'lrt'  # 'bbb' or 'lrt'\n",
    "activation_type = 'softplus'  # 'softplus' or 'relu'\n",
    "priors={\n",
    "    'prior_mu': 0,\n",
    "    'prior_sigma': 0.1,\n",
    "    'posterior_mu_initial': (0, 0.1),  # (mean, std) normal_\n",
    "    'posterior_rho_initial': (-5, 0.1),  # (mean, std) normal_\n",
    "}\n",
    "lr_start = 0.001\n",
    "num_workers = 1\n",
    "valid_size = 0.2\n",
    "batch_size = 256\n",
    "train_ens = 1\n",
    "valid_ens = 1\n",
    "beta_type = 0.1  \n",
    "transform_mnist = transforms.Compose([\n",
    "    transforms.Resize((32, 32)),\n",
    "    transforms.ToTensor(),\n",
    "])\n",
    "outputs = 10\n",
    "inputs = 1"
   ]
  },
  {
   "cell_type": "code",
   "execution_count": 16,
   "metadata": {},
   "outputs": [],
   "source": [
    "trainset = torchvision.datasets.MNIST(root='.', train=True, download=True, transform=transform_mnist)\n",
    "num_train = len(trainset)\n",
    "indices = list(range(num_train))\n",
    "np.random.shuffle(indices)\n",
    "split = int(np.floor(valid_size * num_train))\n",
    "train_idx, valid_idx = indices[split:], indices[:split]\n",
    "train_sampler = SubsetRandomSampler(train_idx)\n",
    "valid_sampler = SubsetRandomSampler(valid_idx)\n",
    "train_loader = torch.utils.data.DataLoader(trainset, batch_size=batch_size, \n",
    "                                           sampler=train_sampler, num_workers=num_workers)\n",
    "valid_loader = torch.utils.data.DataLoader(trainset, batch_size=batch_size, \n",
    "                                           sampler=valid_sampler, num_workers=num_workers)"
   ]
  },
  {
   "cell_type": "code",
   "execution_count": 17,
   "metadata": {},
   "outputs": [],
   "source": [
    "class BBBLeNet(common.ModuleWrapper):\n",
    "    '''The architecture of LeNet with Bayesian Layers'''\n",
    "\n",
    "    def __init__(self, outputs, inputs, priors, layer_type='lrt', activation_type='softplus'):\n",
    "        super(BBBLeNet, self).__init__()\n",
    "\n",
    "        self.num_classes = outputs\n",
    "        self.layer_type = layer_type\n",
    "        self.priors = priors\n",
    "\n",
    "        if layer_type=='lrt':\n",
    "            BBBLinear = common.layers.BBB_LRT_Linear\n",
    "            BBBConv2d = common.layers.BBB_LRT_Conv2d\n",
    "        elif layer_type=='bbb':\n",
    "            BBBLinear = common.layers.BBB_Linear\n",
    "            BBBConv2d = common.layers.BBB_Conv2d\n",
    "        else:\n",
    "            raise ValueError(\"Undefined layer_type\")\n",
    "        \n",
    "        if activation_type=='softplus':\n",
    "            self.act = nn.Softplus\n",
    "        elif activation_type=='relu':\n",
    "            self.act = nn.ReLU\n",
    "        else:\n",
    "            raise ValueError(\"Only softplus or relu supported\")\n",
    "\n",
    "        self.conv1 = BBBConv2d(inputs, 6, 5, padding=0, bias=True, priors=self.priors)\n",
    "        self.act1 = self.act()\n",
    "        self.pool1 = nn.MaxPool2d(kernel_size=2, stride=2)\n",
    "\n",
    "        self.conv2 = BBBConv2d(6, 16, 5, padding=0, bias=True, priors=self.priors)\n",
    "        self.act2 = self.act()\n",
    "        self.pool2 = nn.MaxPool2d(kernel_size=2, stride=2)\n",
    "\n",
    "        self.flatten = common.layers.FlattenLayer(5 * 5 * 16)\n",
    "        self.fc1 = BBBLinear(5 * 5 * 16, 120, bias=True, priors=self.priors)\n",
    "        self.act3 = self.act()\n",
    "\n",
    "        self.fc2 = BBBLinear(120, 84, bias=True, priors=self.priors)\n",
    "        self.act4 = self.act()\n",
    "\n",
    "        self.fc3 = BBBLinear(84, outputs, bias=True, priors=self.priors)"
   ]
  },
  {
   "cell_type": "code",
   "execution_count": 18,
   "metadata": {},
   "outputs": [],
   "source": [
    "class LeNet(nn.Module):\n",
    "\n",
    "    def __init__(self, outputs, inputs, layer_type='lrt', activation_type='softplus'):\n",
    "        '''\n",
    "        Base LeNet model that matches the architecture of BayesianLeNet with randomly \n",
    "        initialized weights\n",
    "        '''\n",
    "        super(LeNet, self).__init__()\n",
    "        \n",
    "        # initialization follows the BBBLeNet initialization, changing\n",
    "        # BBBLinear and BBBConv2D layers to nn.Linear and nn.Conv2D\n",
    "        \n",
    "        if activation_type == 'softplus':\n",
    "            self.act = nn.Softplus\n",
    "        elif activation_type == 'relu':\n",
    "            self.act = nn.ReLU\n",
    "\n",
    "        self.conv1 = nn.Conv2d(inputs, 6, 5, padding=0, bias=True)\n",
    "        self.act1 = self.act()\n",
    "        self.pool1 = nn.MaxPool2d(kernel_size=2, stride=2)\n",
    "        self.conv2 = nn.Conv2d(6, 16, 5, padding=0, bias=True)\n",
    "        self.act2 = self.act()\n",
    "        self.pool2 = nn.MaxPool2d(kernel_size=2, stride=2)\n",
    "        self.fc1 = nn.Linear(5 * 5 * 16, 120, bias=True)\n",
    "        self.act3 = self.act()\n",
    "        self.fc2 = nn.Linear(120, 84, bias=True)\n",
    "        self.act4 = self.act()\n",
    "        self.fc3 = nn.Linear(84, outputs, bias=True)\n",
    "\n",
    "\n",
    "    def sample(self, bbbnet):\n",
    "        '''\n",
    "        Takes in a BBBLeNet instance and copies the structure into a LeNet model.\n",
    "        Replaces the BBBLinear and BBBConv2D that uses sampling in their forward steps\n",
    "        with regular nn.Linear and nn.Conv2d layers whose weights are initialized by \n",
    "        sampling the BBBLeNet model.\n",
    "        '''    \n",
    "        ### store activation function used by BNN, only relu and softplus  currently supported\n",
    "        self.act1 = bbbnet.act()\n",
    "        self.act2 = bbbnet.act()\n",
    "        self.act3 = bbbnet.act()\n",
    "        self.act4 = bbbnet.act()\n",
    "\n",
    "        ### maxpool\n",
    "        self.pool1 = nn.MaxPool2d(kernel_size=bbbnet.pool1.kernel_size, stride=bbbnet.pool1.stride)\n",
    "        self.pool2 = nn.MaxPool2d(kernel_size=bbbnet.pool2.kernel_size, stride=bbbnet.pool2.stride)\n",
    "        \n",
    "        ### Create Convolution layers\n",
    "        self.conv1 = nn.Conv2d(bbbnet.conv1.in_channels, bbbnet.conv1.out_channels, bbbnet.conv1.kernel_size,\n",
    "                                stride=bbbnet.conv1.stride, padding=bbbnet.conv1.padding, dilation=bbbnet.conv1.dilation,\n",
    "                                groups=bbbnet.conv1.groups)\n",
    "        \n",
    "        self.conv2 = nn.Conv2d(bbbnet.conv2.in_channels, bbbnet.conv2.out_channels, bbbnet.conv2.kernel_size,\n",
    "                        stride=bbbnet.conv2.stride, padding=bbbnet.conv2.padding, dilation=bbbnet.conv2.dilation,\n",
    "                        groups=bbbnet.conv2.groups)\n",
    "        \n",
    "        # follows the procedure for sampling in the forward methods of BBBConv and \n",
    "        # BBBLinearforward to create a fixed set of weights to use for the sampled model\n",
    "\n",
    "        conv1_W_mu = bbbnet.conv1.W_mu\n",
    "        conv1_W_rho = bbbnet.conv1.W_rho\n",
    "        conv1_W_eps = torch.empty(conv1_W_mu.size()).normal_(0,1)\n",
    "        conv1_W_sigma = torch.log1p(torch.exp(conv1_W_rho))\n",
    "        conv1_weight = conv1_W_mu + conv1_W_eps * conv1_W_sigma\n",
    "        if bbbnet.conv1.use_bias:\n",
    "            conv1_bias_mu = bbbnet.conv1.bias_mu\n",
    "            conv1_bias_rho = bbbnet.conv1.bias_rho\n",
    "            conv1_bias_eps = torch.empty(conv1_bias_mu.size()).normal_(0,1)\n",
    "            conv1_bias_sigma = torch.log1p(torch.exp(conv1_bias_rho))\n",
    "            conv1_bias = conv1_bias_mu + conv1_bias_eps * conv1_bias_sigma\n",
    "        else:\n",
    "            conv1_bias = None\n",
    "        self.conv1.weight.data = conv1_weight.data\n",
    "        self.conv1.bias.data = conv1_bias.data\n",
    "\n",
    "\n",
    "        conv2_W_mu = bbbnet.conv2.W_mu\n",
    "        conv2_W_rho = bbbnet.conv2.W_rho\n",
    "        conv2_W_eps = torch.empty(conv2_W_mu.size()).normal_(0,1)\n",
    "        conv2_W_sigma = torch.log1p(torch.exp(conv2_W_rho))\n",
    "        conv2_weight = conv2_W_mu + conv2_W_eps * conv2_W_sigma\n",
    "        if bbbnet.conv2.use_bias:\n",
    "            conv2_bias_mu = bbbnet.conv2.bias_mu\n",
    "            conv2_bias_rho = bbbnet.conv2.bias_rho\n",
    "            conv2_bias_eps = torch.empty(conv2_bias_mu.size()).normal_(0,1)\n",
    "            conv2_bias_sigma = torch.log1p(torch.exp(conv2_bias_rho))\n",
    "            conv2_bias = conv2_bias_mu + conv2_bias_eps * conv2_bias_sigma\n",
    "        else:\n",
    "            conv2_bias = None\n",
    "        self.conv2.weight.data = conv2_weight.data\n",
    "        self.conv2.bias.data = conv2_bias.data\n",
    "        \n",
    "        ### Create Linear Layers\n",
    "        self.fc1 = nn.Linear(bbbnet.fc1.in_features, bbbnet.fc1.out_features, bbbnet.fc1.use_bias)\n",
    "        self.fc2 = nn.Linear(bbbnet.fc2.in_features, bbbnet.fc2.out_features, bbbnet.fc2.use_bias)\n",
    "        self.fc3 = nn.Linear(bbbnet.fc3.in_features, bbbnet.fc3.out_features, bbbnet.fc3.use_bias)\n",
    "\n",
    "        fc1_W_mu = bbbnet.fc1.W_mu\n",
    "        fc1_W_rho = bbbnet.fc1.W_rho\n",
    "        fc1_W_eps = torch.empty(fc1_W_mu.size()).normal_(0,1)\n",
    "        fc1_W_sigma = torch.log1p(torch.exp(fc1_W_rho))\n",
    "        fc1_weight = fc1_W_mu + fc1_W_eps * fc1_W_sigma\n",
    "        if bbbnet.fc1.use_bias:\n",
    "            fc1_bias_mu = bbbnet.fc1.bias_mu\n",
    "            fc1_bias_rho = bbbnet.fc1.bias_rho\n",
    "            fc1_bias_eps = torch.empty(fc1_bias_mu.size()).normal_(0,1)\n",
    "            fc1_bias_sigma = torch.log1p(torch.exp(fc1_bias_rho))\n",
    "            fc1_bias = fc1_bias_mu + fc1_bias_eps * fc1_bias_sigma\n",
    "        else:\n",
    "            fc1_bias = None\n",
    "        self.fc1.weight.data = fc1_weight.data\n",
    "        self.fc1.bias.data = fc1_bias.data\n",
    "\n",
    "        fc2_W_mu = bbbnet.fc2.W_mu\n",
    "        fc2_W_rho = bbbnet.fc2.W_rho\n",
    "        fc2_W_eps = torch.empty(fc2_W_mu.size()).normal_(0,1)\n",
    "        fc2_W_sigma = torch.log1p(torch.exp(fc2_W_rho))\n",
    "        fc2_weight = fc2_W_mu + fc2_W_eps * fc2_W_sigma\n",
    "        if bbbnet.fc2.use_bias:\n",
    "            fc2_bias_mu = bbbnet.fc2.bias_mu\n",
    "            fc2_bias_rho = bbbnet.fc2.bias_rho\n",
    "            fc2_bias_eps = torch.empty(fc2_bias_mu.size()).normal_(0,1)\n",
    "            fc2_bias_sigma = torch.log1p(torch.exp(fc2_bias_rho))\n",
    "            fc2_bias = fc2_bias_mu + fc2_bias_eps * fc2_bias_sigma\n",
    "        else:\n",
    "            fc2_bias = None\n",
    "        self.fc2.weight.data = fc2_weight.data\n",
    "        self.fc2.bias.data = fc2_bias.data\n",
    "\n",
    "        fc3_W_mu = bbbnet.fc3.W_mu\n",
    "        fc3_W_rho = bbbnet.fc3.W_rho\n",
    "        fc3_W_eps = torch.empty(fc3_W_mu.size()).normal_(0,1)\n",
    "        fc3_W_sigma = torch.log1p(torch.exp(fc3_W_rho))\n",
    "        fc3_weight = fc3_W_mu + fc3_W_eps * fc3_W_sigma\n",
    "        if bbbnet.fc3.use_bias:\n",
    "            fc3_bias_mu = bbbnet.fc3.bias_mu\n",
    "            fc3_bias_rho = bbbnet.fc3.bias_rho\n",
    "            fc3_bias_eps = torch.empty(fc3_bias_mu.size()).normal_(0,1)\n",
    "            fc3_bias_sigma = torch.log1p(torch.exp(fc3_bias_rho))\n",
    "            fc3_bias = fc3_bias_mu + fc3_bias_eps * fc3_bias_sigma\n",
    "        else:\n",
    "            fc3_bias = None\n",
    "        self.fc3.weight.data = fc3_weight.data\n",
    "        self.fc3.bias.data = fc3_bias.data\n",
    "\n",
    "        \n",
    "\n",
    "    def forward(self, x):\n",
    "        '''\n",
    "        Forward method follow the order of BayesianLeNet\n",
    "        '''\n",
    "        x = self.conv1(x)\n",
    "        x = self.act1(x)\n",
    "        x = self.pool1(x)\n",
    "\n",
    "        x = self.conv2(x)\n",
    "        x = self.act2(x)\n",
    "        x = self.pool2(x)\n",
    "\n",
    "        x = x.view(-1, 5 * 5 * 16)\n",
    "        x = self.fc1(x)\n",
    "        x = self.act3(x)\n",
    "        x = self.fc2(x)\n",
    "        x = self.act4(x)\n",
    "        x = self.fc3(x)\n",
    "        return x"
   ]
  },
  {
   "cell_type": "code",
   "execution_count": 19,
   "metadata": {},
   "outputs": [],
   "source": [
    "net = BBBLeNet(outputs, inputs, priors, layer_type, activation_type)"
   ]
  },
  {
   "cell_type": "code",
   "execution_count": 13,
   "metadata": {},
   "outputs": [],
   "source": [
    "def train_and_save_models(epochs = 10, K = 100, modelname = \"model-cnn.pt\"):\n",
    "    if os.path.exists(modelname):\n",
    "        print(\"File exists\")\n",
    "        return\n",
    "    # Train with ELBO and Adam (Bayes by Backprop + LRT)\n",
    "    criterion = common.metrics.ELBO(len(trainset))\n",
    "    optimizer = Adam(net.parameters(), lr=lr_start)\n",
    "    lr_sched = lr_scheduler.ReduceLROnPlateau(optimizer, patience=6, verbose=True)\n",
    "    for epoch in range(epochs):  # loop over the dataset multiple times\n",
    "        train_loss, train_acc, train_kl = common.train_model(net, optimizer, criterion, train_loader, \n",
    "                                                             num_ens=train_ens, beta_type=beta_type, epoch=epoch,\n",
    "                                                             num_epochs=n_epochs)\n",
    "        valid_loss, valid_acc = common.validate_model(net, criterion, valid_loader, num_ens=valid_ens, \n",
    "                                                      beta_type=beta_type, epoch=epoch, num_epochs=epochs)\n",
    "        lr_sched.step(valid_loss)\n",
    "        print('Epoch:%d, TrainLoss:%.3f, TrainAcc:%.3f, ValLoss:%.3f, ValAcc:%.3f, KL:%.3f' % (\n",
    "            epoch, train_loss, train_acc, valid_loss, valid_acc, train_kl))\n",
    "    # Sample k models from the posterior\n",
    "    nn_dicts = []\n",
    "    for i in range(K):\n",
    "        sample_model = LeNet(outputs, inputs, layer_type, activation_type)\n",
    "        sample_model.sample(net)\n",
    "        nn_dicts += [sample_model.state_dict()]\n",
    "    # Save the models\n",
    "    torch.save(nn_dicts, modelname)\n",
    "    print(\"Saved %d models\" % K)"
   ]
  },
  {
   "cell_type": "code",
   "execution_count": 16,
   "metadata": {},
   "outputs": [],
   "source": [
    "def load_models(K = 100):\n",
    "    # Load the models\n",
    "    sampled_models = [LeNet(outputs, inputs, layer_type, activation_type) for i in range(K)]\n",
    "    for net, state_dict in zip(sampled_models, torch.load('models/model-cnn.pt')):\n",
    "        net.load_state_dict(state_dict)\n",
    "    print(\"Loaded %d sample models\" % K)\n",
    "    return sampled_models"
   ]
  },
  {
   "cell_type": "code",
   "execution_count": null,
   "metadata": {},
   "outputs": [],
   "source": [
    "train_and_save_models(epochs = 20, K = 1000, modelname = \"model-cnn.pt\")"
   ]
  },
  {
   "cell_type": "code",
   "execution_count": 49,
   "metadata": {},
   "outputs": [
    {
     "name": "stdout",
     "output_type": "stream",
     "text": [
      "Loaded 50 sample models\n"
     ]
    }
   ],
   "source": [
    "sampled_models = load_models(K = 50)"
   ]
  },
  {
   "cell_type": "markdown",
   "metadata": {},
   "source": [
    "## Train without Adversarial Examples"
   ]
  },
  {
   "cell_type": "code",
   "execution_count": 10,
   "metadata": {},
   "outputs": [],
   "source": []
  },
  {
   "cell_type": "code",
   "execution_count": 20,
   "metadata": {},
   "outputs": [],
   "source": [
    "# Train dataset\n",
    "train_dataset = torchvision.datasets.MNIST('.', train=True, download=True,\n",
    "                       transform=transform_mnist)\n",
    "\n",
    "# Train data loader\n",
    "train_loader = torch.utils.data.DataLoader(train_dataset, batch_size=64, shuffle=True)"
   ]
  },
  {
   "cell_type": "code",
   "execution_count": 27,
   "metadata": {},
   "outputs": [
    {
     "ename": "TypeError",
     "evalue": "step() missing 1 required positional argument: 'metrics'",
     "output_type": "error",
     "traceback": [
      "\u001b[0;31m---------------------------------------------------------------------------\u001b[0m",
      "\u001b[0;31mTypeError\u001b[0m                                 Traceback (most recent call last)",
      "\u001b[0;32m<ipython-input-27-2d3e559bb0f1>\u001b[0m in \u001b[0;36m<module>\u001b[0;34m\u001b[0m\n\u001b[1;32m     21\u001b[0m         \u001b[0moptimizer\u001b[0m\u001b[0;34m.\u001b[0m\u001b[0mstep\u001b[0m\u001b[0;34m(\u001b[0m\u001b[0;34m)\u001b[0m\u001b[0;34m\u001b[0m\u001b[0;34m\u001b[0m\u001b[0m\n\u001b[1;32m     22\u001b[0m         \u001b[0mtotal_loss\u001b[0m \u001b[0;34m+=\u001b[0m \u001b[0mloss\u001b[0m\u001b[0;34m.\u001b[0m\u001b[0mitem\u001b[0m\u001b[0;34m(\u001b[0m\u001b[0;34m)\u001b[0m\u001b[0;34m\u001b[0m\u001b[0;34m\u001b[0m\u001b[0m\n\u001b[0;32m---> 23\u001b[0;31m     \u001b[0mlr_sched\u001b[0m\u001b[0;34m.\u001b[0m\u001b[0mstep\u001b[0m\u001b[0;34m(\u001b[0m\u001b[0;34m)\u001b[0m\u001b[0;34m\u001b[0m\u001b[0;34m\u001b[0m\u001b[0m\n\u001b[0m\u001b[1;32m     24\u001b[0m     \u001b[0mtotal_loss\u001b[0m \u001b[0;34m/=\u001b[0m \u001b[0mlen\u001b[0m\u001b[0;34m(\u001b[0m\u001b[0mtrain_loader\u001b[0m\u001b[0;34m.\u001b[0m\u001b[0mdataset\u001b[0m\u001b[0;34m)\u001b[0m\u001b[0;34m\u001b[0m\u001b[0;34m\u001b[0m\u001b[0m\n\u001b[1;32m     25\u001b[0m     \u001b[0mprint\u001b[0m\u001b[0;34m(\u001b[0m\u001b[0;34m\"Epoch %g: Loss = %g\"\u001b[0m \u001b[0;34m%\u001b[0m \u001b[0;34m(\u001b[0m\u001b[0mepoch\u001b[0m\u001b[0;34m,\u001b[0m \u001b[0mtotal_loss\u001b[0m\u001b[0;34m)\u001b[0m\u001b[0;34m)\u001b[0m\u001b[0;34m\u001b[0m\u001b[0;34m\u001b[0m\u001b[0m\n",
      "\u001b[0;31mTypeError\u001b[0m: step() missing 1 required positional argument: 'metrics'"
     ]
    }
   ],
   "source": [
    "# HyperParameters\n",
    "epochs = 20\n",
    "modelname = \"CNN_v2\"\n",
    "\n",
    "# Train with BinaryCrossEntropy\n",
    "val_losses = []\n",
    "model      = LeNet(outputs, inputs, layer_type, activation_type)\n",
    "optimizer  = Adam(model.parameters(), lr=lr_start)\n",
    "lr_sched   = lr_scheduler.ReduceLROnPlateau(optimizer, patience=6, verbose=True)\n",
    "loss_fcn   = torch.nn.NLLLoss()\n",
    "\n",
    "for epoch in range(epochs):\n",
    "    total_loss = 0.\n",
    "    model.train()\n",
    "    for data in train_loader:\n",
    "        images, labels = data\n",
    "        y    = torch.nn.Softmax()(model(images))\n",
    "        loss = loss_fcn(y, labels)\n",
    "        optimizer.zero_grad()\n",
    "        loss.backward()\n",
    "        optimizer.step()        \n",
    "        total_loss += loss.item()\n",
    "    lr_sched.step()\n",
    "    total_loss /= len(train_loader.dataset)\n",
    "    print(\"Epoch %g: Loss = %g\" % (epoch, total_loss))\n",
    "\n",
    "torch.save(model, \"models/%s.pt\" % modelname)\n",
    "print(\"Saved the model\")"
   ]
  },
  {
   "cell_type": "code",
   "execution_count": null,
   "metadata": {},
   "outputs": [],
   "source": []
  },
  {
   "cell_type": "code",
   "execution_count": null,
   "metadata": {},
   "outputs": [],
   "source": []
  },
  {
   "cell_type": "code",
   "execution_count": 154,
   "metadata": {},
   "outputs": [],
   "source": [
    "class LeNet_MNIST(nn.Module):\n",
    "    def __init__(self):\n",
    "        super(LeNet_MNIST,self).__init__()\n",
    "        #Here, we are plementing those layers which are having learnable parameters.\n",
    "        #Start implementation of Layer 1 (C1) which has 6 kernels of size 5x5 with padding 0 and stride 1\n",
    "        \n",
    "        self.conv1 = nn.Conv2d(in_channels=1,out_channels=6,kernel_size=(5,5))\n",
    "        \n",
    "        #Start implementation of Layer 3 (C3) which has 16 kernels of size 5x5 with padding 0 and stride 1\n",
    "\n",
    "        self.conv2 = nn.Conv2d(in_channels = 6, out_channels = 16,kernel_size = (5,5))\n",
    "        \n",
    "        #Start implementation of Layer 5 (C5) which is basically flattening the data \n",
    "            \n",
    "        self.L1 = nn.Linear(256, 120)\n",
    "        \n",
    "        #Start implementation of Layer 6 (F6) which has 85 Linear Neurons and input of 120\n",
    "        \n",
    "        self.L2 = nn.Linear(120,84)\n",
    "        \n",
    "        #Start implementation of Layer 7 (F7) which has 10 Linear Neurons and input of 84\n",
    "        \n",
    "        self.L3 = nn.Linear(84,10)\n",
    "        \n",
    "        #We have used pooling of size 2 and stride 2 in this architecture \n",
    "        \n",
    "        self.pool = nn.AvgPool2d(kernel_size = 2, stride = 2)\n",
    "        \n",
    "        #We have used tanh as an activation function in this architecture so we will use tanh at all layers excluding F7.\n",
    "        self.act = nn.Tanh()\n",
    "        \n",
    "    #Now we will implement forward function to produce entire flow of the architecture.\n",
    "    \n",
    "    def forward(self,x):\n",
    "        x = self.conv1(x)\n",
    "        #We have used tanh as an activation function in this architecture so we will use tanh at all layers excluding F7.\n",
    "        x = self.act(x)\n",
    "        #Now this will be passed from pooling \n",
    "        x = self.pool(x)\n",
    "        #Next stage is convolution\n",
    "        x = self.conv2(x)\n",
    "        x = self.act(x)\n",
    "        x = self.pool(x)\n",
    "        #next we will pass from conv3, here we will not pass data from pooling as per Architecture \n",
    "        \n",
    "        \n",
    "        #Now the data should be flaten and it would be passed from FC layers. \n",
    "        x = x.view(x.size()[0], -1)\n",
    "        x = self.L1(x)\n",
    "        x = self.act(x)\n",
    "        x = self.L2(x)\n",
    "        x = self.act(x)\n",
    "        x = self.L3(x)\n",
    "        \n",
    "        return x"
   ]
  },
  {
   "cell_type": "code",
   "execution_count": 169,
   "metadata": {},
   "outputs": [
    {
     "name": "stdout",
     "output_type": "stream",
     "text": [
      "Epoch [0], train_loss: 58.0535, test_loss: 20.5085, test_acc: 0.9515\n",
      "Epoch [1], train_loss: 16.8563, test_loss: 11.4889, test_acc: 0.9725\n",
      "Epoch [2], train_loss: 10.9548, test_loss: 8.8285, test_acc: 0.9769\n",
      "Epoch [3], train_loss: 8.2382, test_loss: 8.4571, test_acc: 0.9786\n",
      "Epoch [4], train_loss: 6.5166, test_loss: 6.9045, test_acc: 0.9822\n",
      "Epoch [5], train_loss: 5.5779, test_loss: 6.3462, test_acc: 0.9829\n",
      "Epoch [6], train_loss: 4.7086, test_loss: 5.5551, test_acc: 0.9867\n",
      "Epoch [7], train_loss: 4.1655, test_loss: 5.3448, test_acc: 0.9861\n",
      "Epoch [8], train_loss: 3.3988, test_loss: 5.9889, test_acc: 0.9857\n",
      "Epoch [9], train_loss: 3.1838, test_loss: 5.0938, test_acc: 0.9867\n"
     ]
    }
   ],
   "source": [
    "import torchvision.datasets as datasets\n",
    "import torch.optim as optim\n",
    "import torch.nn.functional as F\n",
    "from torchvision.transforms import ToTensor\n",
    "from torch.utils.data import DataLoader\n",
    "import numpy as np\n",
    "\n",
    "train = datasets.MNIST(root='.',train=True,transform=ToTensor(),download=True)\n",
    "test  = datasets.MNIST(root='.',train=False,transform=ToTensor(),download=True)\n",
    "\n",
    "\n",
    "batch_size = 128\n",
    "train_loader = DataLoader(train,batch_size=batch_size,shuffle=True)\n",
    "test_loader = DataLoader(test,batch_size=batch_size,shuffle=False)\n",
    "\n",
    "model = LeNet_MNIST()\n",
    "\n",
    "lr = 0.001\n",
    "optimizer = optim.Adam(model.parameters(),lr=lr)\n",
    "loss_fn = torch.nn.CrossEntropyLoss(reduction='sum')\n",
    "\n",
    "\n",
    "def accuracy(outputs,labels):\n",
    "    _,pred = torch.max(outputs,dim=1)\n",
    "    return torch.tensor(torch.sum(pred==labels).item()/len(pred))\n",
    "\n",
    "def training_step(batch):\n",
    "            image,label = batch\n",
    "            out = model(image)\n",
    "            loss = loss_fn(out,label)\n",
    "            return loss\n",
    "    \n",
    "def test_step(batch):\n",
    "            image,label = batch\n",
    "            out = model(image)\n",
    "            loss = loss_fn(out,label)\n",
    "            acc = accuracy(out, label)\n",
    "            return {'test_loss': loss.detach(), 'test_acc': acc}\n",
    "    \n",
    "def training_result(outputs):\n",
    "            batch_loss = [i['test_loss'] for i in outputs]\n",
    "            epoch_loss = torch.stack(batch_loss).mean()\n",
    "            batch_acc = [i['test_acc'] for i in outputs]\n",
    "            epoch_acc = torch.stack(batch_acc).mean()  \n",
    "            return {'test_loss': epoch_loss.item(), 'test_acc': epoch_acc.item()}\n",
    "    \n",
    "def epoch_result(epoch,result):\n",
    "            print(\"Epoch [{}], train_loss: {:.4f}, test_loss: {:.4f}, test_acc: {:.4f}\".format(\n",
    "                epoch, result['train_loss'], result['test_loss'], result['test_acc']))\n",
    "\n",
    "                        \n",
    "def get_default_device():\n",
    "    \"\"\"Pick GPU if available, else CPU\"\"\"\n",
    "    if torch.cuda.is_available():\n",
    "        return torch.device('cuda')\n",
    "    else:\n",
    "        return 'cpu'\n",
    "    \n",
    "def to_device(data, device):\n",
    "    \"\"\"Move tensor(s) to chosen device\"\"\"\n",
    "    if isinstance(data, (list,tuple)):\n",
    "        return [to_device(x, device) for x in data]\n",
    "    return data.to(device, non_blocking=True)\n",
    "\n",
    "class DeviceDataLoader():\n",
    "    \"\"\"Wrap a dataloader to move data to a device\"\"\"\n",
    "    def __init__(self, dl, device):\n",
    "        self.dl = dl\n",
    "        self.device = device\n",
    "        \n",
    "    def __iter__(self):\n",
    "        \"\"\"Yield a batch of data after moving it to device\"\"\"\n",
    "        for b in self.dl: \n",
    "            yield to_device(b, self.device)\n",
    "\n",
    "    def __len__(self):\n",
    "        \"\"\"Number of batches\"\"\"\n",
    "        return len(self.dl)\n",
    "\n",
    "device = get_default_device()\n",
    "train_dl = DeviceDataLoader(train_loader, device)\n",
    "test_dl = DeviceDataLoader(test_loader, device)\n",
    "to_device(model, device);\n",
    "\n",
    "def evaluation(model,test_loader):\n",
    "    model.eval()\n",
    "    output = [test_step(batch) for batch in test_loader] \n",
    "    return training_result(output)\n",
    "\n",
    "def fit(epochs,model,lr,train_loader,test_loader,optim = optimizer):\n",
    "    history = []\n",
    "    for epoch in range(epochs):\n",
    "        train_loss = []\n",
    "        model.train()\n",
    "        for batch in train_loader:\n",
    "            loss = training_step(batch)\n",
    "            train_loss.append(loss)\n",
    "            loss.backward()\n",
    "            optimizer.step()\n",
    "            optimizer.zero_grad()\n",
    "            \n",
    "        result = evaluation(model,test_loader)\n",
    "        result['train_loss'] = torch.stack(train_loss).mean().item()\n",
    "        epoch_result(epoch,result)\n",
    "        history.append(result)\n",
    "    return history\n",
    "            \n",
    "num_epochs = 10\n",
    "opt_func = torch.optim.Adam\n",
    "lr = 0.001\n",
    "\n",
    "history = fit(num_epochs,model,lr, train_dl, test_dl, opt_func)"
   ]
  },
  {
   "cell_type": "code",
   "execution_count": 171,
   "metadata": {},
   "outputs": [],
   "source": [
    "torch.save(model, \"models/CNN.pt\")"
   ]
  },
  {
   "cell_type": "code",
   "execution_count": 174,
   "metadata": {},
   "outputs": [
    {
     "data": {
      "text/plain": [
       "torch.Size([128, 1, 28, 28])"
      ]
     },
     "execution_count": 174,
     "metadata": {},
     "output_type": "execute_result"
    }
   ],
   "source": [
    "img = next(iter(test_loader))\n",
    "img[0].shape"
   ]
  },
  {
   "cell_type": "code",
   "execution_count": 172,
   "metadata": {},
   "outputs": [
    {
     "data": {
      "text/plain": [
       "{'test_loss': 5.093798637390137, 'test_acc': 0.9867483973503113}"
      ]
     },
     "execution_count": 172,
     "metadata": {},
     "output_type": "execute_result"
    }
   ],
   "source": [
    "evaluation(model, test_loader)"
   ]
  },
  {
   "cell_type": "markdown",
   "metadata": {},
   "source": [
    "## Generate Adv Examples"
   ]
  },
  {
   "cell_type": "code",
   "execution_count": 131,
   "metadata": {},
   "outputs": [],
   "source": [
    "# Train dataset\n",
    "train_dataset = torchvision.datasets.MNIST('.', train=True, download=True,\n",
    "                       transform=transform_mnist)\n",
    "\n",
    "# Train data loader\n",
    "train_loader = torch.utils.data.DataLoader(train_dataset, batch_size=64, shuffle=True)\n",
    "\n",
    "# Test dataset\n",
    "test_dataset = torchvision.datasets.MNIST('.', train=False, download=True,\n",
    "                       transform=transform_mnist)\n",
    "\n",
    "# Test data loader with batch_size 1\n",
    "test_loader = torch.utils.data.DataLoader(test_dataset, batch_size=1, shuffle=True, generator=torch.Generator().manual_seed(156))"
   ]
  },
  {
   "cell_type": "code",
   "execution_count": 86,
   "metadata": {},
   "outputs": [],
   "source": [
    "# Get a batch and flatten the input\n",
    "images, targets = next(iter(test_loader))"
   ]
  },
  {
   "cell_type": "code",
   "execution_count": 87,
   "metadata": {},
   "outputs": [
    {
     "data": {
      "text/plain": [
       "torch.Size([1, 1, 32, 32])"
      ]
     },
     "execution_count": 87,
     "metadata": {},
     "output_type": "execute_result"
    }
   ],
   "source": [
    "images.shape"
   ]
  },
  {
   "cell_type": "code",
   "execution_count": 88,
   "metadata": {},
   "outputs": [
    {
     "data": {
      "text/plain": [
       "tensor([8])"
      ]
     },
     "execution_count": 88,
     "metadata": {},
     "output_type": "execute_result"
    }
   ],
   "source": [
    "targets"
   ]
  },
  {
   "cell_type": "code",
   "execution_count": 54,
   "metadata": {},
   "outputs": [],
   "source": [
    "def forward_pass(model, images, loss_target = None):\n",
    "    output = model(images)\n",
    "    output = torch.nn.LogSoftmax(dim=-1)(output)\n",
    "    which_class = torch.argmax(output).item()\n",
    "    if loss_target:\n",
    "        loss, target = loss_target\n",
    "        loss(output, target).backward()\n",
    "    return which_class"
   ]
  },
  {
   "cell_type": "code",
   "execution_count": 55,
   "metadata": {},
   "outputs": [],
   "source": [
    "def otcm(images, eps, saliency):\n",
    "    return torch.clamp(images.clone()-eps*saliency, 0, 1)"
   ]
  },
  {
   "cell_type": "code",
   "execution_count": 56,
   "metadata": {},
   "outputs": [],
   "source": [
    "# How many models can an adversarial example fool?\n",
    "def how_many_can_it_fool(sampled_models, eps, saliency):\n",
    "    fool = 0\n",
    "    for k in range(len(sampled_models)):\n",
    "        # Forward pass on sampled model k\n",
    "        old_class = forward_pass(sampled_models[k], images)\n",
    "        # One step Target Class Method (OTCM); saliency is noise\n",
    "        new_images = otcm(images, eps, saliency)\n",
    "        # Forward pass again on adv. example\n",
    "        new_class = forward_pass(sampled_models[k], new_images)\n",
    "        # If we change the class, we fool the model\n",
    "        fool += int(old_class != new_class)\n",
    "    return fool/len(sampled_models)"
   ]
  },
  {
   "cell_type": "code",
   "execution_count": 19,
   "metadata": {},
   "outputs": [],
   "source": [
    "# Collect noises (saliencies)\n",
    "EPS = 0.18\n",
    "saliencies = []\n",
    "how_many_fooled = []\n",
    "torch.set_printoptions(sci_mode=False)\n",
    "for k in range(len(sampled_models)):\n",
    "    # Forward pass\n",
    "    # Compute loss w.r.t. an incorrect class\n",
    "    # Note that we just have to ensure this class is different from targets\n",
    "    images.grad = None\n",
    "    images.requires_grad = True\n",
    "    old_class = forward_pass(sampled_models[k], images, [torch.nn.NLLLoss(), torch.tensor([1])])\n",
    "    # Compute adversarial example\n",
    "    new_images = otcm(images, EPS, images.grad.sign())\n",
    "    # Forward pass on adv. example\n",
    "    new_class = forward_pass(sampled_models[k], new_images)\n",
    "    if old_class != new_class:\n",
    "        # How many models can this adv. example fool?\n",
    "        how_many_fooled += [how_many_can_it_fool(sampled_models, EPS, images.grad.sign())]\n",
    "        saliencies += [images.grad.sign().view(32, 32)]"
   ]
  },
  {
   "cell_type": "code",
   "execution_count": null,
   "metadata": {},
   "outputs": [],
   "source": []
  },
  {
   "cell_type": "code",
   "execution_count": 57,
   "metadata": {},
   "outputs": [],
   "source": [
    "def generate_saliency(EPS,target,images):\n",
    "    # Collect noises (saliencies)\n",
    "    # EPS = 0.18\n",
    "    saliencies = []\n",
    "    how_many_fooled = []\n",
    "    torch.set_printoptions(sci_mode=False)\n",
    "    # target = torch.tensor([1])\n",
    "    target = torch.tensor([target])\n",
    "    for k in range(len(sampled_models)):\n",
    "        # Forward pass\n",
    "        # Compute loss w.r.t. an incorrect class\n",
    "        # Note that we just have to ensure this class is different from targets\n",
    "        # print(\"\\r Processing \" + str(k+1) + \"/%s\" % len(sampled_models), end=\"\")\n",
    "        images.grad = None\n",
    "        images.requires_grad = True\n",
    "        old_class = forward_pass(sampled_models[k], images, [torch.nn.NLLLoss(), target])\n",
    "        # Compute adversarial example\n",
    "        new_images = otcm(images, EPS, images.grad.sign())\n",
    "        # Forward pass on adv. example\n",
    "        new_class = forward_pass(sampled_models[k], new_images)\n",
    "        if old_class != new_class:\n",
    "            # How many models can this adv. example fool?\n",
    "            how_many_fooled += [how_many_can_it_fool(sampled_models, EPS, images.grad.sign())]\n",
    "            saliencies += [images.grad.sign().view(32, 32)]\n",
    "    # print(\"\\nFinished\")\n",
    "    return saliencies, how_many_fooled"
   ]
  },
  {
   "cell_type": "code",
   "execution_count": 58,
   "metadata": {},
   "outputs": [],
   "source": [
    "def combine_saliencies(saliencies,success):\n",
    "    \n",
    "    # print(saliencies.shape)\n",
    "    combined_med  = torch.zeros_like(saliencies[0])\n",
    "    combined_mean = torch.zeros_like(saliencies[0])\n",
    "    # distributional saliency map\n",
    "    saliencies = torch.stack(saliencies)\n",
    "    for i in range(combined_med.shape[0]):\n",
    "        for j in range(combined_med.shape[1]):\n",
    "            # choose median perturbation\n",
    "            combined_med[i, j] = np.percentile(saliencies[:, i, j].numpy(), 50)\n",
    "            combined_mean[i, j] = saliencies[:, i, j].mean().item()\n",
    "    combined_med  = combined_med\n",
    "    combined_mean = combined_mean\n",
    "    champ         = saliencies[success.index(max(success))]\n",
    "    return combined_med, combined_mean, champ"
   ]
  },
  {
   "cell_type": "code",
   "execution_count": 74,
   "metadata": {},
   "outputs": [
    {
     "data": {
      "image/png": "[encoded data removed]",
      "text/plain": [
       "<Figure size 432x288 with 3 Axes>"
      ]
     },
     "metadata": {
      "needs_background": "light"
     },
     "output_type": "display_data"
    }
   ],
   "source": [
    "plt.figure()\n",
    "plt.subplot(1, 3, 1)\n",
    "plt.imshow(images.reshape(32, 32).detach().numpy())\n",
    "plt.subplot(1, 3, 2)\n",
    "plt.imshow((c_med*EPS).reshape(32, 32).detach().numpy(), vmin=-1., vmax=1.)\n",
    "plt.subplot(1, 3, 3)\n",
    "plt.imshow(new_images.reshape(32, 32).detach().numpy())\n",
    "plt.show()"
   ]
  },
  {
   "cell_type": "code",
   "execution_count": 75,
   "metadata": {},
   "outputs": [
    {
     "data": {
      "image/png": "[encoded data removed]",
      "text/plain": [
       "<Figure size 432x288 with 3 Axes>"
      ]
     },
     "metadata": {
      "needs_background": "light"
     },
     "output_type": "display_data"
    }
   ],
   "source": [
    "plt.figure()\n",
    "plt.subplot(1, 3, 1)\n",
    "plt.imshow(images.reshape(32, 32).detach().numpy())\n",
    "plt.subplot(1, 3, 2)\n",
    "plt.imshow((champ*EPS).reshape(32, 32).detach().numpy(), vmin=-1., vmax=1.)\n",
    "plt.subplot(1, 3, 3)\n",
    "plt.imshow(new_images.reshape(32, 32).detach().numpy())\n",
    "plt.show()"
   ]
  },
  {
   "cell_type": "markdown",
   "metadata": {},
   "source": [
    "## Generation"
   ]
  },
  {
   "cell_type": "code",
   "execution_count": null,
   "metadata": {},
   "outputs": [],
   "source": [
    "sals, success = generate_saliency(0.18,0,images)\n",
    "c_med, c_mean, champ = combine_saliencies(sals,success)"
   ]
  },
  {
   "cell_type": "code",
   "execution_count": null,
   "metadata": {},
   "outputs": [],
   "source": [
    "EPS = 0.18\n",
    "SAVE_DIR = \"./\"\n",
    "# for i in range(len(train_dataset.targets)):\n",
    "target_len = len(train_dataset.classes)\n",
    "counter     = 1\n",
    "successes   = []\n",
    "orgTarget   = [] \n",
    "falseTarget = []\n",
    "\n",
    "skip = 0\n",
    "stop = 3\n",
    "for data in train_loader:\n",
    "    if counter < skip:\n",
    "        counter +=1\n",
    "        continue\n",
    "    images_med   = []\n",
    "    images_mean  = []\n",
    "    images_champ = []\n",
    "    tru_labels   = []\n",
    "    images, labels = data\n",
    "    print(\"\\r Batch %s\" % counter, end=\"\")\n",
    "    for i in range(images.shape[0]): #\n",
    "        print(i)\n",
    "        # the real target\n",
    "        target_org = labels[i].item()\n",
    "        # the target that wanted to be resulted in\n",
    "        target     = int(np.random.choice(list(set(range(target_len)) - set([target_org])),size=1))\n",
    "        image      = images[i:i+1,:,:,:]\n",
    "        # generating saliency maps using each sampled network\n",
    "        temp_sals, success = generate_saliency(EPS,target,image)\n",
    "        successes.append(success)\n",
    "        orgTarget.append(target_org)\n",
    "        falseTarget.append(target)\n",
    "        # combining maps into three types\n",
    "        combined_med, combined_mean, champ = combine_saliencies(temp_sals,success)\n",
    "        # creating image\n",
    "        images_med.append(otcm(image, EPS, combined_med))\n",
    "        images_mean.append(otcm(image, EPS, combined_mean))\n",
    "        images_champ.append(otcm(image, EPS, champ))\n",
    "        tru_labels.append(target_org)\n",
    "    tru_labels   = torch.tensor(tru_labels)\n",
    "\n",
    "    images_med   = (torch.vstack(images_med)*255).type(torch.uint8).detach()\n",
    "    images_mean  = (torch.vstack(images_mean)*255).type(torch.uint8).detach()\n",
    "    images_champ = (torch.vstack(images_champ)*255).type(torch.uint8).detach()\n",
    "    images_med   = {'images': images_med,  'labels': tru_labels}\n",
    "    images_mean  = {'images': images_mean, 'labels': tru_labels}\n",
    "    images_champ = {'images': images_champ,'labels': tru_labels}\n",
    "\n",
    "\n",
    "#     with open(SAVE_DIR + 'train_images_med_%s.pickle'   % counter, 'wb') as handle:\n",
    "#         pickle.dump(images_med, handle, protocol  = pickle.HIGHEST_PROTOCOL)\n",
    "#     with open(SAVE_DIR + 'train_images_mean_%s.pickle'  % counter, 'wb') as handle:\n",
    "#         pickle.dump(images_mean, handle, protocol = pickle.HIGHEST_PROTOCOL)\n",
    "#     with open(SAVE_DIR + 'train_images_champ_%s.pickle' % counter, 'wb') as handle:\n",
    "#         pickle.dump(images_champ, handle, protocol= pickle.HIGHEST_PROTOCOL)\n",
    "    counter += 1\n",
    "    if counter > stop:\n",
    "        print(\"braking\")\n",
    "        break"
   ]
  },
  {
   "cell_type": "markdown",
   "metadata": {},
   "source": [
    "## Adversarial Training"
   ]
  },
  {
   "cell_type": "code",
   "execution_count": 135,
   "metadata": {},
   "outputs": [],
   "source": [
    "# Train dataset\n",
    "train_dataset = torchvision.datasets.MNIST('.', train=True, download=True,\n",
    "                       transform=transform_mnist)"
   ]
  },
  {
   "cell_type": "code",
   "execution_count": 136,
   "metadata": {},
   "outputs": [],
   "source": [
    "transform_back = transforms.Compose([transforms.Resize((28,28))])"
   ]
  },
  {
   "cell_type": "code",
   "execution_count": 137,
   "metadata": {},
   "outputs": [],
   "source": [
    "dirs    = [d for d in os.listdir(\"mnist_adv_CNN_0.05/\") if d.startswith(\"train_images_med\")]\n",
    "dir_ord = sorted([int(re.findall(\"[0-9]+\",d)[0]) for d in dirs])\n",
    "dirs    = sorted(dirs, key=lambda x: dir_ord.index(int(re.findall(\"[0-9]+\",x)[0])))"
   ]
  },
  {
   "cell_type": "code",
   "execution_count": 138,
   "metadata": {},
   "outputs": [],
   "source": [
    "images  = []\n",
    "targets = []\n",
    "for d in dirs:\n",
    "    with open(\"mnist_adv_CNN_0.05//\" + d, 'rb') as handle:\n",
    "        temp = pickle.load(handle)\n",
    "        images.append(temp[\"images\"])\n",
    "        targets.append(temp[\"labels\"])\n",
    "        \n",
    "images  = torch.vstack(images)\n",
    "images  = transform_back(images)\n",
    "images  = images[:,0,:,:]\n",
    "\n",
    "targets = torch.hstack(targets)"
   ]
  },
  {
   "cell_type": "code",
   "execution_count": 140,
   "metadata": {},
   "outputs": [],
   "source": [
    "train_dataset.data    = torch.vstack([train_dataset.data, images])\n",
    "train_dataset.targets = torch.hstack([train_dataset.targets, targets])\n",
    "\n",
    "train, val = random_split(train_dataset,[50000+images.shape[0],10000], generator=torch.Generator().manual_seed(156))\n",
    "\n",
    "# Train data loader\n",
    "train_loader = torch.utils.data.DataLoader(train, batch_size=128, shuffle=True)\n",
    "valid_loader = torch.utils.data.DataLoader(val  , batch_size=128, shuffle=True)"
   ]
  },
  {
   "cell_type": "code",
   "execution_count": 141,
   "metadata": {},
   "outputs": [],
   "source": [
    "img = next(iter(train_loader))"
   ]
  },
  {
   "cell_type": "code",
   "execution_count": 142,
   "metadata": {},
   "outputs": [
    {
     "data": {
      "image/png": "[encoded data removed]",
      "text/plain": [
       "<Figure size 432x288 with 1 Axes>"
      ]
     },
     "metadata": {
      "needs_background": "light"
     },
     "output_type": "display_data"
    }
   ],
   "source": [
    "ind = 10 # try 1\n",
    "plt.figure()\n",
    "plt.imshow(img[0][ind,0,:,:], cmap='gray')\n",
    "plt.title(\"Class: %s\" % img[1][ind].item())\n",
    "plt.show()"
   ]
  },
  {
   "cell_type": "code",
   "execution_count": 143,
   "metadata": {},
   "outputs": [],
   "source": [
    "def train_and_save_models(epochs = 10, K = 100, modelname = \"model-cnn-adv.pt\"):\n",
    "    if os.path.exists(modelname):\n",
    "        print(\"File exists\")\n",
    "        return\n",
    "    # Train with ELBO and Adam (Bayes by Backprop + LRT)\n",
    "    criterion = common.metrics.ELBO(len(trainset))\n",
    "    optimizer = Adam(net.parameters(), lr=lr_start)\n",
    "    lr_sched = lr_scheduler.ReduceLROnPlateau(optimizer, patience=6, verbose=True)\n",
    "    for epoch in range(epochs):  # loop over the dataset multiple times\n",
    "        train_loss, train_acc, train_kl = common.train_model(net, optimizer, criterion, train_loader, \n",
    "                                                             num_ens=train_ens, beta_type=beta_type, epoch=epoch,\n",
    "                                                             num_epochs=epochs)\n",
    "        valid_loss, valid_acc = common.validate_model(net, criterion, valid_loader, num_ens=valid_ens, \n",
    "                                                      beta_type=beta_type, epoch=epoch, num_epochs=epochs)\n",
    "        lr_sched.step(valid_loss)\n",
    "        print('Epoch:%d, TrainLoss:%.3f, TrainAcc:%.3f, ValLoss:%.3f, ValAcc:%.3f, KL:%.3f' % (\n",
    "            epoch, train_loss, train_acc, valid_loss, valid_acc, train_kl))\n",
    "    # Sample k models from the posterior\n",
    "    nn_dicts = []\n",
    "    for i in range(K):\n",
    "        sample_model = LeNet(outputs, inputs, layer_type, activation_type)\n",
    "        sample_model.sample(net)\n",
    "        nn_dicts += [sample_model.state_dict()]\n",
    "    # Save the models\n",
    "    torch.save(nn_dicts, modelname)\n",
    "    print(\"Saved %d models\" % K)"
   ]
  },
  {
   "cell_type": "code",
   "execution_count": 144,
   "metadata": {
    "scrolled": true
   },
   "outputs": [
    {
     "name": "stdout",
     "output_type": "stream",
     "text": [
      "Epoch:0, TrainLoss:8949.661, TrainAcc:0.973, ValLoss:8815.307, ValAcc:0.975, KL:35952.331\n",
      "Epoch:1, TrainLoss:8331.902, TrainAcc:0.975, ValLoss:8980.602, ValAcc:0.973, KL:35115.529\n",
      "Epoch:2, TrainLoss:7778.730, TrainAcc:0.978, ValLoss:8261.433, ValAcc:0.977, KL:34635.471\n",
      "Epoch:3, TrainLoss:7666.301, TrainAcc:0.978, ValLoss:8226.040, ValAcc:0.975, KL:34100.247\n",
      "Epoch:4, TrainLoss:7431.978, TrainAcc:0.979, ValLoss:8325.451, ValAcc:0.976, KL:33713.422\n",
      "Epoch:5, TrainLoss:7143.370, TrainAcc:0.981, ValLoss:8008.452, ValAcc:0.976, KL:33158.879\n",
      "Epoch:6, TrainLoss:6964.101, TrainAcc:0.980, ValLoss:8216.730, ValAcc:0.975, KL:32673.102\n",
      "Epoch:7, TrainLoss:6826.943, TrainAcc:0.982, ValLoss:8213.214, ValAcc:0.975, KL:32222.349\n",
      "Epoch:8, TrainLoss:6733.833, TrainAcc:0.982, ValLoss:7880.064, ValAcc:0.977, KL:31912.593\n",
      "Epoch:9, TrainLoss:6353.305, TrainAcc:0.983, ValLoss:7803.279, ValAcc:0.980, KL:31599.982\n",
      "Epoch:10, TrainLoss:6362.029, TrainAcc:0.983, ValLoss:7619.875, ValAcc:0.979, KL:31359.545\n",
      "Epoch:11, TrainLoss:6460.006, TrainAcc:0.984, ValLoss:7891.625, ValAcc:0.979, KL:31118.374\n",
      "Epoch:12, TrainLoss:6209.604, TrainAcc:0.984, ValLoss:7932.998, ValAcc:0.980, KL:31090.918\n",
      "Epoch:13, TrainLoss:6209.339, TrainAcc:0.984, ValLoss:7619.793, ValAcc:0.981, KL:30886.282\n",
      "Epoch:14, TrainLoss:6010.746, TrainAcc:0.985, ValLoss:7381.291, ValAcc:0.979, KL:30659.194\n",
      "Epoch:15, TrainLoss:6052.156, TrainAcc:0.985, ValLoss:7377.170, ValAcc:0.980, KL:30414.547\n",
      "Epoch:16, TrainLoss:5863.056, TrainAcc:0.986, ValLoss:7180.469, ValAcc:0.982, KL:30154.216\n",
      "Epoch:17, TrainLoss:5834.112, TrainAcc:0.985, ValLoss:7690.705, ValAcc:0.979, KL:29989.518\n",
      "Epoch:18, TrainLoss:5740.364, TrainAcc:0.986, ValLoss:7222.262, ValAcc:0.982, KL:30025.836\n",
      "Epoch:19, TrainLoss:5629.161, TrainAcc:0.986, ValLoss:7364.658, ValAcc:0.981, KL:29862.409\n",
      "Saved 1000 models\n"
     ]
    }
   ],
   "source": [
    "train_and_save_models(epochs = 20, K = 1000, modelname = \"model-cnn-adv-med0.05.pt\")"
   ]
  },
  {
   "cell_type": "code",
   "execution_count": null,
   "metadata": {},
   "outputs": [],
   "source": []
  },
  {
   "cell_type": "markdown",
   "metadata": {},
   "source": [
    "## Adversarial Training Champ"
   ]
  },
  {
   "cell_type": "code",
   "execution_count": 145,
   "metadata": {},
   "outputs": [],
   "source": [
    "# Train dataset\n",
    "train_dataset = torchvision.datasets.MNIST('.', train=True, download=True,\n",
    "                       transform=transform_mnist)"
   ]
  },
  {
   "cell_type": "code",
   "execution_count": 146,
   "metadata": {},
   "outputs": [],
   "source": [
    "transform_back = transforms.Compose([transforms.Resize((28,28))])"
   ]
  },
  {
   "cell_type": "code",
   "execution_count": 147,
   "metadata": {},
   "outputs": [],
   "source": [
    "dirs    = [d for d in os.listdir(\"mnist_adv_CNN_0.05/\") if d.startswith(\"train_images_champ\")]\n",
    "dir_ord = sorted([int(re.findall(\"[0-9]+\",d)[0]) for d in dirs])\n",
    "dirs    = sorted(dirs, key=lambda x: dir_ord.index(int(re.findall(\"[0-9]+\",x)[0])))"
   ]
  },
  {
   "cell_type": "code",
   "execution_count": 148,
   "metadata": {},
   "outputs": [],
   "source": [
    "images  = []\n",
    "targets = []\n",
    "for d in dirs:\n",
    "    with open(\"mnist_adv_CNN_0.05/\" + d, 'rb') as handle:\n",
    "        temp = pickle.load(handle)\n",
    "        images.append(temp[\"images\"])\n",
    "        targets.append(temp[\"labels\"])\n",
    "        \n",
    "images  = torch.vstack(images)\n",
    "images  = transform_back(images)\n",
    "images  = images[:,0,:,:]\n",
    "\n",
    "targets = torch.hstack(targets)"
   ]
  },
  {
   "cell_type": "code",
   "execution_count": 150,
   "metadata": {},
   "outputs": [],
   "source": [
    "train_dataset.data    = torch.vstack([train_dataset.data, images])\n",
    "train_dataset.targets = torch.hstack([train_dataset.targets, targets])\n",
    "\n",
    "train, val = random_split(train_dataset,[50000+images.shape[0],10000], generator=torch.Generator().manual_seed(156))\n",
    "\n",
    "# Train data loader\n",
    "train_loader = torch.utils.data.DataLoader(train, batch_size=128, shuffle=True)\n",
    "valid_loader = torch.utils.data.DataLoader(val  , batch_size=128, shuffle=True)"
   ]
  },
  {
   "cell_type": "code",
   "execution_count": 151,
   "metadata": {},
   "outputs": [],
   "source": [
    "img = next(iter(train_loader))"
   ]
  },
  {
   "cell_type": "code",
   "execution_count": 152,
   "metadata": {},
   "outputs": [
    {
     "data": {
      "image/png": "[encoded data removed]",
      "text/plain": [
       "<Figure size 432x288 with 1 Axes>"
      ]
     },
     "metadata": {
      "needs_background": "light"
     },
     "output_type": "display_data"
    }
   ],
   "source": [
    "ind = 10 # try 1\n",
    "plt.figure()\n",
    "plt.imshow(img[0][ind,0,:,:], cmap='gray')\n",
    "plt.title(\"Class: %s\" % img[1][ind].item())\n",
    "plt.show()"
   ]
  },
  {
   "cell_type": "code",
   "execution_count": 153,
   "metadata": {},
   "outputs": [
    {
     "name": "stdout",
     "output_type": "stream",
     "text": [
      "Epoch:0, TrainLoss:5748.950, TrainAcc:0.985, ValLoss:7297.304, ValAcc:0.978, KL:28318.823\n",
      "Epoch:1, TrainLoss:5604.724, TrainAcc:0.986, ValLoss:6953.296, ValAcc:0.982, KL:28425.381\n",
      "Epoch:2, TrainLoss:5523.580, TrainAcc:0.986, ValLoss:7027.331, ValAcc:0.980, KL:28654.955\n",
      "Epoch:3, TrainLoss:5468.697, TrainAcc:0.987, ValLoss:6825.225, ValAcc:0.982, KL:28711.553\n",
      "Epoch:4, TrainLoss:5469.264, TrainAcc:0.987, ValLoss:7226.810, ValAcc:0.982, KL:28803.916\n",
      "Epoch:5, TrainLoss:5562.123, TrainAcc:0.986, ValLoss:6808.629, ValAcc:0.981, KL:29043.431\n",
      "Epoch:6, TrainLoss:5333.678, TrainAcc:0.988, ValLoss:6939.312, ValAcc:0.982, KL:29171.288\n",
      "Epoch:7, TrainLoss:5457.837, TrainAcc:0.987, ValLoss:7125.187, ValAcc:0.981, KL:29041.696\n",
      "Epoch:8, TrainLoss:5298.181, TrainAcc:0.988, ValLoss:7094.158, ValAcc:0.981, KL:28945.895\n",
      "Epoch:9, TrainLoss:5208.028, TrainAcc:0.988, ValLoss:7566.662, ValAcc:0.981, KL:28774.984\n",
      "Epoch:10, TrainLoss:5101.284, TrainAcc:0.988, ValLoss:6604.559, ValAcc:0.982, KL:28617.199\n",
      "Epoch:11, TrainLoss:5127.127, TrainAcc:0.988, ValLoss:6991.694, ValAcc:0.982, KL:28627.920\n",
      "Epoch:12, TrainLoss:4991.676, TrainAcc:0.989, ValLoss:7022.069, ValAcc:0.983, KL:28430.669\n",
      "Epoch:13, TrainLoss:5131.023, TrainAcc:0.989, ValLoss:7135.683, ValAcc:0.982, KL:28430.843\n",
      "Epoch:14, TrainLoss:5060.428, TrainAcc:0.989, ValLoss:6791.852, ValAcc:0.984, KL:28366.075\n",
      "Epoch:15, TrainLoss:4952.064, TrainAcc:0.989, ValLoss:6901.688, ValAcc:0.983, KL:28299.291\n",
      "Epoch:16, TrainLoss:4930.176, TrainAcc:0.989, ValLoss:6891.714, ValAcc:0.983, KL:28138.205\n",
      "Epoch    18: reducing learning rate of group 0 to 1.0000e-04.\n",
      "Epoch:17, TrainLoss:4892.830, TrainAcc:0.989, ValLoss:6610.577, ValAcc:0.984, KL:28137.388\n",
      "Epoch:18, TrainLoss:4568.035, TrainAcc:0.991, ValLoss:6671.523, ValAcc:0.983, KL:28074.439\n",
      "Epoch:19, TrainLoss:4529.751, TrainAcc:0.991, ValLoss:6699.654, ValAcc:0.985, KL:27905.277\n",
      "Saved 1000 models\n"
     ]
    }
   ],
   "source": [
    "train_and_save_models(epochs = 20, K = 1000, modelname = \"model-cnn-adv-champ0.05.pt\")"
   ]
  },
  {
   "cell_type": "code",
   "execution_count": null,
   "metadata": {},
   "outputs": [],
   "source": []
  },
  {
   "cell_type": "markdown",
   "metadata": {},
   "source": [
    "## Adversarial Training (eps= 0.18)"
   ]
  },
  {
   "cell_type": "code",
   "execution_count": 175,
   "metadata": {},
   "outputs": [],
   "source": [
    "# Train dataset\n",
    "train_dataset = torchvision.datasets.MNIST('.', train=True, download=True,\n",
    "                       transform=transform_mnist)"
   ]
  },
  {
   "cell_type": "code",
   "execution_count": 176,
   "metadata": {},
   "outputs": [],
   "source": [
    "transform_back = transforms.Compose([transforms.Resize((28,28))])"
   ]
  },
  {
   "cell_type": "code",
   "execution_count": 177,
   "metadata": {},
   "outputs": [],
   "source": [
    "dirs    = [d for d in os.listdir(\"mnist_adv_CNN_0.18/\") if d.startswith(\"train_images_med\")]\n",
    "dir_ord = sorted([int(re.findall(\"[0-9]+\",d)[0]) for d in dirs])\n",
    "dirs    = sorted(dirs, key=lambda x: dir_ord.index(int(re.findall(\"[0-9]+\",x)[0])))"
   ]
  },
  {
   "cell_type": "code",
   "execution_count": 178,
   "metadata": {},
   "outputs": [],
   "source": [
    "images  = []\n",
    "targets = []\n",
    "for d in dirs:\n",
    "    with open(\"mnist_adv_CNN_0.18/\" + d, 'rb') as handle:\n",
    "        temp = pickle.load(handle)\n",
    "        images.append(temp[\"images\"])\n",
    "        targets.append(temp[\"labels\"])\n",
    "        \n",
    "images  = torch.vstack(images)\n",
    "images  = transform_back(images)\n",
    "images  = images[:,0,:,:]\n",
    "\n",
    "targets = torch.hstack(targets)"
   ]
  },
  {
   "cell_type": "code",
   "execution_count": 179,
   "metadata": {},
   "outputs": [],
   "source": [
    "train_dataset.data    = torch.vstack([train_dataset.data, images])\n",
    "train_dataset.targets = torch.hstack([train_dataset.targets, targets])\n",
    "\n",
    "train, val = random_split(train_dataset,[50000+images.shape[0],10000], generator=torch.Generator().manual_seed(156))\n",
    "\n",
    "# Train data loader\n",
    "train_loader = torch.utils.data.DataLoader(train, batch_size=128, shuffle=True)\n",
    "valid_loader = torch.utils.data.DataLoader(val  , batch_size=128, shuffle=True)"
   ]
  },
  {
   "cell_type": "code",
   "execution_count": 180,
   "metadata": {},
   "outputs": [],
   "source": [
    "img = next(iter(train_loader))"
   ]
  },
  {
   "cell_type": "code",
   "execution_count": 181,
   "metadata": {},
   "outputs": [
    {
     "data": {
      "image/png": "[encoded data removed]",
      "text/plain": [
       "<Figure size 432x288 with 1 Axes>"
      ]
     },
     "metadata": {
      "needs_background": "light"
     },
     "output_type": "display_data"
    }
   ],
   "source": [
    "ind = 10 # try 1\n",
    "plt.figure()\n",
    "plt.imshow(img[0][ind,0,:,:], cmap='gray')\n",
    "plt.title(\"Class: %s\" % img[1][ind].item())\n",
    "plt.show()"
   ]
  },
  {
   "cell_type": "code",
   "execution_count": 182,
   "metadata": {},
   "outputs": [],
   "source": [
    "def train_and_save_models(epochs = 10, K = 100, modelname = \"model-cnn-adv.pt\"):\n",
    "    if os.path.exists(modelname):\n",
    "        print(\"File exists\")\n",
    "        return\n",
    "    # Train with ELBO and Adam (Bayes by Backprop + LRT)\n",
    "    criterion = common.metrics.ELBO(len(trainset))\n",
    "    optimizer = Adam(net.parameters(), lr=lr_start)\n",
    "    lr_sched = lr_scheduler.ReduceLROnPlateau(optimizer, patience=6, verbose=True)\n",
    "    for epoch in range(epochs):  # loop over the dataset multiple times\n",
    "        train_loss, train_acc, train_kl = common.train_model(net, optimizer, criterion, train_loader, \n",
    "                                                             num_ens=train_ens, beta_type=beta_type, epoch=epoch,\n",
    "                                                             num_epochs=epochs)\n",
    "        valid_loss, valid_acc = common.validate_model(net, criterion, valid_loader, num_ens=valid_ens, \n",
    "                                                      beta_type=beta_type, epoch=epoch, num_epochs=epochs)\n",
    "        lr_sched.step(valid_loss)\n",
    "        print('Epoch:%d, TrainLoss:%.3f, TrainAcc:%.3f, ValLoss:%.3f, ValAcc:%.3f, KL:%.3f' % (\n",
    "            epoch, train_loss, train_acc, valid_loss, valid_acc, train_kl))\n",
    "    # Sample k models from the posterior\n",
    "    nn_dicts = []\n",
    "    for i in range(K):\n",
    "        sample_model = LeNet(outputs, inputs, layer_type, activation_type)\n",
    "        sample_model.sample(net)\n",
    "        nn_dicts += [sample_model.state_dict()]\n",
    "    # Save the models\n",
    "    torch.save(nn_dicts, modelname)\n",
    "    print(\"Saved %d models\" % K)"
   ]
  },
  {
   "cell_type": "code",
   "execution_count": 184,
   "metadata": {
    "scrolled": true
   },
   "outputs": [
    {
     "name": "stdout",
     "output_type": "stream",
     "text": [
      "Epoch:0, TrainLoss:6328.549, TrainAcc:0.982, ValLoss:6058.759, ValAcc:0.983, KL:28087.034\n",
      "Epoch:1, TrainLoss:6107.050, TrainAcc:0.983, ValLoss:6719.151, ValAcc:0.980, KL:28581.676\n",
      "Epoch:2, TrainLoss:5874.656, TrainAcc:0.985, ValLoss:6654.492, ValAcc:0.980, KL:28847.441\n",
      "Epoch:3, TrainLoss:5688.220, TrainAcc:0.986, ValLoss:6139.992, ValAcc:0.982, KL:29071.327\n",
      "Epoch:4, TrainLoss:5593.068, TrainAcc:0.986, ValLoss:6237.446, ValAcc:0.982, KL:29128.288\n",
      "Epoch:5, TrainLoss:5347.973, TrainAcc:0.988, ValLoss:6199.795, ValAcc:0.984, KL:28983.227\n",
      "Epoch:6, TrainLoss:5237.087, TrainAcc:0.988, ValLoss:6407.690, ValAcc:0.983, KL:28864.655\n",
      "Epoch     8: reducing learning rate of group 0 to 1.0000e-04.\n",
      "Epoch:7, TrainLoss:5344.323, TrainAcc:0.987, ValLoss:6852.710, ValAcc:0.982, KL:28852.665\n",
      "Epoch:8, TrainLoss:4919.120, TrainAcc:0.989, ValLoss:5830.979, ValAcc:0.985, KL:28871.863\n",
      "Epoch:9, TrainLoss:4996.001, TrainAcc:0.989, ValLoss:5803.739, ValAcc:0.985, KL:28731.249\n",
      "Epoch:10, TrainLoss:4837.497, TrainAcc:0.990, ValLoss:6024.384, ValAcc:0.984, KL:28611.868\n",
      "Epoch:11, TrainLoss:4694.949, TrainAcc:0.990, ValLoss:5649.666, ValAcc:0.985, KL:28469.260\n",
      "Epoch:12, TrainLoss:4801.222, TrainAcc:0.990, ValLoss:5768.590, ValAcc:0.985, KL:28344.251\n",
      "Epoch:13, TrainLoss:4729.761, TrainAcc:0.990, ValLoss:5757.487, ValAcc:0.984, KL:28213.859\n",
      "Epoch:14, TrainLoss:4639.682, TrainAcc:0.990, ValLoss:6005.585, ValAcc:0.985, KL:28102.292\n",
      "Epoch:15, TrainLoss:4601.280, TrainAcc:0.991, ValLoss:5672.935, ValAcc:0.986, KL:27979.231\n",
      "Epoch:16, TrainLoss:4719.523, TrainAcc:0.990, ValLoss:6162.788, ValAcc:0.984, KL:27888.139\n",
      "Epoch:17, TrainLoss:4502.378, TrainAcc:0.991, ValLoss:5498.535, ValAcc:0.986, KL:27789.447\n",
      "Epoch:18, TrainLoss:4662.367, TrainAcc:0.990, ValLoss:5686.018, ValAcc:0.986, KL:27695.607\n",
      "Epoch:19, TrainLoss:4589.298, TrainAcc:0.990, ValLoss:5620.519, ValAcc:0.987, KL:27622.799\n",
      "Saved 1000 models\n"
     ]
    }
   ],
   "source": [
    "train_and_save_models(epochs = 20, K = 1000, modelname = \"models/model-cnn-adv-med0.18.pt\")"
   ]
  },
  {
   "cell_type": "markdown",
   "metadata": {},
   "source": []
  },
  {
   "cell_type": "markdown",
   "metadata": {},
   "source": [
    "## Adversarial Training (eps= 0.18, champ)"
   ]
  },
  {
   "cell_type": "code",
   "execution_count": 185,
   "metadata": {},
   "outputs": [],
   "source": [
    "# Train dataset\n",
    "train_dataset = torchvision.datasets.MNIST('.', train=True, download=True,\n",
    "                       transform=transform_mnist)"
   ]
  },
  {
   "cell_type": "code",
   "execution_count": 186,
   "metadata": {},
   "outputs": [],
   "source": [
    "transform_back = transforms.Compose([transforms.Resize((28,28))])"
   ]
  },
  {
   "cell_type": "code",
   "execution_count": 187,
   "metadata": {},
   "outputs": [],
   "source": [
    "dirs    = [d for d in os.listdir(\"mnist_adv_CNN_0.18/\") if d.startswith(\"train_images_champ\")]\n",
    "dir_ord = sorted([int(re.findall(\"[0-9]+\",d)[0]) for d in dirs])\n",
    "dirs    = sorted(dirs, key=lambda x: dir_ord.index(int(re.findall(\"[0-9]+\",x)[0])))"
   ]
  },
  {
   "cell_type": "code",
   "execution_count": 188,
   "metadata": {},
   "outputs": [],
   "source": [
    "images  = []\n",
    "targets = []\n",
    "for d in dirs:\n",
    "    with open(\"mnist_adv_CNN_0.18/\" + d, 'rb') as handle:\n",
    "        temp = pickle.load(handle)\n",
    "        images.append(temp[\"images\"])\n",
    "        targets.append(temp[\"labels\"])\n",
    "        \n",
    "images  = torch.vstack(images)\n",
    "images  = transform_back(images)\n",
    "images  = images[:,0,:,:]\n",
    "\n",
    "targets = torch.hstack(targets)"
   ]
  },
  {
   "cell_type": "code",
   "execution_count": 189,
   "metadata": {},
   "outputs": [],
   "source": [
    "train_dataset.data    = torch.vstack([train_dataset.data, images])\n",
    "train_dataset.targets = torch.hstack([train_dataset.targets, targets])\n",
    "\n",
    "train, val = random_split(train_dataset,[50000+images.shape[0],10000], generator=torch.Generator().manual_seed(156))\n",
    "\n",
    "# Train data loader\n",
    "train_loader = torch.utils.data.DataLoader(train, batch_size=128, shuffle=True)\n",
    "valid_loader = torch.utils.data.DataLoader(val  , batch_size=128, shuffle=True)"
   ]
  },
  {
   "cell_type": "code",
   "execution_count": 190,
   "metadata": {},
   "outputs": [],
   "source": [
    "img = next(iter(train_loader))"
   ]
  },
  {
   "cell_type": "code",
   "execution_count": 191,
   "metadata": {},
   "outputs": [
    {
     "data": {
      "image/png": "[encoded data removed]",
      "text/plain": [
       "<Figure size 432x288 with 1 Axes>"
      ]
     },
     "metadata": {
      "needs_background": "light"
     },
     "output_type": "display_data"
    }
   ],
   "source": [
    "ind = 10 # try 1\n",
    "plt.figure()\n",
    "plt.imshow(img[0][ind,0,:,:], cmap='gray')\n",
    "plt.title(\"Class: %s\" % img[1][ind].item())\n",
    "plt.show()"
   ]
  },
  {
   "cell_type": "code",
   "execution_count": 192,
   "metadata": {},
   "outputs": [],
   "source": [
    "def train_and_save_models(epochs = 10, K = 100, modelname = \"model-cnn-adv.pt\"):\n",
    "    if os.path.exists(modelname):\n",
    "        print(\"File exists\")\n",
    "        return\n",
    "    # Train with ELBO and Adam (Bayes by Backprop + LRT)\n",
    "    criterion = common.metrics.ELBO(len(trainset))\n",
    "    optimizer = Adam(net.parameters(), lr=lr_start)\n",
    "    lr_sched = lr_scheduler.ReduceLROnPlateau(optimizer, patience=6, verbose=True)\n",
    "    for epoch in range(epochs):  # loop over the dataset multiple times\n",
    "        train_loss, train_acc, train_kl = common.train_model(net, optimizer, criterion, train_loader, \n",
    "                                                             num_ens=train_ens, beta_type=beta_type, epoch=epoch,\n",
    "                                                             num_epochs=epochs)\n",
    "        valid_loss, valid_acc = common.validate_model(net, criterion, valid_loader, num_ens=valid_ens, \n",
    "                                                      beta_type=beta_type, epoch=epoch, num_epochs=epochs)\n",
    "        lr_sched.step(valid_loss)\n",
    "        print('Epoch:%d, TrainLoss:%.3f, TrainAcc:%.3f, ValLoss:%.3f, ValAcc:%.3f, KL:%.3f' % (\n",
    "            epoch, train_loss, train_acc, valid_loss, valid_acc, train_kl))\n",
    "    # Sample k models from the posterior\n",
    "    nn_dicts = []\n",
    "    for i in range(K):\n",
    "        sample_model = LeNet(outputs, inputs, layer_type, activation_type)\n",
    "        sample_model.sample(net)\n",
    "        nn_dicts += [sample_model.state_dict()]\n",
    "    # Save the models\n",
    "    torch.save(nn_dicts, modelname)\n",
    "    print(\"Saved %d models\" % K)"
   ]
  },
  {
   "cell_type": "code",
   "execution_count": 193,
   "metadata": {
    "scrolled": true
   },
   "outputs": [
    {
     "name": "stdout",
     "output_type": "stream",
     "text": [
      "Epoch:0, TrainLoss:5160.353, TrainAcc:0.987, ValLoss:6292.461, ValAcc:0.982, KL:27207.201\n",
      "Epoch:1, TrainLoss:5070.413, TrainAcc:0.988, ValLoss:6765.373, ValAcc:0.981, KL:27369.277\n",
      "Epoch:2, TrainLoss:5380.323, TrainAcc:0.987, ValLoss:6474.751, ValAcc:0.984, KL:27846.429\n",
      "Epoch:3, TrainLoss:5080.209, TrainAcc:0.988, ValLoss:6512.425, ValAcc:0.983, KL:28110.186\n",
      "Epoch:4, TrainLoss:5079.756, TrainAcc:0.988, ValLoss:6503.413, ValAcc:0.982, KL:28056.009\n",
      "Epoch:5, TrainLoss:5125.309, TrainAcc:0.988, ValLoss:6360.784, ValAcc:0.983, KL:28119.157\n",
      "Epoch:6, TrainLoss:4976.825, TrainAcc:0.989, ValLoss:6396.181, ValAcc:0.983, KL:28137.779\n",
      "Epoch:7, TrainLoss:4958.926, TrainAcc:0.989, ValLoss:5970.411, ValAcc:0.984, KL:28019.700\n",
      "Epoch:8, TrainLoss:4828.485, TrainAcc:0.989, ValLoss:7112.312, ValAcc:0.982, KL:27940.775\n",
      "Epoch:9, TrainLoss:4892.673, TrainAcc:0.989, ValLoss:6161.597, ValAcc:0.985, KL:27869.739\n",
      "Epoch:10, TrainLoss:4908.512, TrainAcc:0.989, ValLoss:6152.966, ValAcc:0.985, KL:27877.910\n",
      "Epoch:11, TrainLoss:4800.579, TrainAcc:0.989, ValLoss:6350.641, ValAcc:0.984, KL:27829.217\n",
      "Epoch:12, TrainLoss:4879.934, TrainAcc:0.989, ValLoss:6092.205, ValAcc:0.984, KL:27851.558\n",
      "Epoch:13, TrainLoss:4812.423, TrainAcc:0.990, ValLoss:6182.821, ValAcc:0.984, KL:27876.379\n",
      "Epoch    15: reducing learning rate of group 0 to 1.0000e-04.\n",
      "Epoch:14, TrainLoss:4837.644, TrainAcc:0.989, ValLoss:6446.608, ValAcc:0.983, KL:27734.907\n",
      "Epoch:15, TrainLoss:4491.932, TrainAcc:0.991, ValLoss:5714.341, ValAcc:0.986, KL:27660.305\n",
      "Epoch:16, TrainLoss:4419.275, TrainAcc:0.991, ValLoss:5804.200, ValAcc:0.986, KL:27538.684\n",
      "Epoch:17, TrainLoss:4411.149, TrainAcc:0.991, ValLoss:5859.347, ValAcc:0.986, KL:27408.838\n",
      "Epoch:18, TrainLoss:4434.558, TrainAcc:0.991, ValLoss:5629.992, ValAcc:0.987, KL:27295.888\n",
      "Epoch:19, TrainLoss:4322.917, TrainAcc:0.992, ValLoss:5877.044, ValAcc:0.986, KL:27184.804\n",
      "Saved 1000 models\n"
     ]
    }
   ],
   "source": [
    "train_and_save_models(epochs = 20, K = 1000, modelname = \"models/model-cnn-adv-champ0.18.pt\")"
   ]
  },
  {
   "cell_type": "code",
   "execution_count": null,
   "metadata": {},
   "outputs": [],
   "source": []
  }
 ],
 "metadata": {
  "kernelspec": {
   "display_name": "Python 3",
   "language": "python",
   "name": "python3"
  },
  "language_info": {
   "codemirror_mode": {
    "name": "ipython",
    "version": 3
   },
   "file_extension": ".py",
   "mimetype": "text/x-python",
   "name": "python",
   "nbconvert_exporter": "python",
   "pygments_lexer": "ipython3",
   "version": "3.9.2"
  }
 },
 "nbformat": 4,
 "nbformat_minor": 2
}
