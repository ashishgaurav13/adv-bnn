{
 "metadata": {
  "language_info": {
   "codemirror_mode": {
    "name": "ipython",
    "version": 3
   },
   "file_extension": ".py",
   "mimetype": "text/x-python",
   "name": "python",
   "nbconvert_exporter": "python",
   "pygments_lexer": "ipython3",
   "version": "3.7.10-final"
  },
  "orig_nbformat": 2,
  "kernelspec": {
   "name": "python3",
   "display_name": "Python 3.7.10 64-bit",
   "metadata": {
    "interpreter": {
     "hash": "aee8b7b246df8f9039afb4144a1f6fd8d2ca17a180786b69acc140d282b71a49"
    }
   }
  }
 },
 "nbformat": 4,
 "nbformat_minor": 2,
 "cells": [
  {
   "cell_type": "code",
   "execution_count": 1,
   "metadata": {},
   "outputs": [],
   "source": [
    "import torch, torchvision\n",
    "import numpy as np\n",
    "import matplotlib.pyplot as plt\n",
    "import pyro\n",
    "import tqdm"
   ]
  },
  {
   "cell_type": "code",
   "execution_count": 2,
   "metadata": {},
   "outputs": [],
   "source": [
    "# Reproducibility\n",
    "SEED=1\n",
    "torch.manual_seed(SEED)\n",
    "np.random.seed(SEED)\n",
    "pyro.set_rng_seed(SEED)"
   ]
  },
  {
   "cell_type": "code",
   "execution_count": 3,
   "metadata": {},
   "outputs": [],
   "source": [
    "class NN(torch.nn.Module):\n",
    "    def __init__(self, ni, nh, no):\n",
    "        super(NN, self).__init__()\n",
    "        self.A = torch.nn.Linear(ni, nh)\n",
    "        self.relu = torch.nn.ReLU()\n",
    "        self.B = torch.nn.Linear(nh, no)\n",
    "    def forward(self, x):\n",
    "        # Two layer neural network\n",
    "        x = self.B(self.relu(self.A(x)))\n",
    "        return x"
   ]
  },
  {
   "cell_type": "code",
   "execution_count": 4,
   "metadata": {},
   "outputs": [],
   "source": [
    "# Train dataset\n",
    "train_dataset = torchvision.datasets.MNIST('.', train=True, download=True,\n",
    "                       transform=torchvision.transforms.ToTensor())\n",
    "# Train data loader\n",
    "train_loader = torch.utils.data.DataLoader(train_dataset, batch_size=128, shuffle=True)\n",
    "# Point estimate NN\n",
    "net = NN(28*28, 1024, 10)"
   ]
  },
  {
   "cell_type": "code",
   "execution_count": 5,
   "metadata": {},
   "outputs": [],
   "source": [
    "def model(x, y):\n",
    "    # Put priors on weights and biases \n",
    "    priors = {\n",
    "        \"A.weight\": pyro.distributions.Normal(\n",
    "            loc=torch.zeros_like(net.A.weight), \n",
    "            scale=torch.ones_like(net.A.weight),\n",
    "        ).independent(2),\n",
    "        \"A.bias\": pyro.distributions.Normal(\n",
    "            loc=torch.zeros_like(net.A.bias), \n",
    "            scale=torch.ones_like(net.A.bias),\n",
    "        ).independent(1),\n",
    "        \"B.weight\": pyro.distributions.Normal(\n",
    "            loc=torch.zeros_like(net.B.weight), \n",
    "            scale=torch.ones_like(net.B.weight),\n",
    "        ).independent(2),\n",
    "        \"B.bias\": pyro.distributions.Normal(\n",
    "            loc=torch.zeros_like(net.B.bias), \n",
    "            scale=torch.ones_like(net.B.bias),\n",
    "        ).independent(1),\n",
    "    }\n",
    "    # Create a NN module using the priors\n",
    "    lmodule = pyro.random_module(\"module\", net, priors)\n",
    "    regressor = lmodule()\n",
    "    # Do a forward pass on the NN module, i.e. yhat=f(x) and condition on yhat=y\n",
    "    lhat = torch.nn.LogSoftmax(dim=1)(regressor(x))\n",
    "    pyro.sample(\"obs\", pyro.distributions.Categorical(logits=lhat).independent(1), obs=y)"
   ]
  },
  {
   "cell_type": "code",
   "execution_count": 6,
   "metadata": {},
   "outputs": [],
   "source": [
    "softplus = torch.nn.Softplus()\n",
    "def guide(x, y):\n",
    "    # Create parameters for variational distribution priors\n",
    "    Aw_mu = pyro.param(\"Aw_mu\", torch.randn_like(net.A.weight))\n",
    "    Aw_sigma = softplus(pyro.param(\"Aw_sigma\", torch.randn_like(net.A.weight)))\n",
    "    Ab_mu = pyro.param(\"Ab_mu\", torch.randn_like(net.A.bias))\n",
    "    Ab_sigma = softplus(pyro.param(\"Ab_sigma\", torch.randn_like(net.A.bias)))\n",
    "    Bw_mu = pyro.param(\"Bw_mu\", torch.randn_like(net.B.weight))\n",
    "    Bw_sigma = softplus(pyro.param(\"Bw_sigma\", torch.randn_like(net.B.weight)))\n",
    "    Bb_mu = pyro.param(\"Bb_mu\", torch.randn_like(net.B.bias))\n",
    "    Bb_sigma = softplus(pyro.param(\"Bb_sigma\", torch.randn_like(net.B.bias)))\n",
    "    # Create random variables similarly to model\n",
    "    priors = {\n",
    "        \"A.weight\": pyro.distributions.Normal(loc=Aw_mu, scale=Aw_sigma).independent(2),\n",
    "        \"A.bias\": pyro.distributions.Normal(loc=Ab_mu, scale=Ab_sigma).independent(1),\n",
    "        \"B.weight\": pyro.distributions.Normal(loc=Bw_mu, scale=Bw_sigma).independent(2),\n",
    "        \"B.bias\": pyro.distributions.Normal(loc=Bb_mu, scale=Bb_sigma).independent(1),\n",
    "    }\n",
    "    # Return NN module from these random variables\n",
    "    lmodule = pyro.random_module(\"module\", net, priors)\n",
    "    return lmodule()"
   ]
  },
  {
   "cell_type": "code",
   "execution_count": 7,
   "metadata": {},
   "outputs": [],
   "source": [
    "# Do stochastic variational inference to find q(w) closest to p(w|D)\n",
    "svi = pyro.infer.SVI(\n",
    "    model, guide, pyro.optim.Adam({'lr': 0.01}), pyro.infer.Trace_ELBO(),\n",
    ")"
   ]
  },
  {
   "cell_type": "code",
   "execution_count": 8,
   "metadata": {},
   "outputs": [
    {
     "output_type": "stream",
     "name": "stderr",
     "text": [
      "/usr/local/lib/python3.7/site-packages/pyro/primitives.py:451: FutureWarning: The `random_module` primitive is deprecated, and will be removed in a future release. Use `pyro.nn.Module` to create Bayesian modules from `torch.nn.Module` instances.\n",
      "  \"modules from `torch.nn.Module` instances.\", FutureWarning)\n",
      "Epoch 0: Loss = 2067.74\n",
      "Epoch 1: Loss = 364.151\n",
      "Epoch 2: Loss = 157.279\n",
      "Epoch 3: Loss = 109.82\n",
      "Epoch 4: Loss = 95.9101\n",
      "Epoch 5: Loss = 90.0523\n",
      "Epoch 6: Loss = 87.2406\n",
      "Epoch 7: Loss = 86.3989\n",
      "Epoch 8: Loss = 86.0325\n",
      "Epoch 9: Loss = 85.5419\n"
     ]
    }
   ],
   "source": [
    "# Train with SVI\n",
    "for epoch in range(10):\n",
    "    loss = 0.\n",
    "    for data in train_loader:\n",
    "        images, labels = data\n",
    "        images = images.view(-1, 28*28)\n",
    "        loss += svi.step(images, labels)\n",
    "    loss /= len(train_loader.dataset)\n",
    "    print(\"Epoch %g: Loss = %g\" % (epoch, loss))"
   ]
  },
  {
   "cell_type": "code",
   "execution_count": 16,
   "metadata": {},
   "outputs": [],
   "source": [
    "# Sample k models from the posterior\n",
    "K = 100\n",
    "sampled_models = [guide(None, None) for i in range(K)]"
   ]
  },
  {
   "cell_type": "code",
   "execution_count": 17,
   "metadata": {},
   "outputs": [],
   "source": [
    "# Test dataset\n",
    "test_dataset = torchvision.datasets.MNIST('.', train=False, download=True,\n",
    "                       transform=torchvision.transforms.ToTensor())\n",
    "# Test data loader with batch_size 1\n",
    "test_loader = torch.utils.data.DataLoader(test_dataset, batch_size=1, shuffle=True)"
   ]
  },
  {
   "cell_type": "code",
   "execution_count": 18,
   "metadata": {},
   "outputs": [],
   "source": [
    "# Get a batch and flatten the input\n",
    "images, targets = next(iter(test_loader))\n",
    "images = images.reshape(-1, 28*28)"
   ]
  },
  {
   "cell_type": "code",
   "execution_count": 26,
   "metadata": {},
   "outputs": [
    {
     "output_type": "execute_result",
     "data": {
      "text/plain": [
       "tensor([4])"
      ]
     },
     "metadata": {},
     "execution_count": 26
    }
   ],
   "source": [
    "targets"
   ]
  },
  {
   "cell_type": "code",
   "execution_count": 19,
   "metadata": {},
   "outputs": [],
   "source": [
    "# How many models can an adversarial example fool?\n",
    "def how_many_can_it_fool(sampled_models, saliency, eps = 0.18):\n",
    "    fool = 0\n",
    "    for k in range(K):\n",
    "        sm = sampled_models[k]\n",
    "        # Forward pass on sampled model k\n",
    "        output = sm(images)\n",
    "        output = torch.nn.LogSoftmax(dim=-1)(output)\n",
    "        old_class = torch.argmax(output).item()\n",
    "        # One step Target Class Method (OTCM); saliency is noise\n",
    "        new_images = torch.clamp(images.clone()-eps*saliency, 0, 1)\n",
    "        # Forward pass again on adv. example\n",
    "        output = sm(new_images)\n",
    "        output = torch.nn.LogSoftmax(dim=-1)(output)\n",
    "        new_class = torch.argmax(output).item()\n",
    "        # If we change the class, we fool the model\n",
    "        fool += int(old_class != new_class)\n",
    "    return fool/K"
   ]
  },
  {
   "cell_type": "code",
   "execution_count": 20,
   "metadata": {},
   "outputs": [],
   "source": [
    "# Collect noises (saliencies)\n",
    "saliencies = []\n",
    "how_many_fooled = []\n",
    "torch.set_printoptions(sci_mode=False)\n",
    "for k in range(100):\n",
    "    sm = sampled_models[k]\n",
    "    # Set requires_grad to True\n",
    "    images.grad = None\n",
    "    images.requires_grad = True\n",
    "    # Forward pass\n",
    "    output = sm(images)\n",
    "    sm.zero_grad()\n",
    "    output = torch.nn.LogSoftmax(dim=-1)(output)\n",
    "    old_class = torch.argmax(output).item()\n",
    "    # Compute loss w.r.t. target class 1 (an incorrect class)\n",
    "    # Note that we just have to ensure this class is different from targets\n",
    "    loss = torch.nn.NLLLoss()(output, torch.tensor([1]))\n",
    "    loss.backward()\n",
    "    # Compute adversarial example\n",
    "    otcm_grad = images.grad.clone()\n",
    "    new_images = torch.clamp(images.clone()-0.18*images.grad.sign(), 0, 1)\n",
    "    # Forward pass on adv. example\n",
    "    output = sm(new_images)\n",
    "    output = torch.nn.LogSoftmax(dim=-1)(output)\n",
    "    new_class = torch.argmax(output).item()\n",
    "    if old_class != new_class:\n",
    "        # How many models can this adv. example fool?\n",
    "        how_many_fooled += [how_many_can_it_fool(sampled_models, images.grad.sign(), eps=0.18)]\n",
    "        saliencies += [otcm_grad.sign().view(28, 28)]"
   ]
  },
  {
   "cell_type": "code",
   "execution_count": 21,
   "metadata": {},
   "outputs": [
    {
     "output_type": "stream",
     "name": "stdout",
     "text": [
      "torch.Size([100, 28, 28])\n"
     ]
    }
   ],
   "source": [
    "# distributional saliency map\n",
    "saliencies = torch.stack(saliencies)\n",
    "print(saliencies.shape)\n",
    "newsaliency = torch.zeros(28, 28)\n",
    "for i in range(28):\n",
    "    for j in range(28):\n",
    "        # choose median perturbation\n",
    "        newsaliency[i, j] = np.percentile(saliencies[:, i, j].numpy(), 50)"
   ]
  },
  {
   "cell_type": "code",
   "execution_count": 23,
   "metadata": {},
   "outputs": [
    {
     "output_type": "stream",
     "name": "stdout",
     "text": [
      "0.74\n"
     ]
    }
   ],
   "source": [
    "print(how_many_can_it_fool(sampled_models, newsaliency.flatten(), eps=0.18))\n",
    "new_images = torch.clamp(images.clone()-0.18*newsaliency.flatten(), 0, 1)"
   ]
  },
  {
   "cell_type": "code",
   "execution_count": 24,
   "metadata": {},
   "outputs": [
    {
     "output_type": "execute_result",
     "data": {
      "text/plain": [
       "[0.29,\n",
       " 0.19,\n",
       " 0.29,\n",
       " 0.22,\n",
       " 0.25,\n",
       " 0.23,\n",
       " 0.15,\n",
       " 0.29,\n",
       " 0.24,\n",
       " 0.21,\n",
       " 0.14,\n",
       " 0.2,\n",
       " 0.19,\n",
       " 0.28,\n",
       " 0.19,\n",
       " 0.12,\n",
       " 0.15,\n",
       " 0.17,\n",
       " 0.28,\n",
       " 0.09,\n",
       " 0.15,\n",
       " 0.17,\n",
       " 0.23,\n",
       " 0.29,\n",
       " 0.16,\n",
       " 0.22,\n",
       " 0.23,\n",
       " 0.28,\n",
       " 0.16,\n",
       " 0.25,\n",
       " 0.12,\n",
       " 0.17,\n",
       " 0.25,\n",
       " 0.2,\n",
       " 0.21,\n",
       " 0.26,\n",
       " 0.17,\n",
       " 0.24,\n",
       " 0.26,\n",
       " 0.34,\n",
       " 0.22,\n",
       " 0.24,\n",
       " 0.23,\n",
       " 0.25,\n",
       " 0.34,\n",
       " 0.26,\n",
       " 0.26,\n",
       " 0.18,\n",
       " 0.32,\n",
       " 0.25,\n",
       " 0.14,\n",
       " 0.24,\n",
       " 0.15,\n",
       " 0.16,\n",
       " 0.24,\n",
       " 0.23,\n",
       " 0.16,\n",
       " 0.15,\n",
       " 0.15,\n",
       " 0.24,\n",
       " 0.27,\n",
       " 0.19,\n",
       " 0.2,\n",
       " 0.25,\n",
       " 0.14,\n",
       " 0.24,\n",
       " 0.2,\n",
       " 0.09,\n",
       " 0.26,\n",
       " 0.3,\n",
       " 0.27,\n",
       " 0.22,\n",
       " 0.22,\n",
       " 0.2,\n",
       " 0.25,\n",
       " 0.32,\n",
       " 0.25,\n",
       " 0.21,\n",
       " 0.17,\n",
       " 0.3,\n",
       " 0.14,\n",
       " 0.13,\n",
       " 0.34,\n",
       " 0.23,\n",
       " 0.24,\n",
       " 0.22,\n",
       " 0.18,\n",
       " 0.23,\n",
       " 0.22,\n",
       " 0.15,\n",
       " 0.2,\n",
       " 0.17,\n",
       " 0.17,\n",
       " 0.28,\n",
       " 0.23,\n",
       " 0.19,\n",
       " 0.2,\n",
       " 0.2,\n",
       " 0.31,\n",
       " 0.12]"
      ]
     },
     "metadata": {},
     "execution_count": 24
    }
   ],
   "source": [
    "how_many_fooled"
   ]
  },
  {
   "cell_type": "code",
   "execution_count": 25,
   "metadata": {},
   "outputs": [
    {
     "output_type": "display_data",
     "data": {
      "text/plain": "<Figure size 432x288 with 3 Axes>",
      "image/svg+xml": "<?xml version=\"1.0\" encoding=\"utf-8\" standalone=\"no\"?>\n<!DOCTYPE svg PUBLIC \"-//W3C//DTD SVG 1.1//EN\"\n  \"http://www.w3.org/Graphics/SVG/1.1/DTD/svg11.dtd\">\n<!-- Created with matplotlib (https://matplotlib.org/) -->\n<svg height=\"131.589529pt\" version=\"1.1\" viewBox=\"0 0 368.925 131.589529\" width=\"368.925pt\" xmlns=\"http://www.w3.org/2000/svg\" xmlns:xlink=\"http://www.w3.org/1999/xlink\">\n <metadata>\n  <rdf:RDF xmlns:cc=\"http://creativecommons.org/ns#\" xmlns:dc=\"http://purl.org/dc/elements/1.1/\" xmlns:rdf=\"http://www.w3.org/1999/02/22-rdf-syntax-ns#\">\n   <cc:Work>\n    <dc:type rdf:resource=\"http://purl.org/dc/dcmitype/StillImage\"/>\n    <dc:date>2021-03-24T17:55:50.693761</dc:date>\n    <dc:format>image/svg+xml</dc:format>\n    <dc:creator>\n     <cc:Agent>\n      <dc:title>Matplotlib v3.3.4, https://matplotlib.org/</dc:title>\n     </cc:Agent>\n    </dc:creator>\n   </cc:Work>\n  </rdf:RDF>\n </metadata>\n <defs>\n  <style type=\"text/css\">*{stroke-linecap:butt;stroke-linejoin:round;}</style>\n </defs>\n <g id=\"figure_1\">\n  <g id=\"patch_1\">\n   <path d=\"M -0 131.589529 \nL 368.925 131.589529 \nL 368.925 0 \nL -0 0 \nz\n\" style=\"fill:none;\"/>\n  </g>\n  <g id=\"axes_1\">\n   <g id=\"patch_2\">\n    <path d=\"M 26.925 107.711404 \nL 125.395588 107.711404 \nL 125.395588 9.240815 \nL 26.925 9.240815 \nz\n\" style=\"fill:#ffffff;\"/>\n   </g>\n   <g clip-path=\"url(#p37f50412d9)\">\n    <image height=\"99\" id=\"image9460b1b217\" transform=\"scale(1 -1)translate(0 -99)\" width=\"99\" x=\"26.925\" xlink:href=\"data:image/png;base64,\niVBORw0KGgoAAAANSUhEUgAAAGMAAABjCAYAAACPO76VAAAD8UlEQVR4nO2dTUgUYRjHZ9fdlTULyyJLUMuPssA+KMVAKBE6ZEFSEASSEUEGBn0cgjpIUAejpEtQQXjJ6tShEiT6gDCKQlqL3DCrQ4csYy1Ra9vZbu/sMzWrrDO7/9z/7/Q8PrM7L/z2ed/Z+Vhdda4dUY1A4E71AIgBZQBBGUBQBhCUAQRlAEEZQFAGEJQBBGUAQRlAUAYQlAEEZQBBGUBQBhCUAYQn1QNIBh9bN6h4bd0bUQtt0VUcCY0kbUz/gp0BBGUAMSOnqbGGKpFfbzyv4nKf/PxVHG1RcdGJJ84ObBLYGUBQBhCUAcSMXDNyD30QuXmdQOX/GGWaQBlAUAYQlAEEZQBBGUDYdmj7dX+1ine1dIvaev97FbtduqjpUePzcCu0VtS6utZb7i//4S8Ve++9ELVPHUtF7j5l/Zmbs3rYspZs2BlAUAYQrkQfI8soWSLyxjsPVbw9e8jydW6Tf13TLbaMT+z7JPoemqZpTyYyVXymuCLh97EDdgYQlAEEZQCR8KFteFGOyOOtE7G0Da8Qua65pvS6yqx3In8+Zhy+rssaFLUib0jkhR7flPaRatgZQFAGEAlPU56RcZG/NL4Qa6vizAqPKvwJ7a9nZYPII6+DKn5sqg1VzxP5tZNnVYw8ZbEzgKAMICgDiIRPh5jxP1qo4hslty23q2w7JPK89h47dh+XmsCEio/l9onaYDis4sP1e0VNf9Xv7MBMsDOAoAwgKAMI2670BQJFKnaXWDs+fqBT5FfbC+0agiVuLRoTy7GV+7JU3H84W9TK5BLiOOwMICgDCNumqbzHxtlXvcH6yltroF7kBVqfxZb2cfl5jYqPbH4lauGYA/uOjVdE7fSa3SqO9r52ZnAxsDOAoAwgKAMI29aMnBefVdw1NlfUFmR8V3HBTufXCDPL20dVPFD7W9TKvMYp9arMsKj9KJ2t4uxehwYXAzsDCMoAwrZpKjJg3E978lKjqOU9M64KurUk9LsJPWCcff0SmSVqZd6wefOUwc4AgjKAoAwgHHn0eHGb81fvEqWpe5/I3267mKKR/A07AwjKAGJG/kJCPHzDGSL3uow8nOJ/eMTOAIIygKAMINJuzTATjkZUbH42MPfgBxX/vOn8WNgZQFAGEGk/TcWjOf+Bii8s2ypqkeCA7ftjZwBBGUBQBhBpt2YUd36Tf2iy3naT37iR4dx8eR+uK2jeevqwM4CgDCDSbpqKfWR5Mh6MG1OT5+uoqEXMG9sAOwMIygCCMoBIuzXDzPL7xg0K/bXy+Yzmu3tUXBp86vhY2BlAUAYQtv1CApk+7AwgKAMIygCCMoCgDCAoAwjKAIIygKAMICgDiD9k47ELyM1BawAAAABJRU5ErkJggg==\" y=\"-8.711404\"/>\n   </g>\n   <g id=\"matplotlib.axis_1\">\n    <g id=\"xtick_1\">\n     <g id=\"line2d_1\">\n      <defs>\n       <path d=\"M 0 0 \nL 0 3.5 \n\" id=\"m8d13191275\" style=\"stroke:#000000;stroke-width:0.8;\"/>\n      </defs>\n      <g>\n       <use style=\"stroke:#000000;stroke-width:0.8;\" x=\"28.683403\" xlink:href=\"#m8d13191275\" y=\"107.711404\"/>\n      </g>\n     </g>\n     <g id=\"text_1\">\n      <!-- 0 -->\n      <g transform=\"translate(25.502153 122.309841)scale(0.1 -0.1)\">\n       <defs>\n        <path d=\"M 31.78125 66.40625 \nQ 24.171875 66.40625 20.328125 58.90625 \nQ 16.5 51.421875 16.5 36.375 \nQ 16.5 21.390625 20.328125 13.890625 \nQ 24.171875 6.390625 31.78125 6.390625 \nQ 39.453125 6.390625 43.28125 13.890625 \nQ 47.125 21.390625 47.125 36.375 \nQ 47.125 51.421875 43.28125 58.90625 \nQ 39.453125 66.40625 31.78125 66.40625 \nz\nM 31.78125 74.21875 \nQ 44.046875 74.21875 50.515625 64.515625 \nQ 56.984375 54.828125 56.984375 36.375 \nQ 56.984375 17.96875 50.515625 8.265625 \nQ 44.046875 -1.421875 31.78125 -1.421875 \nQ 19.53125 -1.421875 13.0625 8.265625 \nQ 6.59375 17.96875 6.59375 36.375 \nQ 6.59375 54.828125 13.0625 64.515625 \nQ 19.53125 74.21875 31.78125 74.21875 \nz\n\" id=\"DejaVuSans-48\"/>\n       </defs>\n       <use xlink:href=\"#DejaVuSans-48\"/>\n      </g>\n     </g>\n    </g>\n    <g id=\"xtick_2\">\n     <g id=\"line2d_2\">\n      <g>\n       <use style=\"stroke:#000000;stroke-width:0.8;\" x=\"63.851471\" xlink:href=\"#m8d13191275\" y=\"107.711404\"/>\n      </g>\n     </g>\n     <g id=\"text_2\">\n      <!-- 10 -->\n      <g transform=\"translate(57.488971 122.309841)scale(0.1 -0.1)\">\n       <defs>\n        <path d=\"M 12.40625 8.296875 \nL 28.515625 8.296875 \nL 28.515625 63.921875 \nL 10.984375 60.40625 \nL 10.984375 69.390625 \nL 28.421875 72.90625 \nL 38.28125 72.90625 \nL 38.28125 8.296875 \nL 54.390625 8.296875 \nL 54.390625 0 \nL 12.40625 0 \nz\n\" id=\"DejaVuSans-49\"/>\n       </defs>\n       <use xlink:href=\"#DejaVuSans-49\"/>\n       <use x=\"63.623047\" xlink:href=\"#DejaVuSans-48\"/>\n      </g>\n     </g>\n    </g>\n    <g id=\"xtick_3\">\n     <g id=\"line2d_3\">\n      <g>\n       <use style=\"stroke:#000000;stroke-width:0.8;\" x=\"99.019538\" xlink:href=\"#m8d13191275\" y=\"107.711404\"/>\n      </g>\n     </g>\n     <g id=\"text_3\">\n      <!-- 20 -->\n      <g transform=\"translate(92.657038 122.309841)scale(0.1 -0.1)\">\n       <defs>\n        <path d=\"M 19.1875 8.296875 \nL 53.609375 8.296875 \nL 53.609375 0 \nL 7.328125 0 \nL 7.328125 8.296875 \nQ 12.9375 14.109375 22.625 23.890625 \nQ 32.328125 33.6875 34.8125 36.53125 \nQ 39.546875 41.84375 41.421875 45.53125 \nQ 43.3125 49.21875 43.3125 52.78125 \nQ 43.3125 58.59375 39.234375 62.25 \nQ 35.15625 65.921875 28.609375 65.921875 \nQ 23.96875 65.921875 18.8125 64.3125 \nQ 13.671875 62.703125 7.8125 59.421875 \nL 7.8125 69.390625 \nQ 13.765625 71.78125 18.9375 73 \nQ 24.125 74.21875 28.421875 74.21875 \nQ 39.75 74.21875 46.484375 68.546875 \nQ 53.21875 62.890625 53.21875 53.421875 \nQ 53.21875 48.921875 51.53125 44.890625 \nQ 49.859375 40.875 45.40625 35.40625 \nQ 44.1875 33.984375 37.640625 27.21875 \nQ 31.109375 20.453125 19.1875 8.296875 \nz\n\" id=\"DejaVuSans-50\"/>\n       </defs>\n       <use xlink:href=\"#DejaVuSans-50\"/>\n       <use x=\"63.623047\" xlink:href=\"#DejaVuSans-48\"/>\n      </g>\n     </g>\n    </g>\n   </g>\n   <g id=\"matplotlib.axis_2\">\n    <g id=\"ytick_1\">\n     <g id=\"line2d_4\">\n      <defs>\n       <path d=\"M 0 0 \nL -3.5 0 \n\" id=\"m793b1021e7\" style=\"stroke:#000000;stroke-width:0.8;\"/>\n      </defs>\n      <g>\n       <use style=\"stroke:#000000;stroke-width:0.8;\" x=\"26.925\" xlink:href=\"#m793b1021e7\" y=\"10.999219\"/>\n      </g>\n     </g>\n     <g id=\"text_4\">\n      <!-- 0 -->\n      <g transform=\"translate(13.5625 14.798438)scale(0.1 -0.1)\">\n       <use xlink:href=\"#DejaVuSans-48\"/>\n      </g>\n     </g>\n    </g>\n    <g id=\"ytick_2\">\n     <g id=\"line2d_5\">\n      <g>\n       <use style=\"stroke:#000000;stroke-width:0.8;\" x=\"26.925\" xlink:href=\"#m793b1021e7\" y=\"46.167286\"/>\n      </g>\n     </g>\n     <g id=\"text_5\">\n      <!-- 10 -->\n      <g transform=\"translate(7.2 49.966505)scale(0.1 -0.1)\">\n       <use xlink:href=\"#DejaVuSans-49\"/>\n       <use x=\"63.623047\" xlink:href=\"#DejaVuSans-48\"/>\n      </g>\n     </g>\n    </g>\n    <g id=\"ytick_3\">\n     <g id=\"line2d_6\">\n      <g>\n       <use style=\"stroke:#000000;stroke-width:0.8;\" x=\"26.925\" xlink:href=\"#m793b1021e7\" y=\"81.335353\"/>\n      </g>\n     </g>\n     <g id=\"text_6\">\n      <!-- 20 -->\n      <g transform=\"translate(7.2 85.134572)scale(0.1 -0.1)\">\n       <use xlink:href=\"#DejaVuSans-50\"/>\n       <use x=\"63.623047\" xlink:href=\"#DejaVuSans-48\"/>\n      </g>\n     </g>\n    </g>\n   </g>\n   <g id=\"patch_3\">\n    <path d=\"M 26.925 107.711404 \nL 26.925 9.240815 \n\" style=\"fill:none;stroke:#000000;stroke-linecap:square;stroke-linejoin:miter;stroke-width:0.8;\"/>\n   </g>\n   <g id=\"patch_4\">\n    <path d=\"M 125.395588 107.711404 \nL 125.395588 9.240815 \n\" style=\"fill:none;stroke:#000000;stroke-linecap:square;stroke-linejoin:miter;stroke-width:0.8;\"/>\n   </g>\n   <g id=\"patch_5\">\n    <path d=\"M 26.925 107.711404 \nL 125.395588 107.711404 \n\" style=\"fill:none;stroke:#000000;stroke-linecap:square;stroke-linejoin:miter;stroke-width:0.8;\"/>\n   </g>\n   <g id=\"patch_6\">\n    <path d=\"M 26.925 9.240815 \nL 125.395588 9.240815 \n\" style=\"fill:none;stroke:#000000;stroke-linecap:square;stroke-linejoin:miter;stroke-width:0.8;\"/>\n   </g>\n  </g>\n  <g id=\"axes_2\">\n   <g id=\"patch_7\">\n    <path d=\"M 145.089706 107.711404 \nL 243.560294 107.711404 \nL 243.560294 9.240815 \nL 145.089706 9.240815 \nz\n\" style=\"fill:#ffffff;\"/>\n   </g>\n   <g clip-path=\"url(#p7e637cc0b5)\">\n    <image height=\"99\" id=\"imagee31a664b57\" transform=\"scale(1 -1)translate(0 -99)\" width=\"99\" x=\"145.089706\" xlink:href=\"data:image/png;base64,\niVBORw0KGgoAAAANSUhEUgAAAGMAAABjCAYAAACPO76VAAADaklEQVR4nO2dwXEUMRBFtdRGwZUNYI8EQBUJULUpcHUkvpICIZABRwKAq4mCMjesaXna6rakfUv9d1p7ZzQ786tbrR6pdfhw+PRYKr49/Ch7fHx7Dh/3mjZtO71tRsjeUy+RNt+kriCmIDFASAwQhz+/T48vH9YS6Rfeff387/Ovy5dUm5H+I+vfI9TXrO+vlNg91sgyQEgMEEf7j95Q7+f9e3Pe02d7Xm22EffWS8QtZV2aPc9zvb3P0H4nywAhMUBIDBBuaGv9ad1PeOFbhNr3nu6+D2kz0i/MuKdsikWWAUJigDhGwsLsyNLjVHKuKRsSty6s+uNSzHfnrut54XpkdC7LACExQEgMEE06pJcVmdHs9SP9ievfH/rSON71bB+xCeVNfynLACExQDQj8N4JAtd4obPHa35Lr0uzLqzOFkSe095xpcgyUEgMEBIDhNtn3Cr2LWTWv894FvVvs1lqWQYIiQGiydrOmG+6mmaCwN2567wmfE1mlD08lynLACExQEgMEG7WdtSahLodG3bW/t1LObx0jcjv2WPUhIhe7P3KMkBIDBAHu4ysF8/dzJhPe228iQXZLLHcFBiJAUJigJjSZ6ygd2naLGakhmQZICQGiGYE7q0w3YZlWze1ms1o+bJ/3CxmZLdlGSAkBgiJASK0jIyU1ujNBNNQhYQbQWKAkBggQuUqVlRGy9C8obvCuKOmd5xh+zpZBgiJAcLN2pJCWcuMNRhZRrlvWQYIiQFCYoBo+gxv/cDecaVcNwUxqhJbtm8Z9dZPlgFCYoBIT0jwWBESr14rsmKJmSwDhMQAITFAhGqhzwgDe+udr2BU2Yns9WQZICQGiGOkoGENebJCFs/dRO7XW4NRZzVUVQeMxAAhMUCEqup4GV1SiDqDSJ+oSmz/ARIDhLs+w+KtybhV1zTDvWZH67IMEBIDhMQAEds/o6oN7u01Ifbx+ihZBgiJASL9csnSu2SZ7M5mZJ4jz0KWAUJigJAYIJp0iFetJrtZure1DZkRm8pHJr/JMkBIDBCNm/Kq1aR3qXTqf3tk52lF6uOOIFLHt9w/fdSWDWAkBgiJASK9g6X1hZvdgwOMmL9r8fbPiBRH3mSpA2yHAH3HlSLLQCExQEypkDCj4EvvfK7nWB3aenhuWZYBQmKAkBgg/gIDiLcN198a6wAAAABJRU5ErkJggg==\" y=\"-8.711404\"/>\n   </g>\n   <g id=\"matplotlib.axis_3\">\n    <g id=\"xtick_4\">\n     <g id=\"line2d_7\">\n      <g>\n       <use style=\"stroke:#000000;stroke-width:0.8;\" x=\"146.848109\" xlink:href=\"#m8d13191275\" y=\"107.711404\"/>\n      </g>\n     </g>\n     <g id=\"text_7\">\n      <!-- 0 -->\n      <g transform=\"translate(143.666859 122.309841)scale(0.1 -0.1)\">\n       <use xlink:href=\"#DejaVuSans-48\"/>\n      </g>\n     </g>\n    </g>\n    <g id=\"xtick_5\">\n     <g id=\"line2d_8\">\n      <g>\n       <use style=\"stroke:#000000;stroke-width:0.8;\" x=\"182.016176\" xlink:href=\"#m8d13191275\" y=\"107.711404\"/>\n      </g>\n     </g>\n     <g id=\"text_8\">\n      <!-- 10 -->\n      <g transform=\"translate(175.653676 122.309841)scale(0.1 -0.1)\">\n       <use xlink:href=\"#DejaVuSans-49\"/>\n       <use x=\"63.623047\" xlink:href=\"#DejaVuSans-48\"/>\n      </g>\n     </g>\n    </g>\n    <g id=\"xtick_6\">\n     <g id=\"line2d_9\">\n      <g>\n       <use style=\"stroke:#000000;stroke-width:0.8;\" x=\"217.184244\" xlink:href=\"#m8d13191275\" y=\"107.711404\"/>\n      </g>\n     </g>\n     <g id=\"text_9\">\n      <!-- 20 -->\n      <g transform=\"translate(210.821744 122.309841)scale(0.1 -0.1)\">\n       <use xlink:href=\"#DejaVuSans-50\"/>\n       <use x=\"63.623047\" xlink:href=\"#DejaVuSans-48\"/>\n      </g>\n     </g>\n    </g>\n   </g>\n   <g id=\"matplotlib.axis_4\">\n    <g id=\"ytick_4\">\n     <g id=\"line2d_10\">\n      <g>\n       <use style=\"stroke:#000000;stroke-width:0.8;\" x=\"145.089706\" xlink:href=\"#m793b1021e7\" y=\"10.999219\"/>\n      </g>\n     </g>\n     <g id=\"text_10\">\n      <!-- 0 -->\n      <g transform=\"translate(131.727206 14.798438)scale(0.1 -0.1)\">\n       <use xlink:href=\"#DejaVuSans-48\"/>\n      </g>\n     </g>\n    </g>\n    <g id=\"ytick_5\">\n     <g id=\"line2d_11\">\n      <g>\n       <use style=\"stroke:#000000;stroke-width:0.8;\" x=\"145.089706\" xlink:href=\"#m793b1021e7\" y=\"46.167286\"/>\n      </g>\n     </g>\n     <g id=\"text_11\">\n      <!-- 10 -->\n      <g transform=\"translate(125.364706 49.966505)scale(0.1 -0.1)\">\n       <use xlink:href=\"#DejaVuSans-49\"/>\n       <use x=\"63.623047\" xlink:href=\"#DejaVuSans-48\"/>\n      </g>\n     </g>\n    </g>\n    <g id=\"ytick_6\">\n     <g id=\"line2d_12\">\n      <g>\n       <use style=\"stroke:#000000;stroke-width:0.8;\" x=\"145.089706\" xlink:href=\"#m793b1021e7\" y=\"81.335353\"/>\n      </g>\n     </g>\n     <g id=\"text_12\">\n      <!-- 20 -->\n      <g transform=\"translate(125.364706 85.134572)scale(0.1 -0.1)\">\n       <use xlink:href=\"#DejaVuSans-50\"/>\n       <use x=\"63.623047\" xlink:href=\"#DejaVuSans-48\"/>\n      </g>\n     </g>\n    </g>\n   </g>\n   <g id=\"patch_8\">\n    <path d=\"M 145.089706 107.711404 \nL 145.089706 9.240815 \n\" style=\"fill:none;stroke:#000000;stroke-linecap:square;stroke-linejoin:miter;stroke-width:0.8;\"/>\n   </g>\n   <g id=\"patch_9\">\n    <path d=\"M 243.560294 107.711404 \nL 243.560294 9.240815 \n\" style=\"fill:none;stroke:#000000;stroke-linecap:square;stroke-linejoin:miter;stroke-width:0.8;\"/>\n   </g>\n   <g id=\"patch_10\">\n    <path d=\"M 145.089706 107.711404 \nL 243.560294 107.711404 \n\" style=\"fill:none;stroke:#000000;stroke-linecap:square;stroke-linejoin:miter;stroke-width:0.8;\"/>\n   </g>\n   <g id=\"patch_11\">\n    <path d=\"M 145.089706 9.240815 \nL 243.560294 9.240815 \n\" style=\"fill:none;stroke:#000000;stroke-linecap:square;stroke-linejoin:miter;stroke-width:0.8;\"/>\n   </g>\n  </g>\n  <g id=\"axes_3\">\n   <g id=\"patch_12\">\n    <path d=\"M 263.254412 107.711404 \nL 361.725 107.711404 \nL 361.725 9.240815 \nL 263.254412 9.240815 \nz\n\" style=\"fill:#ffffff;\"/>\n   </g>\n   <g clip-path=\"url(#p855d0c919a)\">\n    <image height=\"99\" id=\"imagec0e478e718\" transform=\"scale(1 -1)translate(0 -99)\" width=\"99\" x=\"263.254412\" xlink:href=\"data:image/png;base64,\niVBORw0KGgoAAAANSUhEUgAAAGMAAABjCAYAAACPO76VAAAFKklEQVR4nO2dX2wURRzHd71iLdAUi0ZKoF4s9I+oUWMwXGpQ0BgTE2PCHxOfDA+gTyZ9MxIg6RMJPhJfjD5BylMfTHgAYqMNUDVWbLREUi2FkhKxVZCekd4dDyaz+5tjpzM/Zvd+13w/T7+52ZvfbL/dmd/O/nYu3PZSfyWI8cDwj0ES5d5nnY+7nzb1dmzbdIF7TrY4/Z1YHkAqQAxBQAxBhK+GOyqLH1aNy7zgo02X+YM7vrvAPV/jefC6AtIAYgiiQf/ANtQzDQ2+wl5bXIYl7pDm0k/u3xBXhiAghiAghiCMoW0a47sJXyFpLZZVkvxhOaROgRiCaPA1NGRx1xuHO7y4hORZh+u4MgQBMQQBMQRRtRxiS9ZzhIt/fcye/nBB2cX3XiB1nXu+t2rHNC/4Co9xZQgCYgiiwVeoV8thS+/L1IECKY8XjiZ+t7B7n7KbB85b+/ARElf5sD4SpA7EEATEEIQxtDXNA7UObePofenaNpF47KE/niTlW+/cVHbzgLldW/+mOuOTPytvIBMghiCqVm3TyDfNmgvjj9MPNtamH/fCFPbiyhAExBAExBAEO7TVmdjVqOzm9puk7sLm48r++l/6vU+uvK7s/Mo/Sd2Zqc5Ef+venYz6OT9P6rpv9ZByf6Fb2bmwTOr2dX2j7MHe7Yn+sgBXhiAghiBC/TUyW5bN/E3K80ejZoaeGiR18btefZgoVXj/D/F2uG0EQRCM/rVe2cWt11lt3E+uL6ljeQepADEEATEEwU5IuNO2ipRfeWxE2frKaJyBiedJuVIJrfzlW2dJudD6m7LPz9Hlj7YmGlqve2jOyocL3KUhvEZWJ0AMQVQNU9a5Qs90k7rxf9You2flTKLDtW//4tjF/7mjlb/q3XLPfgVBEFx5bhM9+NPI9DVkpbKbAq8rIA0ghiAghiCqkthsKf90kZRHxjYru2dL8pxRepmGtrmhH1j+TVRGfyblc9PRHLKzg84ZqxtvK/uqJ//c+QRXhiAghiAghiCctqswjXetozll5wrlxOMWPqLLGrkhU/fsWCzDJQyj5X19Cb9zRbRs/l3fa6Su7chZL/1JAtkhgoEYgnB69dgUsq2ZjlZOSx8ka3z97FpSbg8mrf3bop9TOLxc2aUnkvu24a1LpHz7CM9fHLyfUadADEFADEE4LaEnHRcEQbDw+2VlD9/oIHUtDxaV3X6QFy6a/C827zXORqHtZHE1qfu8PUpiO6RlmXyb36DshckpRi8dM0dYHkAqQAxBsJPYTJSW09Fv2enRqFAuefHBfZp26sQX1sd2ffa+svP7z3nxbwJXhiAghiAghiCcnvRZb55r2YbeThbvDL756xuk/GXnSWWbku90fPQbq7aCgRiC8Lb5V9p73vri8tzDiXUHHqUJdseCrcp22unAMiEB+9oKBmIIAmIIomovdNuV2lqHqFxm+v4j5bEXjyUee6YYJVkc7nja2gf2Ql8CQAxBGB8uuSB5aDLRfyN6z+TjR2j+8PamaIX5sEObyLVdAkAMQUAMQbCT2CRtMuxC02AL/aAvW//G24NsuwJMQAxBsB8u6dTL3XnLRJGU4+Gs/nBpZDYfK11j+cO+tnUKxBAExBCE05M+bh6uZPZejba9WK9tZXFxLNqlbaNhznD5CSAsh9QJEEMQxodLvn6wlvuzN9zvmdox4Wt4xcOlJQDEEATEEAQ7ic3Xqq2vecGWTH69mHkLgCtDEBBDEMbXyNJITqhFm2mvFPsK13FlCAJiCAJiCOIuTjHxJnl4IUoAAAAASUVORK5CYII=\" y=\"-8.711404\"/>\n   </g>\n   <g id=\"matplotlib.axis_5\">\n    <g id=\"xtick_7\">\n     <g id=\"line2d_13\">\n      <g>\n       <use style=\"stroke:#000000;stroke-width:0.8;\" x=\"265.012815\" xlink:href=\"#m8d13191275\" y=\"107.711404\"/>\n      </g>\n     </g>\n     <g id=\"text_13\">\n      <!-- 0 -->\n      <g transform=\"translate(261.831565 122.309841)scale(0.1 -0.1)\">\n       <use xlink:href=\"#DejaVuSans-48\"/>\n      </g>\n     </g>\n    </g>\n    <g id=\"xtick_8\">\n     <g id=\"line2d_14\">\n      <g>\n       <use style=\"stroke:#000000;stroke-width:0.8;\" x=\"300.180882\" xlink:href=\"#m8d13191275\" y=\"107.711404\"/>\n      </g>\n     </g>\n     <g id=\"text_14\">\n      <!-- 10 -->\n      <g transform=\"translate(293.818382 122.309841)scale(0.1 -0.1)\">\n       <use xlink:href=\"#DejaVuSans-49\"/>\n       <use x=\"63.623047\" xlink:href=\"#DejaVuSans-48\"/>\n      </g>\n     </g>\n    </g>\n    <g id=\"xtick_9\">\n     <g id=\"line2d_15\">\n      <g>\n       <use style=\"stroke:#000000;stroke-width:0.8;\" x=\"335.34895\" xlink:href=\"#m8d13191275\" y=\"107.711404\"/>\n      </g>\n     </g>\n     <g id=\"text_15\">\n      <!-- 20 -->\n      <g transform=\"translate(328.98645 122.309841)scale(0.1 -0.1)\">\n       <use xlink:href=\"#DejaVuSans-50\"/>\n       <use x=\"63.623047\" xlink:href=\"#DejaVuSans-48\"/>\n      </g>\n     </g>\n    </g>\n   </g>\n   <g id=\"matplotlib.axis_6\">\n    <g id=\"ytick_7\">\n     <g id=\"line2d_16\">\n      <g>\n       <use style=\"stroke:#000000;stroke-width:0.8;\" x=\"263.254412\" xlink:href=\"#m793b1021e7\" y=\"10.999219\"/>\n      </g>\n     </g>\n     <g id=\"text_16\">\n      <!-- 0 -->\n      <g transform=\"translate(249.891912 14.798438)scale(0.1 -0.1)\">\n       <use xlink:href=\"#DejaVuSans-48\"/>\n      </g>\n     </g>\n    </g>\n    <g id=\"ytick_8\">\n     <g id=\"line2d_17\">\n      <g>\n       <use style=\"stroke:#000000;stroke-width:0.8;\" x=\"263.254412\" xlink:href=\"#m793b1021e7\" y=\"46.167286\"/>\n      </g>\n     </g>\n     <g id=\"text_17\">\n      <!-- 10 -->\n      <g transform=\"translate(243.529412 49.966505)scale(0.1 -0.1)\">\n       <use xlink:href=\"#DejaVuSans-49\"/>\n       <use x=\"63.623047\" xlink:href=\"#DejaVuSans-48\"/>\n      </g>\n     </g>\n    </g>\n    <g id=\"ytick_9\">\n     <g id=\"line2d_18\">\n      <g>\n       <use style=\"stroke:#000000;stroke-width:0.8;\" x=\"263.254412\" xlink:href=\"#m793b1021e7\" y=\"81.335353\"/>\n      </g>\n     </g>\n     <g id=\"text_18\">\n      <!-- 20 -->\n      <g transform=\"translate(243.529412 85.134572)scale(0.1 -0.1)\">\n       <use xlink:href=\"#DejaVuSans-50\"/>\n       <use x=\"63.623047\" xlink:href=\"#DejaVuSans-48\"/>\n      </g>\n     </g>\n    </g>\n   </g>\n   <g id=\"patch_13\">\n    <path d=\"M 263.254412 107.711404 \nL 263.254412 9.240815 \n\" style=\"fill:none;stroke:#000000;stroke-linecap:square;stroke-linejoin:miter;stroke-width:0.8;\"/>\n   </g>\n   <g id=\"patch_14\">\n    <path d=\"M 361.725 107.711404 \nL 361.725 9.240815 \n\" style=\"fill:none;stroke:#000000;stroke-linecap:square;stroke-linejoin:miter;stroke-width:0.8;\"/>\n   </g>\n   <g id=\"patch_15\">\n    <path d=\"M 263.254412 107.711404 \nL 361.725 107.711404 \n\" style=\"fill:none;stroke:#000000;stroke-linecap:square;stroke-linejoin:miter;stroke-width:0.8;\"/>\n   </g>\n   <g id=\"patch_16\">\n    <path d=\"M 263.254412 9.240815 \nL 361.725 9.240815 \n\" style=\"fill:none;stroke:#000000;stroke-linecap:square;stroke-linejoin:miter;stroke-width:0.8;\"/>\n   </g>\n  </g>\n </g>\n <defs>\n  <clipPath id=\"p37f50412d9\">\n   <rect height=\"98.470588\" width=\"98.470588\" x=\"26.925\" y=\"9.240815\"/>\n  </clipPath>\n  <clipPath id=\"p7e637cc0b5\">\n   <rect height=\"98.470588\" width=\"98.470588\" x=\"145.089706\" y=\"9.240815\"/>\n  </clipPath>\n  <clipPath id=\"p855d0c919a\">\n   <rect height=\"98.470588\" width=\"98.470588\" x=\"263.254412\" y=\"9.240815\"/>\n  </clipPath>\n </defs>\n</svg>\n",
      "image/png": "[encoded data removed]"
     },
     "metadata": {
      "needs_background": "light"
     }
    }
   ],
   "source": [
    "plt.figure()\n",
    "plt.subplot(1, 3, 1)\n",
    "plt.imshow(images.reshape(28, 28).detach().numpy())\n",
    "plt.subplot(1, 3, 2)\n",
    "plt.imshow((newsaliency*0.18).reshape(28, 28).detach().numpy())\n",
    "plt.subplot(1, 3, 3)\n",
    "plt.imshow(new_images.reshape(28, 28).detach().numpy())\n",
    "plt.show()"
   ]
  },
  {
   "cell_type": "code",
   "execution_count": null,
   "metadata": {},
   "outputs": [],
   "source": []
  }
 ]
}